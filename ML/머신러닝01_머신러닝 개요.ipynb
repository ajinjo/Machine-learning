{
 "cells": [
  {
   "cell_type": "markdown",
   "id": "65a1880a",
   "metadata": {},
   "source": [
    "# 기계학습 원리와 활용"
   ]
  },
  {
   "cell_type": "markdown",
   "id": "884028c2",
   "metadata": {},
   "source": [
    "## 교재 : 파이썬 머신러닝 완벽가이드 "
   ]
  },
  {
   "cell_type": "markdown",
   "id": "27558270",
   "metadata": {},
   "source": [
    "인공지능 : 인간의 학습 능력, 추론 능력 등을 컴퓨터를 통해 구현하는 포괄적인 개념"
   ]
  },
  {
   "cell_type": "markdown",
   "id": "12ac1571",
   "metadata": {},
   "source": [
    "인공지능 > 머신러닝 > 딥러닝 "
   ]
  },
  {
   "cell_type": "markdown",
   "id": "a55388ff",
   "metadata": {},
   "source": [
    "머신러닝 (기계학습)\n",
    "- 인공지능의 한 분야\n",
    "- 데이터를 이용하여 명시적으로 정의되지 않은 패턴을 학습해서 미래 결과(값,분포)를 예측하는 것 \n",
    "- 현실 세계의 복잡한 조건으로 인해 기존의 소프트웨어 코드만으로는 해결하기 어려웠던 문제들을 머신러닝을 이용해서 해결\n",
    "- 특히 인간의 인지능력만으로는 해결 가능했던 다양한 분야에서 머신러닝 응용이 두드러지고 있다.\n"
   ]
  },
  {
   "cell_type": "markdown",
   "id": "a2ba631d",
   "metadata": {},
   "source": [
    "머신러닝 특징\n",
    "- 복잡한 문제를 데이터를 기반으로 숨겨진 패턴을 인지해서 해결\n",
    "- 다양한 수학적 기법 사용\n",
    "- 머신러닝 알고리즘은 데이터를 기반으로 통계적인 신뢰도를 강화하고 예측 오류를 최소화\n",
    "- 데이터 내의 패턴을 스스로 인지하고 신뢰도 있는 예측 결과 도출 "
   ]
  },
  {
   "cell_type": "markdown",
   "id": "53c8be13",
   "metadata": {},
   "source": [
    "머신러닝의 분류\n",
    "\n",
    "지도 학습 (Supervised) \n",
    "- 회귀 (Regression)\n",
    "- 분류 (Classification)\n",
    "\n",
    "비지도 학습 (Unsupervised)\n",
    "- 군집화 (Clustering)\n",
    "- 차원 축소 (Dimension Reduction)\n",
    "\n",
    "강화 학습 "
   ]
  },
  {
   "cell_type": "markdown",
   "id": "3232bada",
   "metadata": {},
   "source": [
    "지도 학습 (Supervised)\n",
    "- 학습할 데이터의 입력과 그 입력에 대응하는 정답을 이용해서\n",
    "- 데이터의 특성과 분포를 학습하고 미래 결과를 예측하는 방법\n",
    "- 쉽게말하면, 정답을 주고 학습을 시키는 방식 \n",
    "- 답이 되는 것과 문제를 되는 것을 분리해서 훈련시키는 방법\n",
    "- 결정값(정답)=타겟값=레이블값=정답\n",
    "- 결정값(정답)이 주어진 데이터를 학습한다\n",
    "- 회귀\n",
    "- 분류"
   ]
  },
  {
   "cell_type": "markdown",
   "id": "d5441cfd",
   "metadata": {},
   "source": [
    "회귀(Regression) : 학습 데이터를 이용하여 연속적인 값을 예측하는 것 \n",
    "- 예 : 공부시간과 시험 성적간의 관계\n",
    "- 입력 : 시험 공부 시간 \n",
    "- 정답 : Pass/Fail\n",
    "- 예측 : 당락 여부 예측하는것\n",
    "- 4시간 사람 Fail 8시간 Pass ~ 이런식일때 6시간 사람은?\n"
   ]
  },
  {
   "cell_type": "markdown",
   "id": "cea0794a",
   "metadata": {},
   "source": [
    "분류(Classification)\n",
    "- 학습 데이터를 이용하여 주어진 입력 값이 어떤 종류의 값인지 구별하는 것 \n",
    "- 예 : 새로운 메일이 스팸메일인지 아닌지 분류 \n",
    "- 입력 : 이메일\n",
    "- 정답 : 라벨을 스팸이다/아니다\n",
    "- 예측 : 스팸 여부 "
   ]
  },
  {
   "cell_type": "markdown",
   "id": "bda5cd34",
   "metadata": {},
   "source": [
    "비지도 학습 \n",
    "- 결과값 없이 입력값만 주고 학습을 시켜 유사성을 파악하게 하는 방식 (정답 없음)\n",
    "- 정답이 없는 입력 데이터만 이용하기 때문에 입력값 자체의 특성과 분포만을 파악해서 그룹핑하는 군집화에 주로 사용함. \n",
    "- 패턴, 특성을 발견해야하는 게 비지도 학습의 특징임.\n",
    "- 예 : 군집화 알고리즘을 이용한 뉴스를 그룹핑\n"
   ]
  },
  {
   "cell_type": "markdown",
   "id": "02bbaf6a",
   "metadata": {},
   "source": [
    "강화 학습\n",
    "- 행동 심리학에서 나온 이론\n",
    "- 어떤 일을 잘했을 때 보상을 줘서 어떤 행동이 최선인지를 알게 하는 방식 \n",
    "- 게임, 로봇 분야에서 많이 사용함\n"
   ]
  },
  {
   "cell_type": "markdown",
   "id": "991df2e9",
   "metadata": {},
   "source": [
    "게임\n",
    "- 게임 규칙을 정하지 않고, 높은 점수를 얻는 방법을 찾아가면서 행동하는 학습 방법\n",
    "- 게임에서 최적의 동작을 찾는데 쓰는 학습 방식\n",
    "- 알파고가 이 방법으로 학습"
   ]
  },
  {
   "cell_type": "markdown",
   "id": "0594f21a",
   "metadata": {},
   "source": [
    "---------------------------------------------"
   ]
  },
  {
   "cell_type": "markdown",
   "id": "50597db4",
   "metadata": {},
   "source": [
    "<주로 다룰 것 >\n",
    "\n",
    "지도 학습\n",
    "\n",
    "1.회귀\n",
    "- 선형 회귀 / 다항 회귀\n",
    "\n",
    "2.분류\n",
    "- 로지스틱 회귀 \n",
    "- 결정트리 \n",
    "- 랜덤 포레스트 \n",
    "- 서포트 벡터 머신 \n",
    "- KNN : K-최근접 이웃 \n",
    "- 신경망\n",
    "- 머신러닝 알고리즘을 결합해서 사용하는 앙상블 "
   ]
  },
  {
   "cell_type": "markdown",
   "id": "2b11af23",
   "metadata": {},
   "source": [
    "비지도 학습\n",
    "\n",
    "1.군집\n",
    "- K-평균\n",
    "- 계층 군집 분석\n",
    "- 기대값 최대화\n",
    "\n",
    "차원 축소\n",
    "- 주성분 분석 (PCA)\n",
    "- 커널PCA"
   ]
  },
  {
   "cell_type": "markdown",
   "id": "cdebf1f6",
   "metadata": {},
   "source": [
    "머신러닝 사용 시 주의사항\n",
    "- 데이터 의존적 : 시작단계에서 잘못되거나 편향적인 데이터를 사용할 경우 왜곡된 결과가 산출된다 (Garbage in Garbage Out)\n",
    "- 품질이 떨어지는 데이터 (에러, 이상치, 노이즈 포함)\n",
    "그래서 반드시 필요한게 전처리 작업이래\n",
    "Null+표준화+정규화 등 여러가지 방법들을 배우게 될 것임\n",
    "- 연관성이 적은 특싱 사용 시 예측이 어려울 수 있다\n",
    "- 과적합 Overfit : 학습 데이터를 과하게 학습해서 실제 데이터 적용 시 오차가 증가하는 현상\n",
    "- 머신러닝에 대한 환상을 깨야 한다. : 데이터만 넣으면 자동으로 최적화된 결과를 도출한다고 생각하는데 그렇지 않다.\n",
    "- 머신러닝에 대한 환상 : 데이터만 넣으면 자동으로 최적화된 결과를 도출하지 않음.\n",
    "    - 직접 작성한 코드보다 정확성이 떨어질 수 있음"
   ]
  },
  {
   "cell_type": "markdown",
   "id": "9c802681",
   "metadata": {},
   "source": [
    "머신러닝 사용되는 파이썬 패키지 "
   ]
  },
  {
   "cell_type": "markdown",
   "id": "6b8ac71d",
   "metadata": {},
   "source": [
    "머신러닝 패키지 : 사이킷 런 (Scikit-Learn)\n",
    "    - 빠르게 쉽게 효과적으로 예측 가능\n",
    "    \n",
    "배열/선형대수/통계 패키지\n",
    "- Numpy\n",
    "- SciPy\n",
    "\n",
    "데이터 핸들링\n",
    "- Pandas\n",
    "\n",
    "시각화\n",
    "- Matplotlib\n",
    "- Seaborn \n"
   ]
  },
  {
   "cell_type": "markdown",
   "id": "686d0acf",
   "metadata": {},
   "source": [
    "머신러닝 패키지 : 사이킷런 (Scikit-Learn)\n",
    "- 파이썬 세계의 대표적인 머신러닝 패키지\n",
    "- 데이터 마이닝 기반의 머신러닝에서 대표적\n",
    "\n",
    "영상, 음성, 언어 등의 비정형 데이터 분야\n",
    "- 딥러닝 라이브러리 : 텐서플로, 케라스 \n",
    "\n",
    "배열/선형대수/통계 패키지 \n",
    "- 머신러닝 이론적 배경은 선형대수와 통계 사용 \n",
    "\n",
    "Numpy(넘파이)\n",
    "- 파이썬의 대표적인 행렬과 선형대수를 다루는 패키지 \n",
    "- 사이킷런을 비롯한 많은 머신러닝 패키지가 Numpy기반 \n",
    "\n",
    "SciPy(싸이파이)\n",
    "- 자연과학 통계를 위한 다양한 패키지 포함\n",
    "- 사이킷런 역시 SciPy 기반의 여러 패키지 포함 "
   ]
  },
  {
   "cell_type": "code",
   "execution_count": null,
   "id": "61616ea9",
   "metadata": {},
   "outputs": [],
   "source": []
  },
  {
   "cell_type": "code",
   "execution_count": null,
   "id": "67d9282e",
   "metadata": {},
   "outputs": [],
   "source": []
  },
  {
   "cell_type": "code",
   "execution_count": null,
   "id": "f0324b3d",
   "metadata": {},
   "outputs": [],
   "source": []
  },
  {
   "cell_type": "code",
   "execution_count": null,
   "id": "fd44a233",
   "metadata": {},
   "outputs": [],
   "source": []
  },
  {
   "cell_type": "code",
   "execution_count": null,
   "id": "b7a9046c",
   "metadata": {},
   "outputs": [],
   "source": []
  },
  {
   "cell_type": "code",
   "execution_count": null,
   "id": "6131f161",
   "metadata": {},
   "outputs": [],
   "source": []
  },
  {
   "cell_type": "code",
   "execution_count": null,
   "id": "6a5a27dd",
   "metadata": {},
   "outputs": [],
   "source": []
  },
  {
   "cell_type": "code",
   "execution_count": null,
   "id": "f4d7f4bf",
   "metadata": {},
   "outputs": [],
   "source": []
  },
  {
   "cell_type": "code",
   "execution_count": null,
   "id": "10e04106",
   "metadata": {},
   "outputs": [],
   "source": []
  }
 ],
 "metadata": {
  "kernelspec": {
   "display_name": "Python 3",
   "language": "python",
   "name": "python3"
  },
  "language_info": {
   "codemirror_mode": {
    "name": "ipython",
    "version": 3
   },
   "file_extension": ".py",
   "mimetype": "text/x-python",
   "name": "python",
   "nbconvert_exporter": "python",
   "pygments_lexer": "ipython3",
   "version": "3.8.8"
  }
 },
 "nbformat": 4,
 "nbformat_minor": 5
}
