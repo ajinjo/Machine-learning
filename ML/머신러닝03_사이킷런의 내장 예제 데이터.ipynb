{
 "cells": [
  {
   "cell_type": "markdown",
   "id": "2c674ecf",
   "metadata": {},
   "source": [
    "# 사이킷런 내장 예제 데이터\n",
    "\n",
    "머신러닝은 데이터기반임\n",
    "데이터를 잘 다룰수있어야..함 ! "
   ]
  },
  {
   "cell_type": "markdown",
   "id": "74994356",
   "metadata": {},
   "source": [
    "### 붓꽃 데이터 세트 기반의 ML 분류 예측 수행 프로세스 "
   ]
  },
  {
   "cell_type": "code",
   "execution_count": 2,
   "id": "d3c59e96",
   "metadata": {},
   "outputs": [],
   "source": [
    "# 그림06 (93page 앞부분은 넘파이 판다스라 빼셨다고 함)"
   ]
  },
  {
   "cell_type": "markdown",
   "id": "cf0e8279",
   "metadata": {},
   "source": [
    "테스트데이터값에는 피쳐만 주고 예측 "
   ]
  },
  {
   "cell_type": "code",
   "execution_count": null,
   "id": "ec03f699",
   "metadata": {},
   "outputs": [],
   "source": [
    "사이킷런 기반 프레임워크 : Estimator와 fit()/predit()\n",
    "    \n",
    "사이킷런에서 제공하는 메소드\n",
    "- fit() : ML 모델 학습\n",
    "- predict() : 학습된 모델의 예측\n",
    "\n",
    "지도학습의 분류와 회귀에서 fit()과 predcit()만 사용해서 간단하게 학습과 예측 결과를 반환 해줌 \n",
    "- 분류 알고리즘을 구현한 클래스 : ~ Classifier\n",
    "- 회귀 알고리즘을 구현한 클래스 : ~ Regressor \n",
    "    \n",
    "Estimator 클래스 : Classifier + Regressor 클래스\n",
    "- 지도학습의 모든 알고리즘을 구현한 클래스를 통칭\n",
    "- fit()과 predict() 내부에서 구현\n"
   ]
  },
  {
   "cell_type": "code",
   "execution_count": null,
   "id": "5aae8236",
   "metadata": {},
   "outputs": [],
   "source": [
    "# 그림07"
   ]
  },
  {
   "cell_type": "code",
   "execution_count": 3,
   "id": "1fbdfc26",
   "metadata": {},
   "outputs": [],
   "source": [
    "### 사이킷런의 내장 데이터 세트 형태 \n"
   ]
  },
  {
   "cell_type": "markdown",
   "id": "69763b34",
   "metadata": {},
   "source": [
    "사이킷런의 내장 데이터 세트 형태\n",
    "- key 구성 : data, target, target_names, feature_names, DESCR\n",
    "- data : 피처 데이터 세트 (ndarry)\n",
    "- target : 분류(레이블 값)/회귀(숫자 결과값 데이터 세트) (ndarry)\n",
    "- target_names : 개별 레이블 이름 (ndarry 또는 list)\n",
    "- feature_names : 피처 이름 (ndarry 또는 list)\n",
    "- DESCR : 데이터 세트 설명, 각 피처 설명 (string)\n"
   ]
  },
  {
   "cell_type": "markdown",
   "id": "c7a1c3de",
   "metadata": {},
   "source": [
    "머신러닝 모델을 구축하는 주요 프로세스  \n",
    "(1) 피처의 가공, 변경, 추출을 수행하는 피처 처리  \n",
    "(2) ML 알고리즘 학습/예측 수행  \n",
    "(3) 모델 평가  \n",
    "- (1)(2)(3) 단계를 반복적으로 수행 "
   ]
  },
  {
   "cell_type": "code",
   "execution_count": 4,
   "id": "bf2de8b5",
   "metadata": {},
   "outputs": [],
   "source": [
    "### 붓꽃 데이터 세트 구성 "
   ]
  },
  {
   "cell_type": "code",
   "execution_count": 5,
   "id": "a12fb71d",
   "metadata": {},
   "outputs": [],
   "source": [
    "# 그림08\n",
    "\n",
    "타겟=레이블=결정값=정답"
   ]
  },
  {
   "cell_type": "code",
   "execution_count": 7,
   "id": "49173a81",
   "metadata": {},
   "outputs": [
    {
     "name": "stdout",
     "output_type": "stream",
     "text": [
      "<class 'sklearn.utils.Bunch'>\n"
     ]
    }
   ],
   "source": [
    "from sklearn.datasets import load_iris\n",
    "\n",
    "iris_data=load_iris()\n",
    "print(type(iris_data))"
   ]
  },
  {
   "cell_type": "code",
   "execution_count": 8,
   "id": "24b5fc4e",
   "metadata": {},
   "outputs": [],
   "source": [
    "# sklearn.utile.Bunch\n",
    "# 파이썬의 딕셔너리 형태와 유사함 : key와 value로 이루어짐"
   ]
  },
  {
   "cell_type": "code",
   "execution_count": 9,
   "id": "5e4bf5da",
   "metadata": {},
   "outputs": [
    {
     "name": "stdout",
     "output_type": "stream",
     "text": [
      "붓꽃 데이터 세트의 key :  dict_keys(['data', 'target', 'frame', 'target_names', 'DESCR', 'feature_names', 'filename'])\n"
     ]
    }
   ],
   "source": [
    "# 키 값만 출력\n",
    "keys=iris_data.keys()\n",
    "print('붓꽃 데이터 세트의 key : ',keys)"
   ]
  },
  {
   "cell_type": "code",
   "execution_count": 10,
   "id": "3eb1ae77",
   "metadata": {
    "scrolled": false
   },
   "outputs": [
    {
     "name": "stdout",
     "output_type": "stream",
     "text": [
      "data의 type :  <class 'numpy.ndarray'>\n",
      "data의 shape :  (150, 4)\n",
      "[[5.1 3.5 1.4 0.2]\n",
      " [4.9 3.  1.4 0.2]\n",
      " [4.7 3.2 1.3 0.2]\n",
      " [4.6 3.1 1.5 0.2]\n",
      " [5.  3.6 1.4 0.2]\n",
      " [5.4 3.9 1.7 0.4]\n",
      " [4.6 3.4 1.4 0.3]\n",
      " [5.  3.4 1.5 0.2]\n",
      " [4.4 2.9 1.4 0.2]\n",
      " [4.9 3.1 1.5 0.1]\n",
      " [5.4 3.7 1.5 0.2]\n",
      " [4.8 3.4 1.6 0.2]\n",
      " [4.8 3.  1.4 0.1]\n",
      " [4.3 3.  1.1 0.1]\n",
      " [5.8 4.  1.2 0.2]\n",
      " [5.7 4.4 1.5 0.4]\n",
      " [5.4 3.9 1.3 0.4]\n",
      " [5.1 3.5 1.4 0.3]\n",
      " [5.7 3.8 1.7 0.3]\n",
      " [5.1 3.8 1.5 0.3]\n",
      " [5.4 3.4 1.7 0.2]\n",
      " [5.1 3.7 1.5 0.4]\n",
      " [4.6 3.6 1.  0.2]\n",
      " [5.1 3.3 1.7 0.5]\n",
      " [4.8 3.4 1.9 0.2]\n",
      " [5.  3.  1.6 0.2]\n",
      " [5.  3.4 1.6 0.4]\n",
      " [5.2 3.5 1.5 0.2]\n",
      " [5.2 3.4 1.4 0.2]\n",
      " [4.7 3.2 1.6 0.2]\n",
      " [4.8 3.1 1.6 0.2]\n",
      " [5.4 3.4 1.5 0.4]\n",
      " [5.2 4.1 1.5 0.1]\n",
      " [5.5 4.2 1.4 0.2]\n",
      " [4.9 3.1 1.5 0.2]\n",
      " [5.  3.2 1.2 0.2]\n",
      " [5.5 3.5 1.3 0.2]\n",
      " [4.9 3.6 1.4 0.1]\n",
      " [4.4 3.  1.3 0.2]\n",
      " [5.1 3.4 1.5 0.2]\n",
      " [5.  3.5 1.3 0.3]\n",
      " [4.5 2.3 1.3 0.3]\n",
      " [4.4 3.2 1.3 0.2]\n",
      " [5.  3.5 1.6 0.6]\n",
      " [5.1 3.8 1.9 0.4]\n",
      " [4.8 3.  1.4 0.3]\n",
      " [5.1 3.8 1.6 0.2]\n",
      " [4.6 3.2 1.4 0.2]\n",
      " [5.3 3.7 1.5 0.2]\n",
      " [5.  3.3 1.4 0.2]\n",
      " [7.  3.2 4.7 1.4]\n",
      " [6.4 3.2 4.5 1.5]\n",
      " [6.9 3.1 4.9 1.5]\n",
      " [5.5 2.3 4.  1.3]\n",
      " [6.5 2.8 4.6 1.5]\n",
      " [5.7 2.8 4.5 1.3]\n",
      " [6.3 3.3 4.7 1.6]\n",
      " [4.9 2.4 3.3 1. ]\n",
      " [6.6 2.9 4.6 1.3]\n",
      " [5.2 2.7 3.9 1.4]\n",
      " [5.  2.  3.5 1. ]\n",
      " [5.9 3.  4.2 1.5]\n",
      " [6.  2.2 4.  1. ]\n",
      " [6.1 2.9 4.7 1.4]\n",
      " [5.6 2.9 3.6 1.3]\n",
      " [6.7 3.1 4.4 1.4]\n",
      " [5.6 3.  4.5 1.5]\n",
      " [5.8 2.7 4.1 1. ]\n",
      " [6.2 2.2 4.5 1.5]\n",
      " [5.6 2.5 3.9 1.1]\n",
      " [5.9 3.2 4.8 1.8]\n",
      " [6.1 2.8 4.  1.3]\n",
      " [6.3 2.5 4.9 1.5]\n",
      " [6.1 2.8 4.7 1.2]\n",
      " [6.4 2.9 4.3 1.3]\n",
      " [6.6 3.  4.4 1.4]\n",
      " [6.8 2.8 4.8 1.4]\n",
      " [6.7 3.  5.  1.7]\n",
      " [6.  2.9 4.5 1.5]\n",
      " [5.7 2.6 3.5 1. ]\n",
      " [5.5 2.4 3.8 1.1]\n",
      " [5.5 2.4 3.7 1. ]\n",
      " [5.8 2.7 3.9 1.2]\n",
      " [6.  2.7 5.1 1.6]\n",
      " [5.4 3.  4.5 1.5]\n",
      " [6.  3.4 4.5 1.6]\n",
      " [6.7 3.1 4.7 1.5]\n",
      " [6.3 2.3 4.4 1.3]\n",
      " [5.6 3.  4.1 1.3]\n",
      " [5.5 2.5 4.  1.3]\n",
      " [5.5 2.6 4.4 1.2]\n",
      " [6.1 3.  4.6 1.4]\n",
      " [5.8 2.6 4.  1.2]\n",
      " [5.  2.3 3.3 1. ]\n",
      " [5.6 2.7 4.2 1.3]\n",
      " [5.7 3.  4.2 1.2]\n",
      " [5.7 2.9 4.2 1.3]\n",
      " [6.2 2.9 4.3 1.3]\n",
      " [5.1 2.5 3.  1.1]\n",
      " [5.7 2.8 4.1 1.3]\n",
      " [6.3 3.3 6.  2.5]\n",
      " [5.8 2.7 5.1 1.9]\n",
      " [7.1 3.  5.9 2.1]\n",
      " [6.3 2.9 5.6 1.8]\n",
      " [6.5 3.  5.8 2.2]\n",
      " [7.6 3.  6.6 2.1]\n",
      " [4.9 2.5 4.5 1.7]\n",
      " [7.3 2.9 6.3 1.8]\n",
      " [6.7 2.5 5.8 1.8]\n",
      " [7.2 3.6 6.1 2.5]\n",
      " [6.5 3.2 5.1 2. ]\n",
      " [6.4 2.7 5.3 1.9]\n",
      " [6.8 3.  5.5 2.1]\n",
      " [5.7 2.5 5.  2. ]\n",
      " [5.8 2.8 5.1 2.4]\n",
      " [6.4 3.2 5.3 2.3]\n",
      " [6.5 3.  5.5 1.8]\n",
      " [7.7 3.8 6.7 2.2]\n",
      " [7.7 2.6 6.9 2.3]\n",
      " [6.  2.2 5.  1.5]\n",
      " [6.9 3.2 5.7 2.3]\n",
      " [5.6 2.8 4.9 2. ]\n",
      " [7.7 2.8 6.7 2. ]\n",
      " [6.3 2.7 4.9 1.8]\n",
      " [6.7 3.3 5.7 2.1]\n",
      " [7.2 3.2 6.  1.8]\n",
      " [6.2 2.8 4.8 1.8]\n",
      " [6.1 3.  4.9 1.8]\n",
      " [6.4 2.8 5.6 2.1]\n",
      " [7.2 3.  5.8 1.6]\n",
      " [7.4 2.8 6.1 1.9]\n",
      " [7.9 3.8 6.4 2. ]\n",
      " [6.4 2.8 5.6 2.2]\n",
      " [6.3 2.8 5.1 1.5]\n",
      " [6.1 2.6 5.6 1.4]\n",
      " [7.7 3.  6.1 2.3]\n",
      " [6.3 3.4 5.6 2.4]\n",
      " [6.4 3.1 5.5 1.8]\n",
      " [6.  3.  4.8 1.8]\n",
      " [6.9 3.1 5.4 2.1]\n",
      " [6.7 3.1 5.6 2.4]\n",
      " [6.9 3.1 5.1 2.3]\n",
      " [5.8 2.7 5.1 1.9]\n",
      " [6.8 3.2 5.9 2.3]\n",
      " [6.7 3.3 5.7 2.5]\n",
      " [6.7 3.  5.2 2.3]\n",
      " [6.3 2.5 5.  1.9]\n",
      " [6.5 3.  5.2 2. ]\n",
      " [6.2 3.4 5.4 2.3]\n",
      " [5.9 3.  5.1 1.8]]\n"
     ]
    }
   ],
   "source": [
    "# data 확인\n",
    "print('data의 type : ', type(iris_data.data))\n",
    "print('data의 shape : ', iris_data.data.shape)\n",
    "print(iris_data['data'])\n"
   ]
  },
  {
   "cell_type": "code",
   "execution_count": 12,
   "id": "41416211",
   "metadata": {},
   "outputs": [
    {
     "name": "stdout",
     "output_type": "stream",
     "text": [
      "target의 type :  <class 'numpy.ndarray'>\n",
      "target의 shape :  (150,)\n",
      "[0 0 0 0 0 0 0 0 0 0 0 0 0 0 0 0 0 0 0 0 0 0 0 0 0 0 0 0 0 0 0 0 0 0 0 0 0\n",
      " 0 0 0 0 0 0 0 0 0 0 0 0 0 1 1 1 1 1 1 1 1 1 1 1 1 1 1 1 1 1 1 1 1 1 1 1 1\n",
      " 1 1 1 1 1 1 1 1 1 1 1 1 1 1 1 1 1 1 1 1 1 1 1 1 1 1 2 2 2 2 2 2 2 2 2 2 2\n",
      " 2 2 2 2 2 2 2 2 2 2 2 2 2 2 2 2 2 2 2 2 2 2 2 2 2 2 2 2 2 2 2 2 2 2 2 2 2\n",
      " 2 2]\n"
     ]
    }
   ],
   "source": [
    "# target 확인\n",
    "print('target의 type : ', type(iris_data.target))\n",
    "print('target의 shape : ', iris_data.target.shape)\n",
    "print(iris_data.target)\n",
    "# 각각의 값이 0인지 1인지 1차원값"
   ]
  },
  {
   "cell_type": "code",
   "execution_count": 13,
   "id": "f270a7d0",
   "metadata": {},
   "outputs": [],
   "source": [
    "# 타깃 이름 학인 \n",
    "# target 확인\n",
    "print('target_names의 type : ', type(iris_data.target))\n",
    "print('target_names의 크기 : ', len(iris_data.target.names))\n",
    "print(iris_data.target_names)\n",
    "# 각각의 값이 0인지 1인지 1차원값"
   ]
  },
  {
   "cell_type": "code",
   "execution_count": 14,
   "id": "c5ec8338",
   "metadata": {},
   "outputs": [],
   "source": [
    "# 피처 이름 확인 "
   ]
  },
  {
   "cell_type": "code",
   "execution_count": 16,
   "id": "7b2e132d",
   "metadata": {},
   "outputs": [],
   "source": [
    "# 전체 데이터 세트 설명 : 각 피처 설명 (string으로 출력할것임)"
   ]
  },
  {
   "cell_type": "code",
   "execution_count": null,
   "id": "120f43c8",
   "metadata": {},
   "outputs": [],
   "source": []
  },
  {
   "cell_type": "code",
   "execution_count": null,
   "id": "e5b525b7",
   "metadata": {},
   "outputs": [],
   "source": []
  },
  {
   "cell_type": "code",
   "execution_count": null,
   "id": "415f690e",
   "metadata": {},
   "outputs": [],
   "source": []
  },
  {
   "cell_type": "code",
   "execution_count": null,
   "id": "5f6088e6",
   "metadata": {},
   "outputs": [],
   "source": []
  },
  {
   "cell_type": "code",
   "execution_count": null,
   "id": "fbbed6f1",
   "metadata": {},
   "outputs": [],
   "source": []
  },
  {
   "cell_type": "code",
   "execution_count": null,
   "id": "16370e39",
   "metadata": {},
   "outputs": [],
   "source": []
  },
  {
   "cell_type": "code",
   "execution_count": null,
   "id": "4f86ca6f",
   "metadata": {},
   "outputs": [],
   "source": []
  },
  {
   "cell_type": "code",
   "execution_count": null,
   "id": "df4f2e20",
   "metadata": {},
   "outputs": [],
   "source": []
  },
  {
   "cell_type": "code",
   "execution_count": null,
   "id": "120aa526",
   "metadata": {},
   "outputs": [],
   "source": []
  },
  {
   "cell_type": "code",
   "execution_count": null,
   "id": "e8541e4d",
   "metadata": {},
   "outputs": [],
   "source": []
  },
  {
   "cell_type": "code",
   "execution_count": null,
   "id": "16ee8072",
   "metadata": {},
   "outputs": [],
   "source": []
  }
 ],
 "metadata": {
  "kernelspec": {
   "display_name": "Python 3",
   "language": "python",
   "name": "python3"
  },
  "language_info": {
   "codemirror_mode": {
    "name": "ipython",
    "version": 3
   },
   "file_extension": ".py",
   "mimetype": "text/x-python",
   "name": "python",
   "nbconvert_exporter": "python",
   "pygments_lexer": "ipython3",
   "version": "3.8.8"
  }
 },
 "nbformat": 4,
 "nbformat_minor": 5
}
