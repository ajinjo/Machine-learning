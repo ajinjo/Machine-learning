{
 "cells": [
  {
   "cell_type": "markdown",
   "id": "dcf2e525",
   "metadata": {},
   "source": [
    "# 학습 데이터 세트 와 테스트 데이터 세트 분리 "
   ]
  },
  {
   "cell_type": "markdown",
   "id": "fca454e0",
   "metadata": {},
   "source": [
    "사이킷런 model_selection 모듈의 주요 기능\n",
    "- 학습 데이터와 테스트 데이터 세트 분리\n",
    "- 교차 검증 분할 및 평가\n",
    "- Estimator의 하이퍼 파라미터 튜닝 "
   ]
  },
  {
   "cell_type": "markdown",
   "id": "d56753c9",
   "metadata": {},
   "source": [
    "학습 데이터와 테스트 데이터 세트 분리\n",
    "- train_test_split() 함수 사용 \n",
    "\n",
    "학습 데이터 세트\n",
    "- 머신러닝 알고리즘의 학습을 위해 사용\n",
    "- 데이터의 피처(속성)과 레이블(결정값) 모두 포함 \n",
    "- 학습 데이터를 기반으로 머신러닝 알고리즘이 데이터 속성(피처)과 결정값(레이블)의 패턴을 인지하고 학습\n",
    "\n",
    "테스트 데이터 세트\n",
    "- 학습된 머신러닝 알고리즘 테스트용\n",
    "- 머신러닝 알고리즘은 제공된 속성 데이터를 기반으로 결정값 예측\n",
    "- 학습 데이터와 별도의 세트로 제공 "
   ]
  },
  {
   "cell_type": "markdown",
   "id": "54e996f0",
   "metadata": {},
   "source": [
    "train_test_split() 함수 사용\n",
    "- train_test_split(iris_data, iris_label, test_size=0.3, random_state=11)\n",
    "- train_test_split(피처 데이터 세트, 레이블 데이터 세트, 테스트 데이터 세트 비율, 난수 발생값)\n",
    "- 피처 데이터 세트 : 피처(feature)만으로 된 데이터(numpy) [5.1, 3.5, 1.4, 0.2],...\n",
    "- 레이블 데이터 세트 : 레이블(결정 값) 데이터(numpy) [0 0 0 ... 1 1 1 .... 2 2 2]\n",
    "- 테스트 데이터 세트 비율 : 전체 데이터 세트 중 테스트 데이터 세트 비율 (0.3)\n",
    "- 난수 발생값 : 수행할 때마다 동일한 데이터 세트로 분리하기 위해 시드값 고정 (실습용)"
   ]
  },
  {
   "cell_type": "markdown",
   "id": "28fcb0ad",
   "metadata": {},
   "source": [
    "train_test_split() 반환값\n",
    "- X_train : 학습용 피처 데이터 세트 (feature)\n",
    "- X_test : 테스트용 피처 데이터 세트 (feature)\n",
    "- y_train : 학습용 레이블 데이터 세트 (target)\n",
    "- y_test : 테스트용 레이블 데이터 세트 (target)\n",
    "- feature : 대문자 X_\n",
    "- label(target) : 소문자 y_\n"
   ]
  },
  {
   "cell_type": "markdown",
   "id": "f168aa5d",
   "metadata": {},
   "source": [
    "## 학습 데이터와 테스트 데이터 세트 분리 예제 "
   ]
  },
  {
   "cell_type": "markdown",
   "id": "0b40651e",
   "metadata": {},
   "source": [
    "붓꽃 데이터 품종 예측  \n",
    "(1) 학습/테스트 데이터 세트로 분리하지 않고 예측  \n",
    "(2) 학습/테스트 데이터 세트로 분리하고 예측   "
   ]
  },
  {
   "cell_type": "markdown",
   "id": "a82520dd",
   "metadata": {},
   "source": [
    "# (1) 학습/테스트 데이터 세트로 분리하지 않고 예측"
   ]
  },
  {
   "cell_type": "code",
   "execution_count": 1,
   "id": "ba49c28a",
   "metadata": {},
   "outputs": [
    {
     "name": "stdout",
     "output_type": "stream",
     "text": [
      "예측 정확도 :  1.0\n"
     ]
    }
   ],
   "source": [
    "# (1) 학습/테스트 데이터 세트로 분리하지 않고 예측\n",
    "from sklearn.datasets import load_iris\n",
    "from sklearn.tree import DecisionTreeClassifier\n",
    "from sklearn.model_selection import train_test_split\n",
    "\n",
    "from sklearn.metrics import accuracy_score\n",
    "\n",
    "iris=load_iris()\n",
    "dt_clf=DecisionTreeClassifier()\n",
    "\n",
    "#학습데이터\n",
    "train_data=iris.data # 피처(속성)만으로 되어있는 데이터 \n",
    "train_label=iris.target # target값(결정값(정답), 레이블값)\n",
    "\n",
    "# 학습 수행\n",
    "# fit() 메소드 \n",
    "# fit(학습용 피처 데이터, 학습용 타겟 데이터)\n",
    "dt_clf.fit(train_data, train_label)\n",
    "\n",
    "# 학습 수행 : 테스트 데이터 세트 분리하지 않고 사용 \n",
    "# 학습된 데이터 셋으로 예측 수행\n",
    "# 테스트 데이터 세트 분리하지 않고 사용 \n",
    "pred=dt_clf.predict(train_data)\n",
    "\n",
    "print('예측 정확도 : ', accuracy_score(train_label, pred))\n",
    "\n",
    "# 결과\n",
    "# 예측을 별도로 분리되지 않고 학습된 train_data로 했기 때문에 \n",
    "# 결과가 1.0 (100%)로 출력이 됨 (잘못된 예측 방법) \n"
   ]
  },
  {
   "cell_type": "code",
   "execution_count": 15,
   "id": "2ef22f8f",
   "metadata": {},
   "outputs": [],
   "source": [
    "# 즉 학습용 데이터와 테스트 데이터는 분리해야 한다는 것을 알 수 있다 \n",
    "# 이 방법은 아니다. 그래도 결과는 확인해 보았다. "
   ]
  },
  {
   "cell_type": "markdown",
   "id": "19efef3a",
   "metadata": {},
   "source": [
    "학습 데이터와 유사한 데이터로 테스트를 했다면   \n",
    "알고리즘이 안좋더라도 예측 정확도가 높을 수 있음. (신뢰성 떨어짐)  \n",
    "\n",
    "알고리즘을 얼마나 잘 학습했느냐는  \n",
    "기존의 학습 데이터에는 포함되어 있지 않은 데이터에 대해   \n",
    "얼마나 잘 예측할 수 있느냐와 밀접한 관계가 있음   "
   ]
  },
  {
   "cell_type": "markdown",
   "id": "ca59e7c1",
   "metadata": {},
   "source": [
    "단지 정확도만 공개했다면 알수없는거임\n",
    "결과가 아무리좋더라도 신뢰성은 떨어진다 \n",
    "\n",
    "그래서 위에서 (1)은 쓸 수 없는 방법임을 알 수 있음 "
   ]
  },
  {
   "cell_type": "markdown",
   "id": "f33166b3",
   "metadata": {},
   "source": [
    "# (2) 학습/테스트 데이터 세트로 분리하고 예측"
   ]
  },
  {
   "cell_type": "code",
   "execution_count": 2,
   "id": "d24cd87a",
   "metadata": {},
   "outputs": [
    {
     "name": "stdout",
     "output_type": "stream",
     "text": [
      "예측 정확도:0.9556\n"
     ]
    }
   ],
   "source": [
    "# (2) 학습/테스트 데이터 세트로 분리하고 예측\n",
    "from sklearn.datasets import load_iris\n",
    "from sklearn.tree import DecisionTreeClassifier\n",
    "from sklearn.model_selection import train_test_split\n",
    "from sklearn.metrics import accuracy_score\n",
    "\n",
    "dt_clf=DecisionTreeClassifier()\n",
    "iris_data=load_iris()\n",
    "\n",
    "# 학습/테스트 데이터 세트 분리\n",
    "X_train, X_test, y_train, y_test=train_test_split(iris_data.data, iris_data.target, test_size=0.3, random_state=121)\n",
    "\n",
    "# 학습 수행\n",
    "dt_clf.fit(X_train, y_train)\n",
    "\n",
    "# 예측 수행\n",
    "pred=dt_clf.predict(X_test)\n",
    "\n",
    "\n",
    "# 예측 정확도 출력\n",
    "print('예측 정확도:{0:.4f}'.format(accuracy_score(y_test,pred)))\n",
    "\n"
   ]
  },
  {
   "cell_type": "code",
   "execution_count": 3,
   "id": "77be42c7",
   "metadata": {},
   "outputs": [],
   "source": [
    "# Numpy 뿐만 아니라 판다스 DataFrame/Series도 train_test_split() 사용해서 분할 가능"
   ]
  },
  {
   "cell_type": "code",
   "execution_count": 4,
   "id": "ef4936a7",
   "metadata": {},
   "outputs": [
    {
     "data": {
      "text/html": [
       "<div>\n",
       "<style scoped>\n",
       "    .dataframe tbody tr th:only-of-type {\n",
       "        vertical-align: middle;\n",
       "    }\n",
       "\n",
       "    .dataframe tbody tr th {\n",
       "        vertical-align: top;\n",
       "    }\n",
       "\n",
       "    .dataframe thead th {\n",
       "        text-align: right;\n",
       "    }\n",
       "</style>\n",
       "<table border=\"1\" class=\"dataframe\">\n",
       "  <thead>\n",
       "    <tr style=\"text-align: right;\">\n",
       "      <th></th>\n",
       "      <th>sepal length (cm)</th>\n",
       "      <th>sepal width (cm)</th>\n",
       "      <th>petal length (cm)</th>\n",
       "      <th>petal width (cm)</th>\n",
       "    </tr>\n",
       "  </thead>\n",
       "  <tbody>\n",
       "    <tr>\n",
       "      <th>0</th>\n",
       "      <td>5.1</td>\n",
       "      <td>3.5</td>\n",
       "      <td>1.4</td>\n",
       "      <td>0.2</td>\n",
       "    </tr>\n",
       "    <tr>\n",
       "      <th>1</th>\n",
       "      <td>4.9</td>\n",
       "      <td>3.0</td>\n",
       "      <td>1.4</td>\n",
       "      <td>0.2</td>\n",
       "    </tr>\n",
       "    <tr>\n",
       "      <th>2</th>\n",
       "      <td>4.7</td>\n",
       "      <td>3.2</td>\n",
       "      <td>1.3</td>\n",
       "      <td>0.2</td>\n",
       "    </tr>\n",
       "    <tr>\n",
       "      <th>3</th>\n",
       "      <td>4.6</td>\n",
       "      <td>3.1</td>\n",
       "      <td>1.5</td>\n",
       "      <td>0.2</td>\n",
       "    </tr>\n",
       "    <tr>\n",
       "      <th>4</th>\n",
       "      <td>5.0</td>\n",
       "      <td>3.6</td>\n",
       "      <td>1.4</td>\n",
       "      <td>0.2</td>\n",
       "    </tr>\n",
       "    <tr>\n",
       "      <th>...</th>\n",
       "      <td>...</td>\n",
       "      <td>...</td>\n",
       "      <td>...</td>\n",
       "      <td>...</td>\n",
       "    </tr>\n",
       "    <tr>\n",
       "      <th>145</th>\n",
       "      <td>6.7</td>\n",
       "      <td>3.0</td>\n",
       "      <td>5.2</td>\n",
       "      <td>2.3</td>\n",
       "    </tr>\n",
       "    <tr>\n",
       "      <th>146</th>\n",
       "      <td>6.3</td>\n",
       "      <td>2.5</td>\n",
       "      <td>5.0</td>\n",
       "      <td>1.9</td>\n",
       "    </tr>\n",
       "    <tr>\n",
       "      <th>147</th>\n",
       "      <td>6.5</td>\n",
       "      <td>3.0</td>\n",
       "      <td>5.2</td>\n",
       "      <td>2.0</td>\n",
       "    </tr>\n",
       "    <tr>\n",
       "      <th>148</th>\n",
       "      <td>6.2</td>\n",
       "      <td>3.4</td>\n",
       "      <td>5.4</td>\n",
       "      <td>2.3</td>\n",
       "    </tr>\n",
       "    <tr>\n",
       "      <th>149</th>\n",
       "      <td>5.9</td>\n",
       "      <td>3.0</td>\n",
       "      <td>5.1</td>\n",
       "      <td>1.8</td>\n",
       "    </tr>\n",
       "  </tbody>\n",
       "</table>\n",
       "<p>150 rows × 4 columns</p>\n",
       "</div>"
      ],
      "text/plain": [
       "     sepal length (cm)  sepal width (cm)  petal length (cm)  petal width (cm)\n",
       "0                  5.1               3.5                1.4               0.2\n",
       "1                  4.9               3.0                1.4               0.2\n",
       "2                  4.7               3.2                1.3               0.2\n",
       "3                  4.6               3.1                1.5               0.2\n",
       "4                  5.0               3.6                1.4               0.2\n",
       "..                 ...               ...                ...               ...\n",
       "145                6.7               3.0                5.2               2.3\n",
       "146                6.3               2.5                5.0               1.9\n",
       "147                6.5               3.0                5.2               2.0\n",
       "148                6.2               3.4                5.4               2.3\n",
       "149                5.9               3.0                5.1               1.8\n",
       "\n",
       "[150 rows x 4 columns]"
      ]
     },
     "execution_count": 4,
     "metadata": {},
     "output_type": "execute_result"
    }
   ],
   "source": [
    "import pandas as pd\n",
    "iris_df=pd.DataFrame(iris_data.data, columns=iris_data.feature_names)\n",
    "iris_df"
   ]
  },
  {
   "cell_type": "code",
   "execution_count": 5,
   "id": "f540fc47",
   "metadata": {},
   "outputs": [
    {
     "data": {
      "text/html": [
       "<div>\n",
       "<style scoped>\n",
       "    .dataframe tbody tr th:only-of-type {\n",
       "        vertical-align: middle;\n",
       "    }\n",
       "\n",
       "    .dataframe tbody tr th {\n",
       "        vertical-align: top;\n",
       "    }\n",
       "\n",
       "    .dataframe thead th {\n",
       "        text-align: right;\n",
       "    }\n",
       "</style>\n",
       "<table border=\"1\" class=\"dataframe\">\n",
       "  <thead>\n",
       "    <tr style=\"text-align: right;\">\n",
       "      <th></th>\n",
       "      <th>sepal length (cm)</th>\n",
       "      <th>sepal width (cm)</th>\n",
       "      <th>petal length (cm)</th>\n",
       "      <th>petal width (cm)</th>\n",
       "      <th>target</th>\n",
       "    </tr>\n",
       "  </thead>\n",
       "  <tbody>\n",
       "    <tr>\n",
       "      <th>0</th>\n",
       "      <td>5.1</td>\n",
       "      <td>3.5</td>\n",
       "      <td>1.4</td>\n",
       "      <td>0.2</td>\n",
       "      <td>0</td>\n",
       "    </tr>\n",
       "    <tr>\n",
       "      <th>1</th>\n",
       "      <td>4.9</td>\n",
       "      <td>3.0</td>\n",
       "      <td>1.4</td>\n",
       "      <td>0.2</td>\n",
       "      <td>0</td>\n",
       "    </tr>\n",
       "    <tr>\n",
       "      <th>2</th>\n",
       "      <td>4.7</td>\n",
       "      <td>3.2</td>\n",
       "      <td>1.3</td>\n",
       "      <td>0.2</td>\n",
       "      <td>0</td>\n",
       "    </tr>\n",
       "    <tr>\n",
       "      <th>3</th>\n",
       "      <td>4.6</td>\n",
       "      <td>3.1</td>\n",
       "      <td>1.5</td>\n",
       "      <td>0.2</td>\n",
       "      <td>0</td>\n",
       "    </tr>\n",
       "    <tr>\n",
       "      <th>4</th>\n",
       "      <td>5.0</td>\n",
       "      <td>3.6</td>\n",
       "      <td>1.4</td>\n",
       "      <td>0.2</td>\n",
       "      <td>0</td>\n",
       "    </tr>\n",
       "    <tr>\n",
       "      <th>...</th>\n",
       "      <td>...</td>\n",
       "      <td>...</td>\n",
       "      <td>...</td>\n",
       "      <td>...</td>\n",
       "      <td>...</td>\n",
       "    </tr>\n",
       "    <tr>\n",
       "      <th>145</th>\n",
       "      <td>6.7</td>\n",
       "      <td>3.0</td>\n",
       "      <td>5.2</td>\n",
       "      <td>2.3</td>\n",
       "      <td>2</td>\n",
       "    </tr>\n",
       "    <tr>\n",
       "      <th>146</th>\n",
       "      <td>6.3</td>\n",
       "      <td>2.5</td>\n",
       "      <td>5.0</td>\n",
       "      <td>1.9</td>\n",
       "      <td>2</td>\n",
       "    </tr>\n",
       "    <tr>\n",
       "      <th>147</th>\n",
       "      <td>6.5</td>\n",
       "      <td>3.0</td>\n",
       "      <td>5.2</td>\n",
       "      <td>2.0</td>\n",
       "      <td>2</td>\n",
       "    </tr>\n",
       "    <tr>\n",
       "      <th>148</th>\n",
       "      <td>6.2</td>\n",
       "      <td>3.4</td>\n",
       "      <td>5.4</td>\n",
       "      <td>2.3</td>\n",
       "      <td>2</td>\n",
       "    </tr>\n",
       "    <tr>\n",
       "      <th>149</th>\n",
       "      <td>5.9</td>\n",
       "      <td>3.0</td>\n",
       "      <td>5.1</td>\n",
       "      <td>1.8</td>\n",
       "      <td>2</td>\n",
       "    </tr>\n",
       "  </tbody>\n",
       "</table>\n",
       "<p>150 rows × 5 columns</p>\n",
       "</div>"
      ],
      "text/plain": [
       "     sepal length (cm)  sepal width (cm)  petal length (cm)  petal width (cm)  \\\n",
       "0                  5.1               3.5                1.4               0.2   \n",
       "1                  4.9               3.0                1.4               0.2   \n",
       "2                  4.7               3.2                1.3               0.2   \n",
       "3                  4.6               3.1                1.5               0.2   \n",
       "4                  5.0               3.6                1.4               0.2   \n",
       "..                 ...               ...                ...               ...   \n",
       "145                6.7               3.0                5.2               2.3   \n",
       "146                6.3               2.5                5.0               1.9   \n",
       "147                6.5               3.0                5.2               2.0   \n",
       "148                6.2               3.4                5.4               2.3   \n",
       "149                5.9               3.0                5.1               1.8   \n",
       "\n",
       "     target  \n",
       "0         0  \n",
       "1         0  \n",
       "2         0  \n",
       "3         0  \n",
       "4         0  \n",
       "..      ...  \n",
       "145       2  \n",
       "146       2  \n",
       "147       2  \n",
       "148       2  \n",
       "149       2  \n",
       "\n",
       "[150 rows x 5 columns]"
      ]
     },
     "execution_count": 5,
     "metadata": {},
     "output_type": "execute_result"
    }
   ],
   "source": [
    "import pandas as pd\n",
    "iris_df=pd.DataFrame(iris_data.data, columns=iris_data.feature_names)\n",
    "iris_df['target']=iris_data.target\n",
    "iris_df"
   ]
  },
  {
   "cell_type": "code",
   "execution_count": 43,
   "id": "f4ebddab",
   "metadata": {},
   "outputs": [],
   "source": [
    "# 피처 데이터 세트\n",
    "ftr_df=iris_df.iloc[:, :-1]  # 마지막 컬럼 -1까지 추출 (마지막 컬럼 제외)\n",
    "\n",
    "# 레이블 데이터 세트 (target 값) \n",
    "tgt_df=iris_df.iloc[:, -1]\n",
    "\n",
    "X_train, X_test, y_train, y_test=train_test_split(ftr_df, tgt_df, test_size=0.3, random_state=121)"
   ]
  },
  {
   "cell_type": "code",
   "execution_count": 7,
   "id": "b3366316",
   "metadata": {},
   "outputs": [
    {
     "data": {
      "text/html": [
       "<div>\n",
       "<style scoped>\n",
       "    .dataframe tbody tr th:only-of-type {\n",
       "        vertical-align: middle;\n",
       "    }\n",
       "\n",
       "    .dataframe tbody tr th {\n",
       "        vertical-align: top;\n",
       "    }\n",
       "\n",
       "    .dataframe thead th {\n",
       "        text-align: right;\n",
       "    }\n",
       "</style>\n",
       "<table border=\"1\" class=\"dataframe\">\n",
       "  <thead>\n",
       "    <tr style=\"text-align: right;\">\n",
       "      <th></th>\n",
       "      <th>sepal length (cm)</th>\n",
       "      <th>sepal width (cm)</th>\n",
       "      <th>petal length (cm)</th>\n",
       "      <th>petal width (cm)</th>\n",
       "    </tr>\n",
       "  </thead>\n",
       "  <tbody>\n",
       "    <tr>\n",
       "      <th>0</th>\n",
       "      <td>5.1</td>\n",
       "      <td>3.5</td>\n",
       "      <td>1.4</td>\n",
       "      <td>0.2</td>\n",
       "    </tr>\n",
       "    <tr>\n",
       "      <th>1</th>\n",
       "      <td>4.9</td>\n",
       "      <td>3.0</td>\n",
       "      <td>1.4</td>\n",
       "      <td>0.2</td>\n",
       "    </tr>\n",
       "    <tr>\n",
       "      <th>2</th>\n",
       "      <td>4.7</td>\n",
       "      <td>3.2</td>\n",
       "      <td>1.3</td>\n",
       "      <td>0.2</td>\n",
       "    </tr>\n",
       "    <tr>\n",
       "      <th>3</th>\n",
       "      <td>4.6</td>\n",
       "      <td>3.1</td>\n",
       "      <td>1.5</td>\n",
       "      <td>0.2</td>\n",
       "    </tr>\n",
       "    <tr>\n",
       "      <th>4</th>\n",
       "      <td>5.0</td>\n",
       "      <td>3.6</td>\n",
       "      <td>1.4</td>\n",
       "      <td>0.2</td>\n",
       "    </tr>\n",
       "    <tr>\n",
       "      <th>...</th>\n",
       "      <td>...</td>\n",
       "      <td>...</td>\n",
       "      <td>...</td>\n",
       "      <td>...</td>\n",
       "    </tr>\n",
       "    <tr>\n",
       "      <th>145</th>\n",
       "      <td>6.7</td>\n",
       "      <td>3.0</td>\n",
       "      <td>5.2</td>\n",
       "      <td>2.3</td>\n",
       "    </tr>\n",
       "    <tr>\n",
       "      <th>146</th>\n",
       "      <td>6.3</td>\n",
       "      <td>2.5</td>\n",
       "      <td>5.0</td>\n",
       "      <td>1.9</td>\n",
       "    </tr>\n",
       "    <tr>\n",
       "      <th>147</th>\n",
       "      <td>6.5</td>\n",
       "      <td>3.0</td>\n",
       "      <td>5.2</td>\n",
       "      <td>2.0</td>\n",
       "    </tr>\n",
       "    <tr>\n",
       "      <th>148</th>\n",
       "      <td>6.2</td>\n",
       "      <td>3.4</td>\n",
       "      <td>5.4</td>\n",
       "      <td>2.3</td>\n",
       "    </tr>\n",
       "    <tr>\n",
       "      <th>149</th>\n",
       "      <td>5.9</td>\n",
       "      <td>3.0</td>\n",
       "      <td>5.1</td>\n",
       "      <td>1.8</td>\n",
       "    </tr>\n",
       "  </tbody>\n",
       "</table>\n",
       "<p>150 rows × 4 columns</p>\n",
       "</div>"
      ],
      "text/plain": [
       "     sepal length (cm)  sepal width (cm)  petal length (cm)  petal width (cm)\n",
       "0                  5.1               3.5                1.4               0.2\n",
       "1                  4.9               3.0                1.4               0.2\n",
       "2                  4.7               3.2                1.3               0.2\n",
       "3                  4.6               3.1                1.5               0.2\n",
       "4                  5.0               3.6                1.4               0.2\n",
       "..                 ...               ...                ...               ...\n",
       "145                6.7               3.0                5.2               2.3\n",
       "146                6.3               2.5                5.0               1.9\n",
       "147                6.5               3.0                5.2               2.0\n",
       "148                6.2               3.4                5.4               2.3\n",
       "149                5.9               3.0                5.1               1.8\n",
       "\n",
       "[150 rows x 4 columns]"
      ]
     },
     "execution_count": 7,
     "metadata": {},
     "output_type": "execute_result"
    }
   ],
   "source": [
    "# 피처 데이터 세트\n",
    "ftr_df=iris_df.iloc[:, :-1]  # 마지막 컬럼 -1까지 추출 (마지막 컬럼 제외)\n",
    "ftr_df"
   ]
  },
  {
   "cell_type": "code",
   "execution_count": 8,
   "id": "3335164b",
   "metadata": {},
   "outputs": [
    {
     "data": {
      "text/plain": [
       "0      0\n",
       "1      0\n",
       "2      0\n",
       "3      0\n",
       "4      0\n",
       "      ..\n",
       "145    2\n",
       "146    2\n",
       "147    2\n",
       "148    2\n",
       "149    2\n",
       "Name: target, Length: 150, dtype: int32"
      ]
     },
     "execution_count": 8,
     "metadata": {},
     "output_type": "execute_result"
    }
   ],
   "source": [
    "# 레이블 데이터 세트 (target 값) \n",
    "tgt_df=iris_df.iloc[:, -1]\n",
    "tgt_df"
   ]
  },
  {
   "cell_type": "code",
   "execution_count": 9,
   "id": "52c3ac02",
   "metadata": {},
   "outputs": [],
   "source": [
    "X_train, X_test, y_train, y_test=train_test_split(ftr_df, tgt_df, test_size=0.3, random_state=121)"
   ]
  },
  {
   "cell_type": "code",
   "execution_count": 10,
   "id": "83a182a4",
   "metadata": {},
   "outputs": [
    {
     "data": {
      "text/plain": [
       "(     sepal length (cm)  sepal width (cm)  petal length (cm)  petal width (cm)\n",
       " 133                6.3               2.8                5.1               1.5\n",
       " 143                6.8               3.2                5.9               2.3\n",
       " 24                 4.8               3.4                1.9               0.2\n",
       " 72                 6.3               2.5                4.9               1.5\n",
       " 40                 5.0               3.5                1.3               0.3\n",
       " ..                 ...               ...                ...               ...\n",
       " 83                 6.0               2.7                5.1               1.6\n",
       " 65                 6.7               3.1                4.4               1.4\n",
       " 95                 5.7               3.0                4.2               1.2\n",
       " 8                  4.4               2.9                1.4               0.2\n",
       " 66                 5.6               3.0                4.5               1.5\n",
       " \n",
       " [105 rows x 4 columns],\n",
       "      sepal length (cm)  sepal width (cm)  petal length (cm)  petal width (cm)\n",
       " 50                 7.0               3.2                4.7               1.4\n",
       " 148                6.2               3.4                5.4               2.3\n",
       " 85                 6.0               3.4                4.5               1.6\n",
       " 6                  4.6               3.4                1.4               0.3\n",
       " 32                 5.2               4.1                1.5               0.1\n",
       " 92                 5.8               2.6                4.0               1.2\n",
       " 64                 5.6               2.9                3.6               1.3\n",
       " 79                 5.7               2.6                3.5               1.0\n",
       " 59                 5.2               2.7                3.9               1.4\n",
       " 141                6.9               3.1                5.1               2.3\n",
       " 70                 5.9               3.2                4.8               1.8\n",
       " 53                 5.5               2.3                4.0               1.3\n",
       " 58                 6.6               2.9                4.6               1.3\n",
       " 47                 4.6               3.2                1.4               0.2\n",
       " 29                 4.7               3.2                1.6               0.2\n",
       " 136                6.3               3.4                5.6               2.4\n",
       " 62                 6.0               2.2                4.0               1.0\n",
       " 25                 5.0               3.0                1.6               0.2\n",
       " 115                6.4               3.2                5.3               2.3\n",
       " 5                  5.4               3.9                1.7               0.4\n",
       " 111                6.4               2.7                5.3               1.9\n",
       " 146                6.3               2.5                5.0               1.9\n",
       " 78                 6.0               2.9                4.5               1.5\n",
       " 98                 5.1               2.5                3.0               1.1\n",
       " 90                 5.5               2.6                4.4               1.2\n",
       " 89                 5.5               2.5                4.0               1.3\n",
       " 49                 5.0               3.3                1.4               0.2\n",
       " 23                 5.1               3.3                1.7               0.5\n",
       " 131                7.9               3.8                6.4               2.0\n",
       " 102                7.1               3.0                5.9               2.1\n",
       " 86                 6.7               3.1                4.7               1.5\n",
       " 118                7.7               2.6                6.9               2.3\n",
       " 28                 5.2               3.4                1.4               0.2\n",
       " 43                 5.0               3.5                1.6               0.6\n",
       " 74                 6.4               2.9                4.3               1.3\n",
       " 109                7.2               3.6                6.1               2.5\n",
       " 48                 5.3               3.7                1.5               0.2\n",
       " 18                 5.7               3.8                1.7               0.3\n",
       " 20                 5.4               3.4                1.7               0.2\n",
       " 134                6.1               2.6                5.6               1.4\n",
       " 123                6.3               2.7                4.9               1.8\n",
       " 138                6.0               3.0                4.8               1.8\n",
       " 137                6.4               3.1                5.5               1.8\n",
       " 19                 5.1               3.8                1.5               0.3\n",
       " 106                4.9               2.5                4.5               1.7,\n",
       " 133    2\n",
       " 143    2\n",
       " 24     0\n",
       " 72     1\n",
       " 40     0\n",
       "       ..\n",
       " 83     1\n",
       " 65     1\n",
       " 95     1\n",
       " 8      0\n",
       " 66     1\n",
       " Name: target, Length: 105, dtype: int32,\n",
       " 50     1\n",
       " 148    2\n",
       " 85     1\n",
       " 6      0\n",
       " 32     0\n",
       " 92     1\n",
       " 64     1\n",
       " 79     1\n",
       " 59     1\n",
       " 141    2\n",
       " 70     1\n",
       " 53     1\n",
       " 58     1\n",
       " 47     0\n",
       " 29     0\n",
       " 136    2\n",
       " 62     1\n",
       " 25     0\n",
       " 115    2\n",
       " 5      0\n",
       " 111    2\n",
       " 146    2\n",
       " 78     1\n",
       " 98     1\n",
       " 90     1\n",
       " 89     1\n",
       " 49     0\n",
       " 23     0\n",
       " 131    2\n",
       " 102    2\n",
       " 86     1\n",
       " 118    2\n",
       " 28     0\n",
       " 43     0\n",
       " 74     1\n",
       " 109    2\n",
       " 48     0\n",
       " 18     0\n",
       " 20     0\n",
       " 134    2\n",
       " 123    2\n",
       " 138    2\n",
       " 137    2\n",
       " 19     0\n",
       " 106    2\n",
       " Name: target, dtype: int32)"
      ]
     },
     "execution_count": 10,
     "metadata": {},
     "output_type": "execute_result"
    }
   ],
   "source": [
    "X_train, X_test, y_train, y_test"
   ]
  },
  {
   "cell_type": "code",
   "execution_count": null,
   "id": "a28976fc",
   "metadata": {},
   "outputs": [],
   "source": []
  },
  {
   "cell_type": "code",
   "execution_count": null,
   "id": "a2fe2d07",
   "metadata": {},
   "outputs": [],
   "source": []
  },
  {
   "cell_type": "code",
   "execution_count": 46,
   "id": "9318cef6",
   "metadata": {},
   "outputs": [
    {
     "name": "stdout",
     "output_type": "stream",
     "text": [
      "<class 'pandas.core.frame.DataFrame'> <class 'pandas.core.frame.DataFrame'> <class 'pandas.core.series.Series'> <class 'pandas.core.series.Series'>\n"
     ]
    }
   ],
   "source": [
    "print(type(X_train),type(X_test), type(y_train), type(y_test))\n",
    "\n",
    "# X_train : 학습용 피처 데이터\n",
    "# X_test : 테스트용 피처 데이터 \n"
   ]
  },
  {
   "cell_type": "code",
   "execution_count": 11,
   "id": "4f99bcb7",
   "metadata": {},
   "outputs": [],
   "source": [
    "dt_clf=DecisionTreeClassifier()"
   ]
  },
  {
   "cell_type": "code",
   "execution_count": 12,
   "id": "b3472375",
   "metadata": {},
   "outputs": [
    {
     "data": {
      "text/plain": [
       "DecisionTreeClassifier()"
      ]
     },
     "execution_count": 12,
     "metadata": {},
     "output_type": "execute_result"
    }
   ],
   "source": [
    "dt_clf"
   ]
  },
  {
   "cell_type": "code",
   "execution_count": 13,
   "id": "18bb2f84",
   "metadata": {},
   "outputs": [
    {
     "data": {
      "text/plain": [
       "DecisionTreeClassifier()"
      ]
     },
     "execution_count": 13,
     "metadata": {},
     "output_type": "execute_result"
    }
   ],
   "source": [
    "dt_clf.fit(X_train, y_train)"
   ]
  },
  {
   "cell_type": "code",
   "execution_count": 14,
   "id": "690219ec",
   "metadata": {},
   "outputs": [
    {
     "data": {
      "text/plain": [
       "array([1, 2, 1, 0, 0, 1, 1, 1, 1, 2, 2, 1, 1, 0, 0, 2, 1, 0, 2, 0, 2, 2,\n",
       "       1, 1, 1, 1, 0, 0, 2, 2, 1, 2, 0, 0, 1, 2, 0, 0, 0, 2, 2, 2, 2, 0,\n",
       "       1])"
      ]
     },
     "execution_count": 14,
     "metadata": {},
     "output_type": "execute_result"
    }
   ],
   "source": [
    "pred=dt_clf.predict(X_test)\n",
    "pred"
   ]
  },
  {
   "cell_type": "code",
   "execution_count": 15,
   "id": "64ee8eed",
   "metadata": {},
   "outputs": [
    {
     "name": "stdout",
     "output_type": "stream",
     "text": [
      "예측 정확도:0.9556\n"
     ]
    }
   ],
   "source": [
    "print('예측 정확도:{0:.4f}'.format(accuracy_score(y_test,pred)))"
   ]
  },
  {
   "cell_type": "code",
   "execution_count": null,
   "id": "695362b4",
   "metadata": {},
   "outputs": [],
   "source": []
  },
  {
   "cell_type": "code",
   "execution_count": 17,
   "id": "44fbf4a5",
   "metadata": {
    "scrolled": false
   },
   "outputs": [
    {
     "name": "stdout",
     "output_type": "stream",
     "text": [
      "예측 정확도:0.9556\n"
     ]
    }
   ],
   "source": [
    "# 학습 / 예측 / 예측 정확도 출력\n",
    "dt_clf=DecisionTreeClassifier()\n",
    "dt_clf.fit(X_train, y_train)\n",
    "pred=dt_clf.predict(X_test)\n",
    "print('예측 정확도:{0:.4f}'.format(accuracy_score(y_test,pred)))"
   ]
  },
  {
   "cell_type": "code",
   "execution_count": null,
   "id": "217a134c",
   "metadata": {},
   "outputs": [],
   "source": []
  },
  {
   "cell_type": "code",
   "execution_count": null,
   "id": "87162b70",
   "metadata": {},
   "outputs": [],
   "source": []
  },
  {
   "cell_type": "code",
   "execution_count": null,
   "id": "8960c59c",
   "metadata": {},
   "outputs": [],
   "source": []
  },
  {
   "cell_type": "markdown",
   "id": "be1030d8",
   "metadata": {},
   "source": [
    "## 교차 검증 : K-Fold와 Stratified K-Fold "
   ]
  },
  {
   "cell_type": "markdown",
   "id": "01cccad6",
   "metadata": {},
   "source": [
    "학습/테스트 데이터 세트 분리 시 문제점\n",
    "- 부적합 데이터 선별로 인한 알고리즘 성능 저하\n",
    "- 과적합 문제 발생 (Overfitting)"
   ]
  },
  {
   "cell_type": "markdown",
   "id": "80f702a3",
   "metadata": {},
   "source": [
    "과적합 (Overfitting)\n",
    "- 모델이 학습 데이터에 과도하게 최적화되어\n",
    "- 다른 데이터로 실제 예측을 수행할 경우 예측 성능이 과도하게 떨어지는 것\n"
   ]
  },
  {
   "cell_type": "markdown",
   "id": "c678eb4d",
   "metadata": {},
   "source": [
    "과적합 문제 발생\n",
    "- 고정된 학습 데이터와 테스트 데이터에만 최적의 성능을 발휘할 수 있도록 \n",
    "- 편향되게 모델을 유도하는 경향이 발생한다\n",
    "- 이걸 과적합 문제라고 하고\n",
    "- 결국은 해당 테스트 데이터에만 과적합되는 학습 모델이 만들어져서\n",
    "- 다른 테스트용 데이터가 들어올 경우 성능이 저하 발생한다\n",
    "- 이것을 과적합 문제 발생이다 라고함"
   ]
  },
  {
   "cell_type": "markdown",
   "id": "3c8adb75",
   "metadata": {},
   "source": [
    "부적합한 데이터 선별로 인한 문제점 발생 \n",
    "\n",
    "- ML(머신러닝)은 데이터에 기반하고,\n",
    "- 데이터는 이상치라든지 분포도, 다양한 속성값, 피처 중요도 등\n",
    "- #피처 여러개 있고 중요하게 영향을 미치는 피처가 있음#\n",
    "- #어느피처가 중요한지 중요도 알아보는것도 나중에 할 것인데#\n",
    "- ML에 영향을 미치는 다양한 요소를 가지고 있음\n",
    "- 특정 ML알고리즘에 최적으로 동작할 수 있도록\n",
    "- 데이터를 선별해서 학습한다면\n",
    "- 실제 데이터 양식과는 많은 차이가 있을 것이고\n",
    "- 결국은 성능 저하로 이어질 것임\n",
    "\n",
    "문제점 개선 하기 위해서는\n",
    "문제점 개선 ---> 교차 검증을 이용해서 다양한 학습 평가를 수행을 함 \n"
   ]
  },
  {
   "cell_type": "markdown",
   "id": "1ec21d9b",
   "metadata": {},
   "source": [
    "교차 검증이란?\n",
    "- 데이터 편중을 막기 위해서\n",
    "- 별도의 여러 세트로 구성된 \n",
    "- 학습 데이터 세트와 검증 데이터 세트에서\n",
    "- 학습하고 평가를 수행하는 것 \n",
    "- 학습 후, 학습된 데이터로 여러 번 검증 수행\n",
    "- 각 세트에서 수행한 평가 결과에 따라서 하이퍼 파라미터 튜닝 등의 모델 최적화 쉽게 가능"
   ]
  },
  {
   "cell_type": "markdown",
   "id": "7f539728",
   "metadata": {},
   "source": [
    "ML 모델의 성능 평가는 어떻게 이루어지느냐?\n",
    "ML 모델의 성능 평가 프로세스\n",
    "- 교차 검증 기반으로 1차 평가 수행 후\n",
    "- 최종적으로 테스트 데이터 세트에 적용해 평가\n",
    "- ML에 사용되는 데이터 세트를 세분화해서 학습, 검증, 테스트 세트로 분리 가능\n",
    "- 테스트 데이터 세트 외에 별도의 검증 데이터 세트를 둬서\n",
    "- 최종 평가 이전에 학습된 모델을 다양하게 평가하는데 사용을 한다.\n"
   ]
  },
  {
   "cell_type": "code",
   "execution_count": 51,
   "id": "97f1dd63",
   "metadata": {},
   "outputs": [],
   "source": [
    "# 그림09"
   ]
  },
  {
   "cell_type": "markdown",
   "id": "994d5c48",
   "metadata": {},
   "source": [
    "교차 검증 방법\n",
    "- K 폴드 교차 검증\n",
    "- Stratified K 폴드 교차 검증 \n"
   ]
  },
  {
   "cell_type": "markdown",
   "id": "7b04506f",
   "metadata": {},
   "source": [
    "K 폴드 교차 검증\n",
    "- K개의 데이터 폴드 세트를 만들어서 \n",
    "- K번만큼 각 폴드 세트에 학습과 검증 평가를 반복적으로 수행한다.\n",
    "- 가장 보편적으로 사용되는 교차 검증 방법이다.\n"
   ]
  },
  {
   "cell_type": "markdown",
   "id": "344a8467",
   "metadata": {},
   "source": [
    "K=5  \n",
    "5개의 폴드된 데이터 세트를 학습용과 검증용으로 변경하면서 5번 평가 수행 후에  \n",
    "5개의 평균한 결과로 예측 성능을 평가하게 된다.  "
   ]
  },
  {
   "cell_type": "code",
   "execution_count": 52,
   "id": "68849c3e",
   "metadata": {},
   "outputs": [],
   "source": [
    "# 그림10"
   ]
  },
  {
   "cell_type": "markdown",
   "id": "2b491ef0",
   "metadata": {},
   "source": [
    "K 폴드 교차 검증 프로세스 구현을 위한 사이킷런 클래스 \n",
    "(1) KFold 클래스 : 폴드 세트로 분리하는 객체 생성 \n",
    "    - kfold = kFold(n_splits=5)\n",
    "(2) split()메소드 : 폴드 데이터 세트로 분리\n",
    "    - kfold.split(features)\n",
    "    - 각 폴드마다 학습용, 검증용 데이터 추출하고\n",
    "    - 학습 및 예측을 수행함\n",
    "    - 그리고나서 정확도 측정\n",
    "    - 그리고나서 맨 마지막에 \n",
    "(3) 최종 평균 정확도 계산 \n"
   ]
  },
  {
   "cell_type": "markdown",
   "id": "e70c1b8c",
   "metadata": {},
   "source": [
    "### K 폴드 예제"
   ]
  },
  {
   "cell_type": "code",
   "execution_count": 18,
   "id": "bef47a41",
   "metadata": {},
   "outputs": [
    {
     "name": "stdout",
     "output_type": "stream",
     "text": [
      "붓꽃 데이터 세트 크기 150\n"
     ]
    }
   ],
   "source": [
    "from sklearn.datasets import load_iris\n",
    "from sklearn.tree import DecisionTreeClassifier\n",
    "from sklearn.model_selection import train_test_split\n",
    "from sklearn.metrics import accuracy_score\n",
    "from sklearn.model_selection import KFold\n",
    "import numpy as np\n",
    "\n",
    "iris=load_iris()\n",
    "features=iris.data\n",
    "label=iris.target\n",
    "\n",
    "print('붓꽃 데이터 세트 크기', features.shape[0])"
   ]
  },
  {
   "cell_type": "code",
   "execution_count": 19,
   "id": "1eab7d0a",
   "metadata": {},
   "outputs": [
    {
     "data": {
      "text/plain": [
       "(150, 4)"
      ]
     },
     "execution_count": 19,
     "metadata": {},
     "output_type": "execute_result"
    }
   ],
   "source": [
    "features.shape # 150개 데이터, 피처 4개"
   ]
  },
  {
   "cell_type": "code",
   "execution_count": 80,
   "id": "fdaf5f16",
   "metadata": {},
   "outputs": [],
   "source": [
    "# DecisionTreeClassifier 객체 생성\n",
    "dt_clf=DecisionTreeClassifier(random_state=156)\n",
    "\n",
    "# 5개의 폴드 세트로 분리하는 KFold 객체 생성\n",
    "kfold=KFold(n_splits=5)\n",
    "\n",
    "# 폴드 세트별로 정확도를 저장할 리스트 객체 생성\n",
    "cv_accuracy=[]"
   ]
  },
  {
   "cell_type": "code",
   "execution_count": 20,
   "id": "969448ab",
   "metadata": {},
   "outputs": [
    {
     "data": {
      "text/plain": [
       "DecisionTreeClassifier(random_state=156)"
      ]
     },
     "execution_count": 20,
     "metadata": {},
     "output_type": "execute_result"
    }
   ],
   "source": [
    "# DecisionTreeClassifier 객체 생성\n",
    "dt_clf=DecisionTreeClassifier(random_state=156)\n",
    "dt_clf"
   ]
  },
  {
   "cell_type": "code",
   "execution_count": 21,
   "id": "b2d96226",
   "metadata": {},
   "outputs": [
    {
     "data": {
      "text/plain": [
       "KFold(n_splits=5, random_state=None, shuffle=False)"
      ]
     },
     "execution_count": 21,
     "metadata": {},
     "output_type": "execute_result"
    }
   ],
   "source": [
    "# 5개의 폴드 세트로 분리하는 KFold 객체 생성\n",
    "kfold=KFold(n_splits=5)\n",
    "kfold"
   ]
  },
  {
   "cell_type": "code",
   "execution_count": 22,
   "id": "d2adaadc",
   "metadata": {},
   "outputs": [
    {
     "data": {
      "text/plain": [
       "[]"
      ]
     },
     "execution_count": 22,
     "metadata": {},
     "output_type": "execute_result"
    }
   ],
   "source": [
    "# 폴드 세트별로 정확도를 저장할 리스트 객체 생성\n",
    "cv_accuracy=[]\n",
    "cv_accuracy"
   ]
  },
  {
   "cell_type": "code",
   "execution_count": null,
   "id": "a760694d",
   "metadata": {},
   "outputs": [],
   "source": []
  },
  {
   "cell_type": "code",
   "execution_count": null,
   "id": "085e29ab",
   "metadata": {},
   "outputs": [],
   "source": []
  },
  {
   "cell_type": "code",
   "execution_count": null,
   "id": "a4c1e31f",
   "metadata": {},
   "outputs": [],
   "source": []
  },
  {
   "cell_type": "code",
   "execution_count": 81,
   "id": "0d57d4f6",
   "metadata": {},
   "outputs": [],
   "source": [
    "# features : 150개 데이터\n",
    "# 5개로 나누므로 학습용 데이터는 120개, 검증용 데이터는 30개\n",
    "# KFold 객체의 split()메소드를 사용해서 폴드 데이터 세트로 분리한다. \n",
    "\n",
    "# 폴드 별 학습용 검증용 데이터 세트의 행 인덱스 반환 출력 "
   ]
  },
  {
   "cell_type": "code",
   "execution_count": 82,
   "id": "f6e35821",
   "metadata": {},
   "outputs": [
    {
     "name": "stdout",
     "output_type": "stream",
     "text": [
      "[ 30  31  32  33  34  35  36  37  38  39  40  41  42  43  44  45  46  47\n",
      "  48  49  50  51  52  53  54  55  56  57  58  59  60  61  62  63  64  65\n",
      "  66  67  68  69  70  71  72  73  74  75  76  77  78  79  80  81  82  83\n",
      "  84  85  86  87  88  89  90  91  92  93  94  95  96  97  98  99 100 101\n",
      " 102 103 104 105 106 107 108 109 110 111 112 113 114 115 116 117 118 119\n",
      " 120 121 122 123 124 125 126 127 128 129 130 131 132 133 134 135 136 137\n",
      " 138 139 140 141 142 143 144 145 146 147 148 149] [ 0  1  2  3  4  5  6  7  8  9 10 11 12 13 14 15 16 17 18 19 20 21 22 23\n",
      " 24 25 26 27 28 29]\n",
      "[  0   1   2   3   4   5   6   7   8   9  10  11  12  13  14  15  16  17\n",
      "  18  19  20  21  22  23  24  25  26  27  28  29  60  61  62  63  64  65\n",
      "  66  67  68  69  70  71  72  73  74  75  76  77  78  79  80  81  82  83\n",
      "  84  85  86  87  88  89  90  91  92  93  94  95  96  97  98  99 100 101\n",
      " 102 103 104 105 106 107 108 109 110 111 112 113 114 115 116 117 118 119\n",
      " 120 121 122 123 124 125 126 127 128 129 130 131 132 133 134 135 136 137\n",
      " 138 139 140 141 142 143 144 145 146 147 148 149] [30 31 32 33 34 35 36 37 38 39 40 41 42 43 44 45 46 47 48 49 50 51 52 53\n",
      " 54 55 56 57 58 59]\n",
      "[  0   1   2   3   4   5   6   7   8   9  10  11  12  13  14  15  16  17\n",
      "  18  19  20  21  22  23  24  25  26  27  28  29  30  31  32  33  34  35\n",
      "  36  37  38  39  40  41  42  43  44  45  46  47  48  49  50  51  52  53\n",
      "  54  55  56  57  58  59  90  91  92  93  94  95  96  97  98  99 100 101\n",
      " 102 103 104 105 106 107 108 109 110 111 112 113 114 115 116 117 118 119\n",
      " 120 121 122 123 124 125 126 127 128 129 130 131 132 133 134 135 136 137\n",
      " 138 139 140 141 142 143 144 145 146 147 148 149] [60 61 62 63 64 65 66 67 68 69 70 71 72 73 74 75 76 77 78 79 80 81 82 83\n",
      " 84 85 86 87 88 89]\n",
      "[  0   1   2   3   4   5   6   7   8   9  10  11  12  13  14  15  16  17\n",
      "  18  19  20  21  22  23  24  25  26  27  28  29  30  31  32  33  34  35\n",
      "  36  37  38  39  40  41  42  43  44  45  46  47  48  49  50  51  52  53\n",
      "  54  55  56  57  58  59  60  61  62  63  64  65  66  67  68  69  70  71\n",
      "  72  73  74  75  76  77  78  79  80  81  82  83  84  85  86  87  88  89\n",
      " 120 121 122 123 124 125 126 127 128 129 130 131 132 133 134 135 136 137\n",
      " 138 139 140 141 142 143 144 145 146 147 148 149] [ 90  91  92  93  94  95  96  97  98  99 100 101 102 103 104 105 106 107\n",
      " 108 109 110 111 112 113 114 115 116 117 118 119]\n",
      "[  0   1   2   3   4   5   6   7   8   9  10  11  12  13  14  15  16  17\n",
      "  18  19  20  21  22  23  24  25  26  27  28  29  30  31  32  33  34  35\n",
      "  36  37  38  39  40  41  42  43  44  45  46  47  48  49  50  51  52  53\n",
      "  54  55  56  57  58  59  60  61  62  63  64  65  66  67  68  69  70  71\n",
      "  72  73  74  75  76  77  78  79  80  81  82  83  84  85  86  87  88  89\n",
      "  90  91  92  93  94  95  96  97  98  99 100 101 102 103 104 105 106 107\n",
      " 108 109 110 111 112 113 114 115 116 117 118 119] [120 121 122 123 124 125 126 127 128 129 130 131 132 133 134 135 136 137\n",
      " 138 139 140 141 142 143 144 145 146 147 148 149]\n"
     ]
    }
   ],
   "source": [
    "# 폴드 별 학습용, 검증용 데이터 세트의 행 인덱스 확인 \n",
    "for train_index, test_index in kfold.split(features):\n",
    "    print(train_index, test_index)"
   ]
  },
  {
   "cell_type": "code",
   "execution_count": null,
   "id": "e9006c86",
   "metadata": {},
   "outputs": [],
   "source": [
    "# train\n",
    "[ 30  31  32  33  34  35  36  37  38  39  40  41  42  43  44  45  46  47\n",
    "  48  49  50  51  52  53  54  55  56  57  58  59  60  61  62  63  64  65\n",
    "  66  67  68  69  70  71  72  73  74  75  76  77  78  79  80  81  82  83\n",
    "  84  85  86  87  88  89  90  91  92  93  94  95  96  97  98  99 100 101\n",
    " 102 103 104 105 106 107 108 109 110 111 112 113 114 115 116 117 118 119\n",
    " 120 121 122 123 124 125 126 127 128 129 130 131 132 133 134 135 136 137\n",
    " 138 139 140 141 142 143 144 145 146 147 148 149]\n",
    "\n",
    "# 검증용\n",
    "[ 0  1  2  3  4  5  6  7  8  9 10 11 12 13 14 15 16 17 18 19 20 21 22 23\n",
    " 24 25 26 27 28 29]"
   ]
  },
  {
   "cell_type": "code",
   "execution_count": 23,
   "id": "750f9e77",
   "metadata": {},
   "outputs": [
    {
     "data": {
      "text/plain": [
       "0"
      ]
     },
     "execution_count": 23,
     "metadata": {},
     "output_type": "execute_result"
    }
   ],
   "source": [
    "n_iter=0 # 반복카운트 처음에는 0\n",
    "n_iter"
   ]
  },
  {
   "cell_type": "code",
   "execution_count": 24,
   "id": "955786f1",
   "metadata": {},
   "outputs": [
    {
     "name": "stdout",
     "output_type": "stream",
     "text": [
      "1 교차 검증 정확도 : 1.0, 학습 데이터 크기 :120, 검증 데이터 크기 :30\n",
      "1 검증 세트 인덱스 : [ 0  1  2  3  4  5  6  7  8  9 10 11 12 13 14 15 16 17 18 19 20 21 22 23\n",
      " 24 25 26 27 28 29]\n",
      "평균 검증 정확도: 1.0\n",
      "2 교차 검증 정확도 : 0.9667, 학습 데이터 크기 :120, 검증 데이터 크기 :30\n",
      "2 검증 세트 인덱스 : [30 31 32 33 34 35 36 37 38 39 40 41 42 43 44 45 46 47 48 49 50 51 52 53\n",
      " 54 55 56 57 58 59]\n",
      "평균 검증 정확도: 0.98335\n",
      "3 교차 검증 정확도 : 0.8667, 학습 데이터 크기 :120, 검증 데이터 크기 :30\n",
      "3 검증 세트 인덱스 : [60 61 62 63 64 65 66 67 68 69 70 71 72 73 74 75 76 77 78 79 80 81 82 83\n",
      " 84 85 86 87 88 89]\n",
      "평균 검증 정확도: 0.9444666666666667\n",
      "4 교차 검증 정확도 : 0.9333, 학습 데이터 크기 :120, 검증 데이터 크기 :30\n",
      "4 검증 세트 인덱스 : [ 90  91  92  93  94  95  96  97  98  99 100 101 102 103 104 105 106 107\n",
      " 108 109 110 111 112 113 114 115 116 117 118 119]\n",
      "평균 검증 정확도: 0.941675\n",
      "5 교차 검증 정확도 : 0.7333, 학습 데이터 크기 :120, 검증 데이터 크기 :30\n",
      "5 검증 세트 인덱스 : [120 121 122 123 124 125 126 127 128 129 130 131 132 133 134 135 136 137\n",
      " 138 139 140 141 142 143 144 145 146 147 148 149]\n",
      "평균 검증 정확도: 0.9\n"
     ]
    }
   ],
   "source": [
    "# K=5 이므로 5번 반복 \n",
    "for train_index, test_index in kfold.split(features):\n",
    "    # 각 폴드 별 학습용, 검증용 데이터 추출\n",
    "    X_train, X_test=features[train_index], features[test_index] # 피쳐 데이터\n",
    "    y_train, y_test=label[train_index], label[test_index] # 레이블(타겟) 데이터 \n",
    "    \n",
    "    # 학습 및 예측 \n",
    "    dt_clf.fit(X_train, y_train)\n",
    "    pred=dt_clf.predict(X_test)\n",
    "    \n",
    "    n_iter +=1   # 반복횟수 증가\n",
    "    \n",
    "    # 반복할 때마다 정확도 측정\n",
    "    \n",
    "    accuracy=np.round(accuracy_score(y_test, pred), 4)\n",
    "    train_size=X_train.shape[0]  # X_train.shape:(120,4)\n",
    "    test_size=X_test.shape[0]    # X_test.shape : (30,4)\n",
    "    \n",
    "    print('{0} 교차 검증 정확도 : {1}, 학습 데이터 크기 :{2}, 검증 데이터 크기 :{3}'.format(n_iter,accuracy,train_size,test_size))\n",
    "    print('{0} 검증 세트 인덱스 : {1}'.format(n_iter, test_index))\n",
    "    \n",
    "    cv_accuracy.append(accuracy)\n",
    "    \n",
    "    \n",
    "    # 개별 정확도를 합하여 평균 정확도 계산\n",
    "    print('평균 검증 정확도:', np.mean(cv_accuracy))"
   ]
  },
  {
   "cell_type": "code",
   "execution_count": null,
   "id": "8c42d50d",
   "metadata": {},
   "outputs": [],
   "source": []
  },
  {
   "cell_type": "code",
   "execution_count": 85,
   "id": "6b3d0571",
   "metadata": {},
   "outputs": [
    {
     "name": "stdout",
     "output_type": "stream",
     "text": [
      "1 교차 검증 정확도 : 1.0, 학습 데이터 크기 :120, 검증 데이터 크기 :30\n",
      "1 검증 세트 인덱스 : [ 0  1  2  3  4  5  6  7  8  9 10 11 12 13 14 15 16 17 18 19 20 21 22 23\n",
      " 24 25 26 27 28 29]\n",
      "평균 검증 정확도: 1.0\n",
      "2 교차 검증 정확도 : 0.9667, 학습 데이터 크기 :120, 검증 데이터 크기 :30\n",
      "2 검증 세트 인덱스 : [30 31 32 33 34 35 36 37 38 39 40 41 42 43 44 45 46 47 48 49 50 51 52 53\n",
      " 54 55 56 57 58 59]\n",
      "평균 검증 정확도: 0.98335\n",
      "3 교차 검증 정확도 : 0.8667, 학습 데이터 크기 :120, 검증 데이터 크기 :30\n",
      "3 검증 세트 인덱스 : [60 61 62 63 64 65 66 67 68 69 70 71 72 73 74 75 76 77 78 79 80 81 82 83\n",
      " 84 85 86 87 88 89]\n",
      "평균 검증 정확도: 0.9444666666666667\n",
      "4 교차 검증 정확도 : 0.9333, 학습 데이터 크기 :120, 검증 데이터 크기 :30\n",
      "4 검증 세트 인덱스 : [ 90  91  92  93  94  95  96  97  98  99 100 101 102 103 104 105 106 107\n",
      " 108 109 110 111 112 113 114 115 116 117 118 119]\n",
      "평균 검증 정확도: 0.941675\n",
      "5 교차 검증 정확도 : 0.7333, 학습 데이터 크기 :120, 검증 데이터 크기 :30\n",
      "5 검증 세트 인덱스 : [120 121 122 123 124 125 126 127 128 129 130 131 132 133 134 135 136 137\n",
      " 138 139 140 141 142 143 144 145 146 147 148 149]\n",
      "평균 검증 정확도: 0.9\n"
     ]
    }
   ],
   "source": [
    "# 각 폴드 별 학습용, 검증용 데이터 추출\n",
    "# 학습 및 예측\n",
    "# 정확도 측정 : 리스트에 저장\n",
    "\n",
    "# 평균 검증 정확도 확인\n",
    "\n",
    "n_iter=0 # 반복카운트 처음에는 0\n",
    "\n",
    "# K=5 이므로 5번 반복 \n",
    "for train_index, test_index in kfold.split(features):\n",
    "    # 각 폴드 별 학습용, 검증용 데이터 추출\n",
    "    X_train, X_test=features[train_index], features[test_index] # 피쳐 데이터\n",
    "    y_train, y_test=label[train_index], label[test_index] # 레이블(타겟) 데이터 \n",
    "    \n",
    "    # 학습 및 예측 \n",
    "    dt_clf.fit(X_train, y_train)\n",
    "    pred=dt_clf.predict(X_test)\n",
    "    \n",
    "    n_iter +=1   # 반복횟수 증가\n",
    "    \n",
    "    # 반복할 때마다 정확도 측정\n",
    "    \n",
    "    accuracy=np.round(accuracy_score(y_test, pred), 4)\n",
    "    train_size=X_train.shape[0]  # X_train.shape:(120,4)\n",
    "    test_size=X_test.shape[0]    # X_test.shape : (30,4)\n",
    "    \n",
    "    print('{0} 교차 검증 정확도 : {1}, 학습 데이터 크기 :{2}, 검증 데이터 크기 :{3}'.format(n_iter,accuracy,train_size,test_size))\n",
    "    print('{0} 검증 세트 인덱스 : {1}'.format(n_iter, test_index))\n",
    "    \n",
    "    cv_accuracy.append(accuracy)\n",
    "    \n",
    "    \n",
    "    # 개별 정확도를 합하여 평균 정확도 계산\n",
    "    print('평균 검증 정확도:', np.mean(cv_accuracy))"
   ]
  },
  {
   "cell_type": "code",
   "execution_count": 86,
   "id": "15a81fde",
   "metadata": {},
   "outputs": [
    {
     "name": "stdout",
     "output_type": "stream",
     "text": [
      "1 교차 검증 정확도 : 1.0, 학습 데이터 크기 : 120, 검증 데이터 크기 :30\n",
      "1 검증 세트 인덱스 : [ 0  1  2  3  4  5  6  7  8  9 10 11 12 13 14 15 16 17 18 19 20 21 22 23\n",
      " 24 25 26 27 28 29]\n",
      "2 교차 검증 정확도 : 0.9667, 학습 데이터 크기 : 120, 검증 데이터 크기 :30\n",
      "2 검증 세트 인덱스 : [30 31 32 33 34 35 36 37 38 39 40 41 42 43 44 45 46 47 48 49 50 51 52 53\n",
      " 54 55 56 57 58 59]\n",
      "3 교차 검증 정확도 : 0.8667, 학습 데이터 크기 : 120, 검증 데이터 크기 :30\n",
      "3 검증 세트 인덱스 : [60 61 62 63 64 65 66 67 68 69 70 71 72 73 74 75 76 77 78 79 80 81 82 83\n",
      " 84 85 86 87 88 89]\n",
      "4 교차 검증 정확도 : 0.9333, 학습 데이터 크기 : 120, 검증 데이터 크기 :30\n",
      "4 검증 세트 인덱스 : [ 90  91  92  93  94  95  96  97  98  99 100 101 102 103 104 105 106 107\n",
      " 108 109 110 111 112 113 114 115 116 117 118 119]\n",
      "5 교차 검증 정확도 : 0.7333, 학습 데이터 크기 : 120, 검증 데이터 크기 :30\n",
      "5 검증 세트 인덱스 : [120 121 122 123 124 125 126 127 128 129 130 131 132 133 134 135 136 137\n",
      " 138 139 140 141 142 143 144 145 146 147 148 149]\n",
      "평균 검증 정확도 :  0.9\n"
     ]
    }
   ],
   "source": [
    "# 각 폴드 별 학습용, 검증용 데이터 추출\n",
    "#학습 및 예측\n",
    "#정확도 측정 : 리스트에 저장\n",
    "\n",
    "\n",
    "#평균 검증 정확도 확인\n",
    "n_iter = 0\n",
    "\n",
    "#k=5 이므로 5번 반복\n",
    "for train_index, test_index in kfold.split(features):\n",
    "    # 각 폴드 별 학습용, 검증용 데이터 추출\n",
    "    X_train, X_test = features[train_index], features[test_index] # 피처 데이터\n",
    "    y_train, y_test = label[train_index], label[test_index]\n",
    "    \n",
    "    # 학습 및 예측\n",
    "    dt_clf.fit(X_train, y_train)\n",
    "    pred = dt_clf.predict(X_test)\n",
    "    \n",
    "    n_iter += 1\n",
    "    \n",
    "    # 반복할 때 마다 정확도 측정\n",
    "    accuracy = np.round(accuracy_score(y_test, pred), 4)\n",
    "    train_size = X_train.shape[0] #X_train.shape: (120,4)\n",
    "    test_size = X_test.shape[0]   #X_test.shape : (30,4)\n",
    "    \n",
    "    print('{0} 교차 검증 정확도 : {1}, 학습 데이터 크기 : {2}, 검증 데이터 크기 :{3}'.format(n_iter, accuracy, train_size, test_size))\n",
    "    print('{0} 검증 세트 인덱스 : {1}'.format(n_iter, test_index))\n",
    "    \n",
    "    cv_accuracy.append(accuracy)\n",
    "    \n",
    "#개별 정확도를 합하여 평균 정확도 계산\n",
    "print('평균 검증 정확도 : ', np.mean(cv_accuracy))\n"
   ]
  },
  {
   "cell_type": "markdown",
   "id": "aea4f528",
   "metadata": {},
   "source": [
    "### Stratified K 폴드 교차 검증\n",
    "\n",
    "- 불균형한 분포도를 가진 레이블(결정 클래스) 데이터 집합을 위한 KFold 방식\n",
    "- 데이터 분포도가 불균형하게 퍼져있을 때 쓴다\n",
    "- 특정 레이블 값이 특이하게 많거나 아니면 매우 적어서 값의 분포가 한쪽으로 치우친 경우\n",
    "- 학습 데이터와 검증 데이터 세트가 가지는 레이블 분포도가 유사하도록 검증 데이터를 추출한다\n",
    "- 원본 데이터의 레이블 분포도를 먼저 고려한 뒤, 이 분포와 동일하게 학습과 검증 데이터를 분배\n",
    "- KFold로 분할된 레이블 데이터 세트가 \n",
    "- 전체 레이블 값의 분포도를 반영하지 못하는 문제를 해결해주는 교차 검증 방법이다. \n"
   ]
  },
  {
   "cell_type": "markdown",
   "id": "96307a30",
   "metadata": {},
   "source": [
    "Stratified K 폴드 교차 검증 방법이 사용되는 예\n",
    "\n",
    "- 대출 사기 데이터 예측\n",
    "- 데이터 세트 : 1억 건\n",
    "- feature 수십 개\n",
    "- 대출 사기 여부를 뜻하는 레이블\n",
    "    - 대출 사기 : 1\n",
    "    - 정상 대출 : 0\n",
    "- 대출 사긴 건수 : 약 1000건 (전체의 0.00001%)\n",
    "- 이렇게 작은 비율로 1 레이블 값이 있다면\n",
    "- K 폴드로 랜덤하게 학습/테스트 데이터 세트의 인덱스 고르더라도\n",
    "- 레이블 값인 0과1의 비율을 제대로 반영하지 못하는 경우가 쉽게 발생\n",
    "- 즉, 레이블 값으로 1이 특정 개별 반복별 학습/테스트 데이터 세트에는 상대적으로 많이 들어 있어도\n",
    "- 다른 반복 학습/테스트 데이터 세트에는 적게 포함되어 있을 수 있음\n",
    "\n",
    "\n",
    "- 그러나, 대출 사기 레이블이 1인 레코드 비록 건수는 적지만\n",
    "- 알고리즘이 대출 사기를 예측하기 위한 중요한 피처 값을 가지고 있기 때문에\n",
    "- 매우 중요한 데이터 세트이므로\n",
    "- 대출 사기 레이블 값의 분포를 원본 데이터의 분포와 유사하게\n",
    "- 학습/테스트 데이터 세트에서도 유지하는 게 매우 중요\n",
    "\n",
    "- 따라서, 원본 데이터의 레이블 분포를 먼저 고려한 뒤\n",
    "- 이 분포와 동일하게 학습과 검증 데이터 세트를 분배하는 방식인\n",
    "- Stratified K 폴드 교차 검증 방법을 사용해서 예측\n"
   ]
  },
  {
   "cell_type": "code",
   "execution_count": null,
   "id": "cebc6ae2",
   "metadata": {},
   "outputs": [],
   "source": [
    "Stratified K 폴드 예제\n",
    "- 먼저 K 폴드 문제점을 확인하고\n",
    "- 사이킷런의 Stratified K 폴드 교차 검증 방법으로 개선\n",
    "- 붓꽃 데이터 세트를 데이터 프레임으로 생성하고\n",
    "- 레이블 값의 분포도 확인 "
   ]
  },
  {
   "cell_type": "code",
   "execution_count": 88,
   "id": "ce3f9b80",
   "metadata": {},
   "outputs": [
    {
     "data": {
      "text/html": [
       "<div>\n",
       "<style scoped>\n",
       "    .dataframe tbody tr th:only-of-type {\n",
       "        vertical-align: middle;\n",
       "    }\n",
       "\n",
       "    .dataframe tbody tr th {\n",
       "        vertical-align: top;\n",
       "    }\n",
       "\n",
       "    .dataframe thead th {\n",
       "        text-align: right;\n",
       "    }\n",
       "</style>\n",
       "<table border=\"1\" class=\"dataframe\">\n",
       "  <thead>\n",
       "    <tr style=\"text-align: right;\">\n",
       "      <th></th>\n",
       "      <th>sepal length (cm)</th>\n",
       "      <th>sepal width (cm)</th>\n",
       "      <th>petal length (cm)</th>\n",
       "      <th>petal width (cm)</th>\n",
       "      <th>label</th>\n",
       "    </tr>\n",
       "  </thead>\n",
       "  <tbody>\n",
       "    <tr>\n",
       "      <th>0</th>\n",
       "      <td>5.1</td>\n",
       "      <td>3.5</td>\n",
       "      <td>1.4</td>\n",
       "      <td>0.2</td>\n",
       "      <td>0</td>\n",
       "    </tr>\n",
       "    <tr>\n",
       "      <th>1</th>\n",
       "      <td>4.9</td>\n",
       "      <td>3.0</td>\n",
       "      <td>1.4</td>\n",
       "      <td>0.2</td>\n",
       "      <td>0</td>\n",
       "    </tr>\n",
       "    <tr>\n",
       "      <th>2</th>\n",
       "      <td>4.7</td>\n",
       "      <td>3.2</td>\n",
       "      <td>1.3</td>\n",
       "      <td>0.2</td>\n",
       "      <td>0</td>\n",
       "    </tr>\n",
       "    <tr>\n",
       "      <th>3</th>\n",
       "      <td>4.6</td>\n",
       "      <td>3.1</td>\n",
       "      <td>1.5</td>\n",
       "      <td>0.2</td>\n",
       "      <td>0</td>\n",
       "    </tr>\n",
       "    <tr>\n",
       "      <th>4</th>\n",
       "      <td>5.0</td>\n",
       "      <td>3.6</td>\n",
       "      <td>1.4</td>\n",
       "      <td>0.2</td>\n",
       "      <td>0</td>\n",
       "    </tr>\n",
       "  </tbody>\n",
       "</table>\n",
       "</div>"
      ],
      "text/plain": [
       "   sepal length (cm)  sepal width (cm)  petal length (cm)  petal width (cm)  \\\n",
       "0                5.1               3.5                1.4               0.2   \n",
       "1                4.9               3.0                1.4               0.2   \n",
       "2                4.7               3.2                1.3               0.2   \n",
       "3                4.6               3.1                1.5               0.2   \n",
       "4                5.0               3.6                1.4               0.2   \n",
       "\n",
       "   label  \n",
       "0      0  \n",
       "1      0  \n",
       "2      0  \n",
       "3      0  \n",
       "4      0  "
      ]
     },
     "execution_count": 88,
     "metadata": {},
     "output_type": "execute_result"
    }
   ],
   "source": [
    "import pandas as pd\n",
    "\n",
    "iris = load_iris()\n",
    "\n",
    "iris_df = pd.DataFrame(data =iris.data, columns=iris.feature_names)\n",
    "iris_df['label'] = iris.target\n",
    "iris_df.head()\n"
   ]
  },
  {
   "cell_type": "code",
   "execution_count": 89,
   "id": "73a6bbcd",
   "metadata": {},
   "outputs": [
    {
     "data": {
      "text/plain": [
       "0    50\n",
       "1    50\n",
       "2    50\n",
       "Name: label, dtype: int64"
      ]
     },
     "execution_count": 89,
     "metadata": {},
     "output_type": "execute_result"
    }
   ],
   "source": [
    "# 각 레이블 값 개수 확인\n",
    "iris_df['label'].value_counts()\n",
    "# 레이블 값은 0,1,2 값 모두 50개로 동일 "
   ]
  },
  {
   "cell_type": "code",
   "execution_count": 90,
   "id": "52edd281",
   "metadata": {
    "scrolled": true
   },
   "outputs": [
    {
     "name": "stdout",
     "output_type": "stream",
     "text": [
      "교차 검증 : 1\n",
      "학습 레이블 데이터 분포: 1    50\n",
      "2    50\n",
      "Name: label, dtype: int64\n",
      "검증 레이블 데이터 분포: 0    50\n",
      "Name: label, dtype: int64\n",
      "교차 검증 : 2\n",
      "학습 레이블 데이터 분포: 0    50\n",
      "2    50\n",
      "Name: label, dtype: int64\n",
      "검증 레이블 데이터 분포: 1    50\n",
      "Name: label, dtype: int64\n",
      "교차 검증 : 3\n",
      "학습 레이블 데이터 분포: 0    50\n",
      "1    50\n",
      "Name: label, dtype: int64\n",
      "검증 레이블 데이터 분포: 2    50\n",
      "Name: label, dtype: int64\n"
     ]
    }
   ],
   "source": [
    "# 3개의 폴드 세츠 생성\n",
    "kfold=KFold(n_splits=3)\n",
    "\n",
    "n_iter=0\n",
    "\n",
    "for train_index, test_index in kfold.split(iris_df):\n",
    "    n_iter += 1\n",
    "    \n",
    "    label_train = iris_df['label'].iloc[train_index]\n",
    "    label_test = iris_df['label'].iloc[test_index]\n",
    "    \n",
    "    print('교차 검증 : {0}'.format(n_iter))\n",
    "    print('학습 레이블 데이터 분포:',label_train.value_counts())\n",
    "    print('검증 레이블 데이터 분포:',label_test.value_counts())\n",
    "    \n",
    "# 결과\n",
    "# 교차 검증 할 때마다 3개의 폴드 세트로 만들어지는 \n",
    "# 학습 레이블과 검증 레이블이 완전히 다른 값으로 추출되었음 \n",
    "\n",
    "# 첫 번째 교차 검증\n",
    "#- 학습 레이블의 1, 2, 값이 각각 50개씩 나왔다\n",
    "#- 검증 레이블에서는 0의 값이 50개 나왔다\n",
    "\n",
    "#학습 레이블은 1,2 밖에 없다\n",
    "#0의 경우를 전혀 학습하지 못한다\n",
    "\n",
    "#검증 레이블은 0밖에 없으므로 학습 모델은 0을 절대 예측하지 못한다\n",
    "\n",
    "#이런 유형으로 교차 검증 데이터 세트를 분할하면 \n",
    "#검증 예측 정확도는 0이 된다."
   ]
  },
  {
   "cell_type": "markdown",
   "id": "b362534c",
   "metadata": {},
   "source": [
    "동일한 데이터를 분할을 StratifiedKFold로 수행하고\n",
    "학습/검증 레이블 데이터 분포도 확인\n",
    "KFold 사용법과 거의 비슷\n",
    "단 하나 큰 차이 \n",
    "- 레이블 데이터 분포도에 따라 학습/검증 데이터를 나누기 때문에\n",
    "- split() 메서드 인자로 피처 데이터와 함께 반드시 레이블 데이터로 세트도 반드시 필요함\n",
    "- 그것이 차이점임 \n",
    "\n"
   ]
  },
  {
   "cell_type": "code",
   "execution_count": null,
   "id": "4b8f2b14",
   "metadata": {},
   "outputs": [],
   "source": [
    "아래 또안됨 코드, "
   ]
  },
  {
   "cell_type": "code",
   "execution_count": 99,
   "id": "2f61350d",
   "metadata": {},
   "outputs": [
    {
     "name": "stdout",
     "output_type": "stream",
     "text": [
      "교차 검증 : 1\n",
      "학습 레이블 데이터 분포:\n",
      " 2    34\n",
      "0    33\n",
      "1    33\n",
      "Name: label, dtype: int64\n",
      "검증 레이블 데이터 분포:\n",
      " 2    50\n",
      "Name: label, dtype: int64\n",
      "교차 검증 : 2\n",
      "학습 레이블 데이터 분포:\n",
      " 1    34\n",
      "0    33\n",
      "2    33\n",
      "Name: label, dtype: int64\n",
      "검증 레이블 데이터 분포:\n",
      " 2    50\n",
      "Name: label, dtype: int64\n",
      "교차 검증 : 3\n",
      "학습 레이블 데이터 분포:\n",
      " 0    34\n",
      "1    33\n",
      "2    33\n",
      "Name: label, dtype: int64\n",
      "검증 레이블 데이터 분포:\n",
      " 2    50\n",
      "Name: label, dtype: int64\n"
     ]
    }
   ],
   "source": [
    "from sklearn.model_selection import StratifiedKFold\n",
    "\n",
    "skfold=StratifiedKFold(n_splits=3) # 폴드 세트 3개\n",
    "n_iter=0\n",
    "\n",
    "# 레이블 데이터 세트도 반드시 인자로 사용\n",
    "for train_index, test_index in skfold.split(iris_df, iris_df['label']):\n",
    "    n_iter +=1\n",
    "    label_train=iris_df['label'].iloc[train_index]\n",
    "    lebel_test=iris_df['label'].iloc[test_index]\n",
    "    \n",
    "    print('교차 검증 : {0}'.format(n_iter))\n",
    "    print('학습 레이블 데이터 분포:\\n',label_train.value_counts())\n",
    "    print('검증 레이블 데이터 분포:\\n',label_test.value_counts())\n",
    "    \n",
    "# 출력 결과 \n",
    "#학습 레이블 검증 레이블 데이터 값의 분포도가 동일하게 할당\n",
    "#학습 레이블 : 0, 1, 2 가 33, 33, 34\n",
    "#검증 레이블 : 0, 1, 2 가 17, 17, 16\n",
    "    \n",
    "#이렇게 분할되어야 레이블 값 0, 1, 2 모두 학습할 수 있고\n",
    "#이에 기반해서 검증 수행 가능하다 "
   ]
  },
  {
   "cell_type": "code",
   "execution_count": 100,
   "id": "1fe4049b",
   "metadata": {},
   "outputs": [
    {
     "name": "stdout",
     "output_type": "stream",
     "text": [
      "\n",
      "1 교차 검증 정확도 : 0.98, 학습 데이터 크기 : 100, 검증 데이터 크기 :50\n",
      "1 검증 세트 인덱스 : [  0   1   2   3   4   5   6   7   8   9  10  11  12  13  14  15  16  50\n",
      "  51  52  53  54  55  56  57  58  59  60  61  62  63  64  65  66 100 101\n",
      " 102 103 104 105 106 107 108 109 110 111 112 113 114 115]\n",
      "\n",
      "2 교차 검증 정확도 : 0.94, 학습 데이터 크기 : 100, 검증 데이터 크기 :50\n",
      "2 검증 세트 인덱스 : [ 17  18  19  20  21  22  23  24  25  26  27  28  29  30  31  32  33  67\n",
      "  68  69  70  71  72  73  74  75  76  77  78  79  80  81  82 116 117 118\n",
      " 119 120 121 122 123 124 125 126 127 128 129 130 131 132]\n",
      "\n",
      "3 교차 검증 정확도 : 0.98, 학습 데이터 크기 : 100, 검증 데이터 크기 :50\n",
      "3 검증 세트 인덱스 : [ 34  35  36  37  38  39  40  41  42  43  44  45  46  47  48  49  83  84\n",
      "  85  86  87  88  89  90  91  92  93  94  95  96  97  98  99 133 134 135\n",
      " 136 137 138 139 140 141 142 143 144 145 146 147 148 149]\n",
      "교차 검증별 정확도 : [0.98 0.94 0.98]\n",
      "평균 검증 정확도 :  0.9666666666666667\n"
     ]
    }
   ],
   "source": [
    "# Stratified K 폴드 방식으로 붓꽃 데이터 교차 검증\n",
    "# StratifiedKFold 클래스 사용\n",
    "from sklearn.model_selection import StratifiedKFold\n",
    "\n",
    "\n",
    "dt_clf=DecisionTreeClassifier(random_state=156)\n",
    "\n",
    "skfold=StratifiedKFold(n_splits=3)\n",
    "n_iter=0\n",
    "cv_accuracy=[]\n",
    "\n",
    "# StratifiedKFold의 split() 호출할 때 피처 데이터와 함께 반드시 레이블 데이터 세트도\n",
    "# 추가로 입력을 해줘야 한다 \n",
    "# 피처데이터와함꼐 반드시 레이블데이터도 \n",
    "# 나머지는 위와 똑같다\n",
    "\n",
    "for train_index, test_index in skfold.split(features, label):\n",
    "    # 각 폴드 별 학습용, 검증용 데이터 추출\n",
    "    X_train, X_test = features[train_index], features[test_index] # 피처 데이터\n",
    "    y_train, y_test = label[train_index], label[test_index]\n",
    "    \n",
    "    # 학습 및 예측\n",
    "    dt_clf.fit(X_train, y_train)\n",
    "    pred = dt_clf.predict(X_test)\n",
    "    \n",
    "    n_iter += 1\n",
    "    \n",
    "    # 반복할 때 마다 정확도 측정\n",
    "    accuracy = np.round(accuracy_score(y_test, pred), 4)\n",
    "    train_size = X_train.shape[0] #X_train.shape: (120,4)\n",
    "    test_size = X_test.shape[0]   #X_test.shape : (30,4)\n",
    "    \n",
    "    print('\\n{0} 교차 검증 정확도 : {1}, 학습 데이터 크기 : {2}, 검증 데이터 크기 :{3}'.format(n_iter, accuracy, train_size, test_size))\n",
    "    print('{0} 검증 세트 인덱스 : {1}'.format(n_iter, test_index))\n",
    "    \n",
    "    cv_accuracy.append(accuracy)\n",
    "    \n",
    "#개별 정확도를 합하여 평균 정확도 계산\n",
    "print('교차 검증별 정확도 :', np.round(cv_accuracy,4))\n",
    "print('평균 검증 정확도 : ', np.mean(cv_accuracy))\n"
   ]
  },
  {
   "cell_type": "code",
   "execution_count": null,
   "id": "b2d4fa05",
   "metadata": {},
   "outputs": [],
   "source": [
    "동일한 데이터를 분할을 StratifiedKFold로 수행하고\n",
    "학습/검증 레이블 데이터 분포도 확인\n",
    "KFold 사용법과 거의 비슷\n",
    "단 하나 큰 차이 "
   ]
  },
  {
   "cell_type": "markdown",
   "id": "39db3bfd",
   "metadata": {},
   "source": [
    "Stratified K 폴드  \n",
    "원본 데이터의 레이블 분포도 특성을 반영한 학습 및 검증 데이터 세트를 만들 수 있으므로  \n",
    "왜곡된 레이블 데이터 세트에서는 반드시 stratified K 폴드를 이용해서 교차검증해야 함.  \n",
    "일반적으로 분류(Classification)에의 교차검증은 K 폴드가 아니라 Stratified K 폴드로 분할되어야 함  \n",
    "회귀(Regression)에서 Stratified K 폴드 지원되지 않음  \n",
    "- 이유 : 회귀의 결정값은 이산값 형태의 레이블이 아니라 연속된 숫자값이기때문에   \n",
    "- 결정값별로 분포를 정하는 의미가 없기 때문에 지원을 안한다(?)  \n"
   ]
  },
  {
   "cell_type": "code",
   "execution_count": null,
   "id": "0a01bd4c",
   "metadata": {},
   "outputs": [],
   "source": []
  },
  {
   "cell_type": "markdown",
   "id": "1759a1fc",
   "metadata": {},
   "source": [
    "## 사이킷런 API를 사용해서 교차검증 간단하게 수행"
   ]
  },
  {
   "cell_type": "markdown",
   "id": "4fce564c",
   "metadata": {},
   "source": [
    "교차 검증(Cross Validation) 과정  \n",
    "(1) 폴드 세트 설정  \n",
    "(2) for문에서 반복적으로 학습 및 검증 데이터 추출하고 학습/예측 수행하고  \n",
    "(3) 폴드 세트 별로 예측 성능 (정확도)을 평균하여 최종 성능을 평가함  \n"
   ]
  },
  {
   "cell_type": "markdown",
   "id": "2f574e21",
   "metadata": {},
   "source": [
    "교차 검증을 보다 좀더 편리하게 간편하게 해주는 사이킷런 API\n",
    "- cross_val_score() 함수 제공해줌\n",
    "- (1)~(3) 단계의 교차 검증 과정을 한꺼번에 수행\n",
    "- 내부에서 Estimator를 학습(fit)시켜주고 예측하고(predict) 평가(evaluation)을 전부다 시켜주므로\n",
    "- 간단하게 교차 검증 수행 가능하다.\n",
    "- 그것이 바로 사이킷런임. "
   ]
  },
  {
   "cell_type": "markdown",
   "id": "424519ec",
   "metadata": {},
   "source": [
    "cross_val_score() 주요 파라미터\n",
    "- estimator : Classifier 또는 Regressor (분류 또는 회귀)\n",
    "- X : 피처 데이터 세트\n",
    "- y : 레이블 데이터 세트\n",
    "- scoring : 예측 성능 평가 지표\n",
    "- cv : 교차 검증 폴드 수\n",
    "- cross_val_score(dt_clf, data, label, scoring='accuracy‘, cv=3)\n",
    "- cv로 지정된 횟수만큼 \n",
    "- scoring 파라미터로 지정된 평가지표로 평가 결과값을 배열로 반환\n",
    "- 일반적으로 평가 결과값 평균을 평가 수치로 사용"
   ]
  },
  {
   "cell_type": "code",
   "execution_count": 104,
   "id": "7a52aadd",
   "metadata": {},
   "outputs": [
    {
     "name": "stdout",
     "output_type": "stream",
     "text": [
      "교차 검증별 정확도: [0.98 0.94 0.98]\n",
      "평균 검증 정확도: 0.9667\n"
     ]
    }
   ],
   "source": [
    "# cross_val_score()\n",
    "# 교차 검증 폴드 수 : 3\n",
    "# 성능 평가 지표 : accuracy (정확도)\n",
    "\n",
    "from sklearn.datasets import load_iris\n",
    "from sklearn.tree import DecisionTreeClassifier\n",
    "from sklearn.model_selection import cross_val_score, cross_validate\n",
    "import numpy as np\n",
    "\n",
    "iris_data=load_iris()\n",
    "dt_clf=DecisionTreeClassifier(random_state=156)\n",
    "\n",
    "data=iris_data.data\n",
    "label=iris_data.target\n",
    "\n",
    "# 성능 평가 지표 : accuracy(정확도), 교차 검증 폴드 수 : 3\n",
    "scores=cross_val_score(dt_clf,data,label,scoring='accuracy', cv=3)\n",
    "\n",
    "print('교차 검증별 정확도:',scores)\n",
    "print('평균 검증 정확도:',np.round(np.mean(scores),4))\n",
    "\n",
    "# cross_val_score() 수행 결과\n",
    "# 앞 예제 StratifiedKFold를 이용해 붓꽃 데이터 교차 검증 결과와 동일"
   ]
  },
  {
   "cell_type": "markdown",
   "id": "7fd9c648",
   "metadata": {},
   "source": [
    "## 하이퍼 파라미터 (Hyper Parameter)\n",
    "\n",
    "- 모델링할 때 사용자가 직접 세팅해주는 값\n",
    "- 여러 하이퍼 파라미터를 순차적으로 변경하면서\n",
    "- 최고 성능을 가지는 파라미터 조합을 찾을 수 있음\n",
    "\n",
    "- max_depth, min_samples_split, iteration 등 \n",
    "- 머신러닝 알고리즘을 구성하는 주요 구성요소로 \n",
    "- 이 값들을 조정해서 알고리즘의 예측 성능을 개선할 수 있음"
   ]
  },
  {
   "cell_type": "markdown",
   "id": "c8b791a6",
   "metadata": {},
   "source": [
    "GridSearchCV 클래스\n",
    "- 사이킷런에서는 GridSearchCV 클래스를 이용해서 \n",
    "- Classifier나 Regressor 같은 알고리즘에 사용되는\n",
    "- 하이퍼 파라미터를 순차적으로 입력하면서\n",
    "- 최적의 파라미터를 편리하게 도출할 수 있는 방법을 제공해준다. \n",
    "- Grid : 격자라는 의미로, 촘촘하게 파라미터를 입력하면서 테스트하는 방식을 말한다. \n",
    "\n",
    "최적의 하이퍼파라미터를 찾는 방법\n",
    "- 머신러닝 알고리즘의 여러 하이퍼 파라미터를 \n",
    "- 순차적으로 변경하면서 최고 성능을 가지는 파라미터를 찾으려면\n",
    "- 파라미터의 집합을 만들어서 순차적으로 적용하면서 최적화를 수행\n",
    "- 성능이 최고일 때의 하이퍼 파라미터가 최적의 파라미터가 되는 것이다.\n"
   ]
  },
  {
   "cell_type": "markdown",
   "id": "064d2b6d",
   "metadata": {},
   "source": [
    "GridSearchCV 클래스 생성자의 주요 파라미터\n",
    "- estimator : classifier, regressor, peipeline\n",
    "- param_grid : key + 리스트 값을 가지는 딕셔너리 (estimator 튜닝을 위한 하이퍼 파라미터 )\n",
    "  - key: 파라미터명, 리스트값:파라미터 값\n",
    "- scoring : 예측 성능을 측정할 평가 방법\n",
    "  - 성능 평가 지표를 지정하는 문자열 (예: 정확도인 경우 'accuracy')\n",
    "- cv : 교차 검증을 위해 분할되는 학습/테스트 세트의 개수\n",
    "- refit : 최적의 하이퍼 파라미터를 찾은 뒤\n",
    "  - 입력된 estimator 객체를 해당 하이퍼 파라미터로 재학습 여부\n",
    "  - 디폴트 : True\n"
   ]
  },
  {
   "cell_type": "markdown",
   "id": "72e54469",
   "metadata": {},
   "source": [
    "--------------------------------------------------------\n",
    "2021.07.22 목요일"
   ]
  },
  {
   "cell_type": "markdown",
   "id": "f469dcf4",
   "metadata": {},
   "source": [
    "DecisionTreeClassifier의 파라미터\n",
    "- max_depth : 트리의 최대 깊이 \n",
    "- min_samples_split : 노드를 분할하기 위한 최소한의 샘플 데이터 수"
   ]
  },
  {
   "cell_type": "code",
   "execution_count": 120,
   "id": "5644685b",
   "metadata": {},
   "outputs": [],
   "source": [
    "# GridSearchCV를 이용해서\n",
    "# 결정 트리 알고리즘의 여러가지 최적화 파라미터를 순차적으로 적용하여\n",
    "# 붓꽃 데이터 예측 분석 \n",
    "\n",
    "from sklearn.datasets import load_iris\n",
    "from sklearn.tree import DecisionTreeClassifier\n",
    "from sklearn.metrics import accuracy_score\n",
    "from sklearn.model_selection import GridSearchCV, train_test_split\n",
    "\n",
    "# 데이터를 로드하고 학습 데이터와 테스트 데이터 세트 분리 \n",
    "iris=load_iris()\n",
    "X_train, X_test, y_train, y_test=train_test_split(iris.data,iris.target, test_size=0.2, random_state=121)\n",
    "\n",
    "dtree=DecisionTreeClassifier()\n",
    "\n",
    "# 하이퍼 파라미터 설정\n",
    "# 파라미터들을 dictionary 형태로 설정\n",
    "# key : 파라미터명, 리스트값 : 파라미터값\n",
    "parameters={'max_depth':[1, 2, 3],'min_samples_split':[2, 3]}\n"
   ]
  },
  {
   "cell_type": "code",
   "execution_count": 121,
   "id": "1863e90d",
   "metadata": {},
   "outputs": [],
   "source": [
    "# 'min_samples_split' : 노드를 분할하기 위한 최소한의 샘플 데이터 수\n",
    "# 'min_samples_split=4'로 설정한 경우\n",
    "# 최소 샘플 개수 4개가 필요한데\n",
    "# 3개만 있는 경우에는 더이상 자식 규칙 노드를 위한 분할을 하지 않음\n",
    "# 트리 깊이를 줄여서 더 간결한 결정 트리 생성\n"
   ]
  },
  {
   "cell_type": "code",
   "execution_count": 123,
   "id": "37714240",
   "metadata": {},
   "outputs": [
    {
     "data": {
      "text/html": [
       "<div>\n",
       "<style scoped>\n",
       "    .dataframe tbody tr th:only-of-type {\n",
       "        vertical-align: middle;\n",
       "    }\n",
       "\n",
       "    .dataframe tbody tr th {\n",
       "        vertical-align: top;\n",
       "    }\n",
       "\n",
       "    .dataframe thead th {\n",
       "        text-align: right;\n",
       "    }\n",
       "</style>\n",
       "<table border=\"1\" class=\"dataframe\">\n",
       "  <thead>\n",
       "    <tr style=\"text-align: right;\">\n",
       "      <th></th>\n",
       "      <th>params</th>\n",
       "      <th>mean_test_score</th>\n",
       "      <th>rank_test_score</th>\n",
       "      <th>split0_test_score</th>\n",
       "      <th>split1_test_score</th>\n",
       "      <th>split2_test_score</th>\n",
       "    </tr>\n",
       "  </thead>\n",
       "  <tbody>\n",
       "    <tr>\n",
       "      <th>0</th>\n",
       "      <td>{'max_depth': 1, 'min_samples_split': 2}</td>\n",
       "      <td>0.700000</td>\n",
       "      <td>5</td>\n",
       "      <td>0.700</td>\n",
       "      <td>0.7</td>\n",
       "      <td>0.70</td>\n",
       "    </tr>\n",
       "    <tr>\n",
       "      <th>1</th>\n",
       "      <td>{'max_depth': 1, 'min_samples_split': 3}</td>\n",
       "      <td>0.700000</td>\n",
       "      <td>5</td>\n",
       "      <td>0.700</td>\n",
       "      <td>0.7</td>\n",
       "      <td>0.70</td>\n",
       "    </tr>\n",
       "    <tr>\n",
       "      <th>2</th>\n",
       "      <td>{'max_depth': 2, 'min_samples_split': 2}</td>\n",
       "      <td>0.958333</td>\n",
       "      <td>3</td>\n",
       "      <td>0.925</td>\n",
       "      <td>1.0</td>\n",
       "      <td>0.95</td>\n",
       "    </tr>\n",
       "    <tr>\n",
       "      <th>3</th>\n",
       "      <td>{'max_depth': 2, 'min_samples_split': 3}</td>\n",
       "      <td>0.958333</td>\n",
       "      <td>3</td>\n",
       "      <td>0.925</td>\n",
       "      <td>1.0</td>\n",
       "      <td>0.95</td>\n",
       "    </tr>\n",
       "    <tr>\n",
       "      <th>4</th>\n",
       "      <td>{'max_depth': 3, 'min_samples_split': 2}</td>\n",
       "      <td>0.975000</td>\n",
       "      <td>1</td>\n",
       "      <td>0.975</td>\n",
       "      <td>1.0</td>\n",
       "      <td>0.95</td>\n",
       "    </tr>\n",
       "    <tr>\n",
       "      <th>5</th>\n",
       "      <td>{'max_depth': 3, 'min_samples_split': 3}</td>\n",
       "      <td>0.975000</td>\n",
       "      <td>1</td>\n",
       "      <td>0.975</td>\n",
       "      <td>1.0</td>\n",
       "      <td>0.95</td>\n",
       "    </tr>\n",
       "  </tbody>\n",
       "</table>\n",
       "</div>"
      ],
      "text/plain": [
       "                                     params  mean_test_score  rank_test_score  \\\n",
       "0  {'max_depth': 1, 'min_samples_split': 2}         0.700000                5   \n",
       "1  {'max_depth': 1, 'min_samples_split': 3}         0.700000                5   \n",
       "2  {'max_depth': 2, 'min_samples_split': 2}         0.958333                3   \n",
       "3  {'max_depth': 2, 'min_samples_split': 3}         0.958333                3   \n",
       "4  {'max_depth': 3, 'min_samples_split': 2}         0.975000                1   \n",
       "5  {'max_depth': 3, 'min_samples_split': 3}         0.975000                1   \n",
       "\n",
       "   split0_test_score  split1_test_score  split2_test_score  \n",
       "0              0.700                0.7               0.70  \n",
       "1              0.700                0.7               0.70  \n",
       "2              0.925                1.0               0.95  \n",
       "3              0.925                1.0               0.95  \n",
       "4              0.975                1.0               0.95  \n",
       "5              0.975                1.0               0.95  "
      ]
     },
     "execution_count": 123,
     "metadata": {},
     "output_type": "execute_result"
    }
   ],
   "source": [
    "import pandas as pd \n",
    "\n",
    "# param_grid의 하이퍼 파라미터들을 3개의 train, test set fold로 나누어서 테스트 수행 설정\n",
    "grid_dtree=GridSearchCV(dtree, param_grid=parameters, cv=3, refit=True, return_train_score=True)\n",
    "\n",
    "# 붓꽃 학습 데이터로 param_grid의 하이퍼 파라미터들을 순차적으로 학습/평가\n",
    "grid_dtree.fit(X_train,y_train) # 학습 데이터 세트 사용 \n",
    "# fit(학습 데이터 세트)\n",
    "# - 학습 데이터를 cv에 기술된 폴딩 세트로 분할해 \n",
    "# - param_grid에 기술된 하이퍼 파라미터들을 순차적으로 변경하면서 학습/평가 수행하고\n",
    "# - 그 결과를 cv_results_ 속성에 기록을 한다\n",
    "# cv_results_속성 : GridSearchCV 결과 세트로 딕셔너리 형태\n",
    "\n",
    "# GridSearchCV 결과 세트로 딕셔너리 형태인 cv_results_ 데이터 프레임으로 변환 후\n",
    "# 필요한 파라미터 값만 추출해서 그 내용을 확인\n",
    "scores_df=pd.DataFrame(grid_dtree.cv_results_)\n",
    "scores_df[['params', 'mean_test_score', 'rank_test_score', 'split0_test_score', 'split1_test_score', 'split2_test_score']]\n"
   ]
  },
  {
   "cell_type": "code",
   "execution_count": 124,
   "id": "e879950d",
   "metadata": {},
   "outputs": [],
   "source": [
    "## 강사님이 보내준 코드"
   ]
  },
  {
   "cell_type": "code",
   "execution_count": 125,
   "id": "022e8bac",
   "metadata": {},
   "outputs": [],
   "source": [
    "from sklearn.datasets import load_iris\n",
    "from sklearn.tree import DecisionTreeClassifier\n",
    "from sklearn.metrics import accuracy_score\n",
    "from sklearn.model_selection import GridSearchCV, train_test_split\n",
    "\n",
    "# 데이터를 로드하고 학습 데이터와 테스트 데이터 세트 분리\n",
    "iris = load_iris()\n",
    "X_train, X_test, y_train, y_test = train_test_split(iris.data, iris.target, test_size=0.2, random_state=121)\n",
    "\n",
    "dtree = DecisionTreeClassifier()\n",
    "\n",
    "# 하이퍼 파라미터 설정\n",
    "# 파라미터들을 dictionary 형태로 설정\n",
    "# key : 파라미터명, 리스트 값 : 파라미터 값\n",
    "parameters = {'max_depth':[1, 2, 3], 'min_samples_split':[2, 3]}\n"
   ]
  },
  {
   "cell_type": "code",
   "execution_count": 126,
   "id": "a007b9bb",
   "metadata": {},
   "outputs": [
    {
     "data": {
      "text/html": [
       "<div>\n",
       "<style scoped>\n",
       "    .dataframe tbody tr th:only-of-type {\n",
       "        vertical-align: middle;\n",
       "    }\n",
       "\n",
       "    .dataframe tbody tr th {\n",
       "        vertical-align: top;\n",
       "    }\n",
       "\n",
       "    .dataframe thead th {\n",
       "        text-align: right;\n",
       "    }\n",
       "</style>\n",
       "<table border=\"1\" class=\"dataframe\">\n",
       "  <thead>\n",
       "    <tr style=\"text-align: right;\">\n",
       "      <th></th>\n",
       "      <th>params</th>\n",
       "      <th>mean_test_score</th>\n",
       "      <th>rank_test_score</th>\n",
       "      <th>split0_test_score</th>\n",
       "      <th>split1_test_score</th>\n",
       "      <th>split2_test_score</th>\n",
       "    </tr>\n",
       "  </thead>\n",
       "  <tbody>\n",
       "    <tr>\n",
       "      <th>0</th>\n",
       "      <td>{'max_depth': 1, 'min_samples_split': 2}</td>\n",
       "      <td>0.700000</td>\n",
       "      <td>5</td>\n",
       "      <td>0.700</td>\n",
       "      <td>0.7</td>\n",
       "      <td>0.70</td>\n",
       "    </tr>\n",
       "    <tr>\n",
       "      <th>1</th>\n",
       "      <td>{'max_depth': 1, 'min_samples_split': 3}</td>\n",
       "      <td>0.700000</td>\n",
       "      <td>5</td>\n",
       "      <td>0.700</td>\n",
       "      <td>0.7</td>\n",
       "      <td>0.70</td>\n",
       "    </tr>\n",
       "    <tr>\n",
       "      <th>2</th>\n",
       "      <td>{'max_depth': 2, 'min_samples_split': 2}</td>\n",
       "      <td>0.958333</td>\n",
       "      <td>3</td>\n",
       "      <td>0.925</td>\n",
       "      <td>1.0</td>\n",
       "      <td>0.95</td>\n",
       "    </tr>\n",
       "    <tr>\n",
       "      <th>3</th>\n",
       "      <td>{'max_depth': 2, 'min_samples_split': 3}</td>\n",
       "      <td>0.958333</td>\n",
       "      <td>3</td>\n",
       "      <td>0.925</td>\n",
       "      <td>1.0</td>\n",
       "      <td>0.95</td>\n",
       "    </tr>\n",
       "    <tr>\n",
       "      <th>4</th>\n",
       "      <td>{'max_depth': 3, 'min_samples_split': 2}</td>\n",
       "      <td>0.975000</td>\n",
       "      <td>1</td>\n",
       "      <td>0.975</td>\n",
       "      <td>1.0</td>\n",
       "      <td>0.95</td>\n",
       "    </tr>\n",
       "    <tr>\n",
       "      <th>5</th>\n",
       "      <td>{'max_depth': 3, 'min_samples_split': 3}</td>\n",
       "      <td>0.975000</td>\n",
       "      <td>1</td>\n",
       "      <td>0.975</td>\n",
       "      <td>1.0</td>\n",
       "      <td>0.95</td>\n",
       "    </tr>\n",
       "  </tbody>\n",
       "</table>\n",
       "</div>"
      ],
      "text/plain": [
       "                                     params  mean_test_score  rank_test_score  \\\n",
       "0  {'max_depth': 1, 'min_samples_split': 2}         0.700000                5   \n",
       "1  {'max_depth': 1, 'min_samples_split': 3}         0.700000                5   \n",
       "2  {'max_depth': 2, 'min_samples_split': 2}         0.958333                3   \n",
       "3  {'max_depth': 2, 'min_samples_split': 3}         0.958333                3   \n",
       "4  {'max_depth': 3, 'min_samples_split': 2}         0.975000                1   \n",
       "5  {'max_depth': 3, 'min_samples_split': 3}         0.975000                1   \n",
       "\n",
       "   split0_test_score  split1_test_score  split2_test_score  \n",
       "0              0.700                0.7               0.70  \n",
       "1              0.700                0.7               0.70  \n",
       "2              0.925                1.0               0.95  \n",
       "3              0.925                1.0               0.95  \n",
       "4              0.975                1.0               0.95  \n",
       "5              0.975                1.0               0.95  "
      ]
     },
     "execution_count": 126,
     "metadata": {},
     "output_type": "execute_result"
    }
   ],
   "source": [
    "import pandas as pd\n",
    "\n",
    "# param_grid의 하이퍼 파라미터들을 3개의 train, test set fold로 나누어서 테스트 수행 설정\n",
    "grid_dtree = GridSearchCV(dtree, param_grid=parameters, cv=3, refit=True, return_train_score=True)\n",
    "\n",
    "# 붓꽃 학습 데이터로 param_grid의 하이퍼 파라미터들을 순차적으로 학습/평가\n",
    "grid_dtree.fit(X_train, y_train) # 학습 데이터 세트 사용\n",
    "\n",
    "# fit(학습 데이터 세트)\n",
    "# - 학습 데이터를 cv에 기술된 폴딩 세트로 분할해\n",
    "# - param_grid에 기술된 하이퍼 파라미터들을 순차적으로 변경하면서 학스/평가 수행하고\n",
    "# - 그 결과를 cv_results_ 속성에 기록\n",
    "\n",
    "# cv_results_ 속성 : GridSearchCV 결과 세트로 딕셔너리 형태\n",
    "\n",
    "# GridSearchCV 결과 세트로 딕셔너리 형태인 cv_results_ 데이터 프레임으로 변환 후\n",
    "# 필요한 파라미터 값만 추출\n",
    "scores_df = pd.DataFrame(grid_dtree.cv_results_)\n",
    "scores_df[['params', 'mean_test_score', 'rank_test_score', 'split0_test_score', 'split1_test_score', 'split2_test_score']]\n",
    "\n",
    "\n",
    "# 파라미터를 순차 적용 횟수(6) X cv 세트(3) = 학습/검증 총 수행 횟수(18)\n",
    "# rank_test_scores : 예측 성능 순위\n",
    "# 1위일 때의 mean_test_score의 값이 0.975로 가장 높음 (공동 1위)\n",
    "\n",
    "\n",
    "# 이 때의 파라미터가 최적의 하이퍼 파라미터에 해당 \n",
    "#{'max_depth':3,'min_samples_split':2}\n",
    "#{'max_depth':3,'min_samples_split':3}\n",
    "\n",
    "\n",
    "# split0_test_score, split1_test_score, split2_test_score : cv=3\n",
    "\n",
    "# 즉, 3개의 폴딩 세트에서 각각 테스트한 성능 수치\n",
    "# mean_test_score : 이 3개의 성능 수치를 평균한 값\n"
   ]
  },
  {
   "cell_type": "code",
   "execution_count": 128,
   "id": "355309ce",
   "metadata": {},
   "outputs": [
    {
     "name": "stdout",
     "output_type": "stream",
     "text": [
      "GridSearchCV 최적 파라미터 :  {'max_depth': 3, 'min_samples_split': 2}\n",
      "GridSearchCV 최고 정확도 : 0.9750\n"
     ]
    }
   ],
   "source": [
    "# best_params_ 속성 : 최적의 파라미터 값 저장 \n",
    "# 최고 성능을 가지는 파라미터 조합과 예측 성능 1위 값 출력\n",
    "print('GridSearchCV 최적 파라미터 : ', grid_dtree.best_params_)\n",
    "print('GridSearchCV 최고 정확도 : {0:.4f}'.format(grid_dtree.best_score_))"
   ]
  },
  {
   "cell_type": "code",
   "execution_count": null,
   "id": "3e9e67c5",
   "metadata": {},
   "outputs": [],
   "source": [
    "GridSearchCV 결과값 저장하고 있는 속성\n",
    "\n",
    "#cv_results_\n",
    "#best_params_\n",
    "#best_score_\n"
   ]
  },
  {
   "cell_type": "code",
   "execution_count": 129,
   "id": "812fd652",
   "metadata": {},
   "outputs": [],
   "source": [
    "## 강사님꺼 보내줌"
   ]
  },
  {
   "cell_type": "code",
   "execution_count": null,
   "id": "f0e38ce9",
   "metadata": {},
   "outputs": [],
   "source": [
    "# GridSearchCV 를 이용해서\n",
    "# 결정 트리 알고리즘의 여러 가지 최적화 파라미터를 순차적으로 적용하여\n",
    "# 붓꽃 데이타 예측 분석\n",
    "\n",
    "from sklearn.datasets import load_iris\n",
    "from sklearn.tree import DecisionTreeClassifier\n",
    "from sklearn.metrics import accuracy_score\n",
    "from sklearn.model_selection import GridSearchCV, train_test_split\n",
    "\n",
    "# 데이터를 로드하고 학습 데이터와 테스트 데이터 세트 분리\n",
    "iris = load_iris()\n",
    "X_train, X_test, y_train, y_test = train_test_split(iris.data, iris.target, test_size=0.2, random_state=121)\n",
    "\n",
    "dtree = DecisionTreeClassifier()\n",
    "\n",
    "# 하이퍼 파라미터 설정\n",
    "# 파라미터들을 dictionary 형태로 설정\n",
    "# key : 파라미터명, 리스트 값 : 파라미터 값\n",
    "parameters = {'max_depth':[1, 2, 3], 'min_samples_split':[2, 3]}\n"
   ]
  },
  {
   "cell_type": "code",
   "execution_count": null,
   "id": "0076b1b6",
   "metadata": {},
   "outputs": [],
   "source": [
    "# 'min_samples_split : 노드를 분할하기 위한 최소한의 샘플 데이터 수 \n",
    "# min_samples_split=4 로 설정한 경우\n",
    "# 최소 샘플 개수 4개가 필요한데\n",
    "# 3개만 있는 경우에는 더이상 자식 규칙 노드를 위한 분할을 하지 않음\n",
    "# 트리 깊이를 줄여서 더 간결한 결정 트리 생성\n"
   ]
  },
  {
   "cell_type": "code",
   "execution_count": null,
   "id": "73b2f1c4",
   "metadata": {},
   "outputs": [],
   "source": [
    "import pandas as pd\n",
    "\n",
    "# param_grid의 하이퍼 파라미터들을 3개의 train, test set fold로 나누어서 테스트 수행 설정\n",
    "grid_dtree = GridSearchCV(dtree, param_grid=parameters, cv=3, refit=True, return_train_score=True)\n",
    "\n",
    "# 붓꽃 학습 데이터로 param_grid의 하이퍼 파라미터들을 순차적으로 학습/평가\n",
    "grid_dtree.fit(X_train, y_train) # 학습 데이터 세트 사용\n",
    "# fit(학습 데이터 세트)\n",
    "# - 학습 데이터를 cv에 기술된 폴딩 세트로 분할해\n",
    "# - param_grid에 기술된 하이퍼 파라미터들을 순차적으로 변경하면서 학스/평가 수행하고\n",
    "# - 그 결과를 cv_results_ 속성에 기록\n",
    "# cv_results_ 속성 : GridSearchCV 결과 세트로 딕셔너리 형태\n",
    "\n",
    "# GridSearchCV 결과 세트로 딕셔너리 형태인 cv_results_ 데이터 프레임으로 변환 후\n",
    "# 필요한 파라미터 값만 추출\n",
    "scores_df = pd.DataFrame(grid_dtree.cv_results_)\n",
    "scores_df[['params', 'mean_test_score', 'rank_test_score', 'split0_test_score', 'split1_test_score', 'split2_test_score']]\n",
    "\n",
    "# 파라미터를 순차 적용 횟수(6) X cv 세트 (3) = 학습/검증 총 수행 횟수(18)\n",
    "# rank_test_score : 예측 성능 순위\n",
    "# 1위일 때의 mean_test_score의 값이 0.975로 가장 높음 (공동 1위)\n",
    "# 이 때의 파라미터가 최적의 하이퍼 파라미터에 해당\n",
    "# {'max_depth': 3, 'min_samples_split': 2}\n",
    "# {'max_depth': 3, 'min_samples_split': 3}\n",
    "\n",
    "# split0_test_score, split1_test_score, split2_test_score : cv=3\n",
    "# 즉, 3개의 폴딩 세트에서 각각 테스트한 성능 수치\n",
    "# mean_test_scor : 이 3개의 성능 수치를 평균한 값\n"
   ]
  },
  {
   "cell_type": "code",
   "execution_count": 130,
   "id": "4eb0b637",
   "metadata": {},
   "outputs": [],
   "source": [
    "## 다시 수업"
   ]
  },
  {
   "cell_type": "markdown",
   "id": "6b72abf7",
   "metadata": {},
   "source": [
    "일반적으로 머신러닝 모델 적용 방법\n",
    "- 일반적으로 학습 데이터를 GridSearchCV를 이용해서\n",
    "- 최적 하이퍼 파라미터 튜닝을 수행한 뒤에\n",
    "- 별도의 테스트 세트에서 이를 평가하는 방식 "
   ]
  },
  {
   "cell_type": "code",
   "execution_count": null,
   "id": "5fbad3e9",
   "metadata": {},
   "outputs": [],
   "source": []
  },
  {
   "cell_type": "code",
   "execution_count": null,
   "id": "9a3907e5",
   "metadata": {},
   "outputs": [],
   "source": []
  },
  {
   "cell_type": "code",
   "execution_count": null,
   "id": "3a7c27c9",
   "metadata": {},
   "outputs": [],
   "source": []
  },
  {
   "cell_type": "code",
   "execution_count": null,
   "id": "012e0533",
   "metadata": {},
   "outputs": [],
   "source": []
  },
  {
   "cell_type": "code",
   "execution_count": null,
   "id": "cc70948e",
   "metadata": {},
   "outputs": [],
   "source": []
  },
  {
   "cell_type": "code",
   "execution_count": null,
   "id": "bd5b2804",
   "metadata": {},
   "outputs": [],
   "source": []
  },
  {
   "cell_type": "code",
   "execution_count": null,
   "id": "5a2b3e92",
   "metadata": {},
   "outputs": [],
   "source": []
  },
  {
   "cell_type": "code",
   "execution_count": null,
   "id": "edd1d286",
   "metadata": {},
   "outputs": [],
   "source": []
  },
  {
   "cell_type": "code",
   "execution_count": null,
   "id": "f003e326",
   "metadata": {},
   "outputs": [],
   "source": []
  },
  {
   "cell_type": "code",
   "execution_count": null,
   "id": "02b0b438",
   "metadata": {},
   "outputs": [],
   "source": []
  },
  {
   "cell_type": "code",
   "execution_count": null,
   "id": "264b285b",
   "metadata": {},
   "outputs": [],
   "source": []
  },
  {
   "cell_type": "code",
   "execution_count": null,
   "id": "ba3772ef",
   "metadata": {},
   "outputs": [],
   "source": []
  },
  {
   "cell_type": "code",
   "execution_count": null,
   "id": "b430cd74",
   "metadata": {},
   "outputs": [],
   "source": []
  },
  {
   "cell_type": "code",
   "execution_count": null,
   "id": "a5af34e6",
   "metadata": {},
   "outputs": [],
   "source": []
  },
  {
   "cell_type": "code",
   "execution_count": null,
   "id": "778dad8a",
   "metadata": {},
   "outputs": [],
   "source": []
  },
  {
   "cell_type": "code",
   "execution_count": null,
   "id": "046e3ef0",
   "metadata": {},
   "outputs": [],
   "source": []
  },
  {
   "cell_type": "code",
   "execution_count": null,
   "id": "2d917a36",
   "metadata": {},
   "outputs": [],
   "source": []
  },
  {
   "cell_type": "code",
   "execution_count": null,
   "id": "7b3a4908",
   "metadata": {},
   "outputs": [],
   "source": []
  },
  {
   "cell_type": "code",
   "execution_count": null,
   "id": "fed51e93",
   "metadata": {},
   "outputs": [],
   "source": []
  },
  {
   "cell_type": "code",
   "execution_count": null,
   "id": "651ea24c",
   "metadata": {},
   "outputs": [],
   "source": []
  }
 ],
 "metadata": {
  "kernelspec": {
   "display_name": "Python 3",
   "language": "python",
   "name": "python3"
  },
  "language_info": {
   "codemirror_mode": {
    "name": "ipython",
    "version": 3
   },
   "file_extension": ".py",
   "mimetype": "text/x-python",
   "name": "python",
   "nbconvert_exporter": "python",
   "pygments_lexer": "ipython3",
   "version": "3.8.8"
  }
 },
 "nbformat": 4,
 "nbformat_minor": 5
}
