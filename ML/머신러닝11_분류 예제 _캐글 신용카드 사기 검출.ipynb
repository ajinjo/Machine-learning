{
 "cells": [
  {
   "cell_type": "markdown",
   "id": "ab38edf0",
   "metadata": {},
   "source": [
    "# 분류 예제 : 캐글 신용카드 사기 검출"
   ]
  },
  {
   "cell_type": "code",
   "execution_count": null,
   "id": "4fc8f03d",
   "metadata": {},
   "outputs": [],
   "source": [
    "Kaggle의 신용카드 데이터 세트를 이용해 신용카드 사기 검출 분류 실습\n",
    "데이터 다운로드 : www.kaggle.com 검색\n",
    "credit card fraud detection\n",
    "creditcard.csv"
   ]
  },
  {
   "cell_type": "markdown",
   "id": "0d8c27ce",
   "metadata": {},
   "source": [
    "신용카드 데이터 세트 특징\n",
    "- 2013년 European Card 사용 트랜잭션을 가공해서 생성\n",
    "- 불균형(Imbalanced)되어 있는 데이터 셋 284,807건의 데이터 중 492건이 Fraud(사기)\n",
    "\n",
    "레이블인 Class 속성이 매우 불균형한 분포\n",
    "- 0 값 : 정상 트랜잭선\n",
    "- 1 값 : 사기 트랜잭션 (0.172 %)\n",
    "    \n",
    "일반적인 사기 검출(Fraud Detection)이나 이상 검출(Anomaly Detection)과 데이터 세트는  \n",
    "레이블 값이 극도로 불균형한 분포를 이룸  \n",
    "사기와 같은 이상 현상은 전체 데이터에서 차지하는 비중이 매우 적기 때문"
   ]
  },
  {
   "cell_type": "code",
   "execution_count": null,
   "id": "b71e03ba",
   "metadata": {},
   "outputs": [],
   "source": [
    "Credit Card Fraud Detection ML 모델 구척\n",
    "- 다양한 Feature Engineering 방식을\n",
    "- Rogistic Regression과 LightGBM 방식을 이용하ㅕ\n",
    "- 각 방식에 적용 후 평가 비교\n",
    "\n",
    "Feature Engineering\n",
    "- 피처들 중 어떤 것이 모델링할 때 중요한 것인지 결정하는 과정\n",
    "- 모델 성능에 미치는 영향이 크기 때문에 머신러닝 응용에 있어서 상당히 중요한 단계\n",
    "- 전문성과 시간, 비용이 많이 드는 작업\n",
    "- PCA 방식 사용\n",
    "\n",
    "PCA (Pricipal Component Analysis) : 주성분 분석\n",
    "- 대표적인 차원 축소 알고리즘\n",
    "- 여러 변수 간 존재하는 상관관계를 이용해\n",
    "- 대표하는 주성분을 추출해서 차원을 축소하는 기법\n",
    "- 간단하게 가장 높은 분산을 가지는 데이터의 축을 찾아 차원을 축소\n",
    "\n",
    "\n",
    "차원 축소\n",
    "- 많은 피처로 구성된 다차원 데이터 셋을\n",
    "- 차원을 축소하여 새로운 차원의 데이터 셋을 생성하는 것\n",
    "\n",
    "\n",
    "Feature Engineering 주요 작업\n",
    "- 주요 Feature의 데이터 분포도 변경 : Log 변환\n",
    "- 이상치 제거\n",
    "- SMOTE 오버 샘플링\n",
    "\n",
    "Log 변환\n",
    "- 왜곡된 분포도를 가진 데이터 셋을\n",
    "- 비교적 정규 분포에 가깝게 변환하는\n",
    "- 피처 엔지니어링 방식\n",
    "\n",
    "분포도가 왜곡되어 있다면 해결 방법은 로그 변환이 답\n",
    "일반 수치 10, 100, 1000하면 10과 100 사이가 크지만\n",
    "로그로하게 되면 log(10)은, log(100)은 2처럼\n",
    "간극이 일정하기 때문에 \n",
    "로그 변환을 이용하면 왜곡된 분포도를 쉽게 정규 변환 형태로 변경 가능\n",
    "\n",
    "IQR(Inter Qunatile Range)를 이용한 이상치 제거"
   ]
  },
  {
   "cell_type": "code",
   "execution_count": null,
   "id": "ab8c3871",
   "metadata": {},
   "outputs": [],
   "source": [
    "# 그림30 IQR과 박스 플롯"
   ]
  },
  {
   "cell_type": "code",
   "execution_count": null,
   "id": "4f7899a4",
   "metadata": {},
   "outputs": [],
   "source": [
    "언더 샘플링과 오버 샘플링\n",
    "- 레이블이 불균형한 분포를 가진 데이터 셋을 학습 시 예측 성능의 문제 발생\n",
    "- 이상 레이블을 가지는 데이터 건수가 정상 레이블을 가진 데이터 건수에 비해 너무 적어\n",
    "- 다양한 유형을 학습하지 못하고 일방적으로너무 많은 정상 레이블로 치우친 학습을 수행하기 때문에\n",
    "- 제대로 된 이상 데이터 검출이 어려움\n",
    "\n",
    "지도학습에서 극도로 불균형한 레이블 값 분포로 인한 문제점을 해결하기 위해서는\n",
    "적절한 양의 학습 데이터를 확보해야 함\n",
    "대표적으로 오버 샘플링과 언더 샘플링 방법 사용\n",
    "오버 샘플링 방식이 예측 성능상 더 유리한 경우가 많아서 주로 사용\n",
    "\n",
    "\n",
    "언더 샘플링\n",
    "- 많은 레이블을 가진 데이터 셋을 적은 데이터 셋 수준으로 감소시키는 방식\n",
    "- 너무 많은 정상 레이블 데이터를 감소시키기 때문에\n",
    "- 정상 레이블의 경우 제대로 된 학습을 수행할 수 없다는 단점이 있어서\n",
    "- 잘 적용하지 않음\n",
    "\n",
    "오버 샘플링\n",
    "- 적은 레이블을 가진 데이터 셋을 많은 데이터 셋 수준으로 증식시키는 방식\n",
    "- 학습을 위한 충분한 데이터 확보\n",
    "- 그러나 동일한 데이터를 단순히 증식하는 방법은 과적합이 되기 때문에 의미 없고\n",
    "- 원본 데이터의 피처 값들을 약간만 변경해서 증식\n",
    "- 대표적인 방법 SMOTE\n"
   ]
  },
  {
   "cell_type": "code",
   "execution_count": null,
   "id": "f00a23a8",
   "metadata": {},
   "outputs": [],
   "source": [
    "# 그림31 언더 샘플링 VS 오버 샘플링"
   ]
  },
  {
   "cell_type": "code",
   "execution_count": null,
   "id": "940d7bca",
   "metadata": {},
   "outputs": [],
   "source": [
    "SMOTE (Synthetic Minority Over_sample Technique)\n",
    "- 적은 데이터 세트에 있는 개별 데이터들의\n",
    "- K 최근접 이웃을 찾아서\n",
    "- K개 이웃들과의 차이를 일정 값으로 만들어서\n",
    "- 기존 데이터와 약간 차이가 나는 새로운 데이터 생성하는 방식"
   ]
  },
  {
   "cell_type": "code",
   "execution_count": null,
   "id": "b22d01a3",
   "metadata": {},
   "outputs": [],
   "source": [
    "# 그림21 SMOTE 수행 절차"
   ]
  },
  {
   "cell_type": "code",
   "execution_count": null,
   "id": "b924938c",
   "metadata": {},
   "outputs": [],
   "source": [
    "신용카드 사기 검출 과정\n",
    "(1) 데이터 일차 가공 및 모델 학습/예측/평가\n",
    "(2) 중요 데이터 분포도 변환 후 모델 학습/예측/평가\n",
    "(3) 이상치 데이터 제거 후 모델 학습/예측/평가\n",
    "(4) SMOTE 오버 샘플링 적용 후 모델 학습/예측/평가"
   ]
  },
  {
   "cell_type": "code",
   "execution_count": null,
   "id": "87530ace",
   "metadata": {},
   "outputs": [],
   "source": [
    "(1) 데이터 일차 가공 및 모델 학습/예측/평가\n",
    "- 데이터 로드"
   ]
  },
  {
   "cell_type": "code",
   "execution_count": 3,
   "id": "f80d8816",
   "metadata": {},
   "outputs": [],
   "source": [
    "import pandas as pd\n",
    "import numpy as np\n",
    "import matplotlib.pyplot as plt\n",
    "import warnings\n",
    "warnings.filterwarnings('ignore')\n",
    "%matplotlib inline"
   ]
  },
  {
   "cell_type": "code",
   "execution_count": 21,
   "id": "9a434c0c",
   "metadata": {},
   "outputs": [
    {
     "data": {
      "text/html": [
       "<div>\n",
       "<style scoped>\n",
       "    .dataframe tbody tr th:only-of-type {\n",
       "        vertical-align: middle;\n",
       "    }\n",
       "\n",
       "    .dataframe tbody tr th {\n",
       "        vertical-align: top;\n",
       "    }\n",
       "\n",
       "    .dataframe thead th {\n",
       "        text-align: right;\n",
       "    }\n",
       "</style>\n",
       "<table border=\"1\" class=\"dataframe\">\n",
       "  <thead>\n",
       "    <tr style=\"text-align: right;\">\n",
       "      <th></th>\n",
       "      <th>Time</th>\n",
       "      <th>V1</th>\n",
       "      <th>V2</th>\n",
       "      <th>V3</th>\n",
       "      <th>V4</th>\n",
       "      <th>V5</th>\n",
       "      <th>V6</th>\n",
       "      <th>V7</th>\n",
       "      <th>V8</th>\n",
       "      <th>V9</th>\n",
       "      <th>...</th>\n",
       "      <th>V21</th>\n",
       "      <th>V22</th>\n",
       "      <th>V23</th>\n",
       "      <th>V24</th>\n",
       "      <th>V25</th>\n",
       "      <th>V26</th>\n",
       "      <th>V27</th>\n",
       "      <th>V28</th>\n",
       "      <th>Amount</th>\n",
       "      <th>Class</th>\n",
       "    </tr>\n",
       "  </thead>\n",
       "  <tbody>\n",
       "    <tr>\n",
       "      <th>0</th>\n",
       "      <td>0.0</td>\n",
       "      <td>-1.359807</td>\n",
       "      <td>-0.072781</td>\n",
       "      <td>2.536347</td>\n",
       "      <td>1.378155</td>\n",
       "      <td>-0.338321</td>\n",
       "      <td>0.462388</td>\n",
       "      <td>0.239599</td>\n",
       "      <td>0.098698</td>\n",
       "      <td>0.363787</td>\n",
       "      <td>...</td>\n",
       "      <td>-0.018307</td>\n",
       "      <td>0.277838</td>\n",
       "      <td>-0.110474</td>\n",
       "      <td>0.066928</td>\n",
       "      <td>0.128539</td>\n",
       "      <td>-0.189115</td>\n",
       "      <td>0.133558</td>\n",
       "      <td>-0.021053</td>\n",
       "      <td>149.62</td>\n",
       "      <td>0</td>\n",
       "    </tr>\n",
       "    <tr>\n",
       "      <th>1</th>\n",
       "      <td>0.0</td>\n",
       "      <td>1.191857</td>\n",
       "      <td>0.266151</td>\n",
       "      <td>0.166480</td>\n",
       "      <td>0.448154</td>\n",
       "      <td>0.060018</td>\n",
       "      <td>-0.082361</td>\n",
       "      <td>-0.078803</td>\n",
       "      <td>0.085102</td>\n",
       "      <td>-0.255425</td>\n",
       "      <td>...</td>\n",
       "      <td>-0.225775</td>\n",
       "      <td>-0.638672</td>\n",
       "      <td>0.101288</td>\n",
       "      <td>-0.339846</td>\n",
       "      <td>0.167170</td>\n",
       "      <td>0.125895</td>\n",
       "      <td>-0.008983</td>\n",
       "      <td>0.014724</td>\n",
       "      <td>2.69</td>\n",
       "      <td>0</td>\n",
       "    </tr>\n",
       "    <tr>\n",
       "      <th>2</th>\n",
       "      <td>1.0</td>\n",
       "      <td>-1.358354</td>\n",
       "      <td>-1.340163</td>\n",
       "      <td>1.773209</td>\n",
       "      <td>0.379780</td>\n",
       "      <td>-0.503198</td>\n",
       "      <td>1.800499</td>\n",
       "      <td>0.791461</td>\n",
       "      <td>0.247676</td>\n",
       "      <td>-1.514654</td>\n",
       "      <td>...</td>\n",
       "      <td>0.247998</td>\n",
       "      <td>0.771679</td>\n",
       "      <td>0.909412</td>\n",
       "      <td>-0.689281</td>\n",
       "      <td>-0.327642</td>\n",
       "      <td>-0.139097</td>\n",
       "      <td>-0.055353</td>\n",
       "      <td>-0.059752</td>\n",
       "      <td>378.66</td>\n",
       "      <td>0</td>\n",
       "    </tr>\n",
       "    <tr>\n",
       "      <th>3</th>\n",
       "      <td>1.0</td>\n",
       "      <td>-0.966272</td>\n",
       "      <td>-0.185226</td>\n",
       "      <td>1.792993</td>\n",
       "      <td>-0.863291</td>\n",
       "      <td>-0.010309</td>\n",
       "      <td>1.247203</td>\n",
       "      <td>0.237609</td>\n",
       "      <td>0.377436</td>\n",
       "      <td>-1.387024</td>\n",
       "      <td>...</td>\n",
       "      <td>-0.108300</td>\n",
       "      <td>0.005274</td>\n",
       "      <td>-0.190321</td>\n",
       "      <td>-1.175575</td>\n",
       "      <td>0.647376</td>\n",
       "      <td>-0.221929</td>\n",
       "      <td>0.062723</td>\n",
       "      <td>0.061458</td>\n",
       "      <td>123.50</td>\n",
       "      <td>0</td>\n",
       "    </tr>\n",
       "    <tr>\n",
       "      <th>4</th>\n",
       "      <td>2.0</td>\n",
       "      <td>-1.158233</td>\n",
       "      <td>0.877737</td>\n",
       "      <td>1.548718</td>\n",
       "      <td>0.403034</td>\n",
       "      <td>-0.407193</td>\n",
       "      <td>0.095921</td>\n",
       "      <td>0.592941</td>\n",
       "      <td>-0.270533</td>\n",
       "      <td>0.817739</td>\n",
       "      <td>...</td>\n",
       "      <td>-0.009431</td>\n",
       "      <td>0.798278</td>\n",
       "      <td>-0.137458</td>\n",
       "      <td>0.141267</td>\n",
       "      <td>-0.206010</td>\n",
       "      <td>0.502292</td>\n",
       "      <td>0.219422</td>\n",
       "      <td>0.215153</td>\n",
       "      <td>69.99</td>\n",
       "      <td>0</td>\n",
       "    </tr>\n",
       "  </tbody>\n",
       "</table>\n",
       "<p>5 rows × 31 columns</p>\n",
       "</div>"
      ],
      "text/plain": [
       "   Time        V1        V2        V3        V4        V5        V6        V7  \\\n",
       "0   0.0 -1.359807 -0.072781  2.536347  1.378155 -0.338321  0.462388  0.239599   \n",
       "1   0.0  1.191857  0.266151  0.166480  0.448154  0.060018 -0.082361 -0.078803   \n",
       "2   1.0 -1.358354 -1.340163  1.773209  0.379780 -0.503198  1.800499  0.791461   \n",
       "3   1.0 -0.966272 -0.185226  1.792993 -0.863291 -0.010309  1.247203  0.237609   \n",
       "4   2.0 -1.158233  0.877737  1.548718  0.403034 -0.407193  0.095921  0.592941   \n",
       "\n",
       "         V8        V9  ...       V21       V22       V23       V24       V25  \\\n",
       "0  0.098698  0.363787  ... -0.018307  0.277838 -0.110474  0.066928  0.128539   \n",
       "1  0.085102 -0.255425  ... -0.225775 -0.638672  0.101288 -0.339846  0.167170   \n",
       "2  0.247676 -1.514654  ...  0.247998  0.771679  0.909412 -0.689281 -0.327642   \n",
       "3  0.377436 -1.387024  ... -0.108300  0.005274 -0.190321 -1.175575  0.647376   \n",
       "4 -0.270533  0.817739  ... -0.009431  0.798278 -0.137458  0.141267 -0.206010   \n",
       "\n",
       "        V26       V27       V28  Amount  Class  \n",
       "0 -0.189115  0.133558 -0.021053  149.62      0  \n",
       "1  0.125895 -0.008983  0.014724    2.69      0  \n",
       "2 -0.139097 -0.055353 -0.059752  378.66      0  \n",
       "3 -0.221929  0.062723  0.061458  123.50      0  \n",
       "4  0.502292  0.219422  0.215153   69.99      0  \n",
       "\n",
       "[5 rows x 31 columns]"
      ]
     },
     "execution_count": 21,
     "metadata": {},
     "output_type": "execute_result"
    }
   ],
   "source": [
    "card_df = pd.read_csv('data/creditcard.csv')\n",
    "card_df.head()\n",
    "\n",
    "# Time : 크게 의미 있는 칼러은 아님. 데이터 만드는 데 걸린 시간 ; 나중에 삭제할 것임\n",
    "# v1~v28 속성 : 피처 이름이 전혀 들어가 있지 않음\n",
    "# kaggle에서 칼럼을 확인해보면\n",
    "# 민감한 정보를 보호하기 위해서 PCA로 압축한 속성\n",
    "# Amount : 카드 사용액\n",
    "# Class : 0은 정상 사용, 1은 부정 카드 사용"
   ]
  },
  {
   "cell_type": "code",
   "execution_count": 6,
   "id": "46d08463",
   "metadata": {},
   "outputs": [
    {
     "data": {
      "text/plain": [
       "(284807, 31)"
      ]
     },
     "execution_count": 6,
     "metadata": {},
     "output_type": "execute_result"
    }
   ],
   "source": [
    "card_df.shape \n",
    "# 284807 레코드(행, 건수)\n",
    "# 31 피처와 타깃값(레이블값)"
   ]
  },
  {
   "cell_type": "code",
   "execution_count": null,
   "id": "3e733daf",
   "metadata": {},
   "outputs": [],
   "source": [
    "원본 DataFrame은 유지하고 데이터 가공을 위한 DataFrame을 복사해서 사용\n",
    "\n",
    "앞으로 처리할 기능을 함수로 작성\n",
    "- 모델 특징 파악은 피처 엔지니어링을 하겠다는 것\n",
    "- 데이터에 대해 로그 변환하고 아우라이어(이상치) 디텍션하고 오버 샘플링할 것임\\\n",
    "- 2개의 서로 다른 머신러닝 알고리즘에 적용 (LogisticRegression/LightGBM)\n",
    "- 각각에 대해 예측 성능 평가\n",
    "- 반복적으로 데이터 가공, 학습과 테스트 데이터 분리\n",
    "- 학습/테스트/성능 평가하는 것을 계속 호출할 것이기 때문에 각 기능을 함수로 작성"
   ]
  },
  {
   "cell_type": "code",
   "execution_count": 22,
   "id": "0bd45ac1",
   "metadata": {},
   "outputs": [],
   "source": [
    "# 전처리 함수\n",
    "# Time 칼럼만 삭제\n",
    "# 원본 데이터 유지하고, 복사본 반환\n",
    "\n",
    "from sklearn.model_selection import train_test_split\n",
    "\n",
    "# 전달 받은 DataFrame을 복사한 뒤 ime 칼럼 삭제하고 복사된 DataFrame 반환\n",
    "def get_preprocessed_df(df=None):\n",
    "    df_copy = df.copy()\n",
    "    df_copy.drop('Time', axis=1, inplace=True)\n",
    "    return df_copy"
   ]
  },
  {
   "cell_type": "code",
   "execution_count": 23,
   "id": "e4767fed",
   "metadata": {},
   "outputs": [],
   "source": [
    "# 학습/테스트 데이터 셋을 반환하는 함수 \n",
    "def get_train_test_dataset(df=None):\n",
    "    df_copy = get_preprocessed_df(df)\n",
    "    \n",
    "    # 피처 데이터/ 레이블 데이터 셋 생성\n",
    "    X_features = df_copy.iloc[:, :-1] # 피처 : 마지막 칼럼 전까지\n",
    "    y_target = df_copy.iloc[:, -1] # 레이블(타깃) : 마지막 칼럼\n",
    "    \n",
    "    # 학습/테스트 데이터 셋 분할\n",
    "    # stratify=y_target : 타깃 값의 분포도에 맞춰, 학습/테스트 데이터 분표 비율 맞춰서 분할\n",
    "    X_train, X_test, y_train, y_test = train_test_split(X_features, y_target, test_size=0.3, random_state=0, stratify=y_target)\n",
    "    \n",
    "    return  X_train, X_test, y_train, y_test\n",
    "\n",
    "X_train, X_test, y_train, y_test = get_train_test_dataset(card_df)"
   ]
  },
  {
   "cell_type": "code",
   "execution_count": 24,
   "id": "ceced171",
   "metadata": {},
   "outputs": [
    {
     "name": "stdout",
     "output_type": "stream",
     "text": [
      "학습 데이터 레이블 값 비율\n",
      "0    99.827451\n",
      "1     0.172549\n",
      "Name: Class, dtype: float64\n",
      "\n",
      "테스트 데이터 레이블 값 비율\n",
      "0    99.826785\n",
      "1     0.173215\n",
      "Name: Class, dtype: float64\n"
     ]
    }
   ],
   "source": [
    "print('학습 데이터 레이블 값 비율')\n",
    "print(y_train.value_counts()/y_train.shape[0] * 100)\n",
    "\n",
    "print('\\n테스트 데이터 레이블 값 비율')\n",
    "print(y_test.value_counts()/y_test.shape[0] * 100)\n",
    "\n",
    "# 0과 1의 비율에 맞춰 학습 데이터와 테스트 데이터가 잘 분리되었음"
   ]
  },
  {
   "cell_type": "code",
   "execution_count": 25,
   "id": "5e8a9b4d",
   "metadata": {},
   "outputs": [],
   "source": [
    "# 예측 평가 수행 함수 (앞에서 복사해 올 것)\n",
    "\n",
    "from sklearn.metrics import confusion_matrix, accuracy_score\n",
    "from sklearn.metrics import precision_score, recall_score\n",
    "from sklearn.metrics import f1_score, roc_auc_score\n",
    "\n",
    "# 수정된 get_clf_eval() 함수 \n",
    "def get_clf_eval(y_test, pred=None, pred_proba=None):\n",
    "    confusion = confusion_matrix( y_test, pred)\n",
    "    accuracy = accuracy_score(y_test , pred)\n",
    "    precision = precision_score(y_test , pred)\n",
    "    recall = recall_score(y_test , pred)\n",
    "    f1 = f1_score(y_test,pred)\n",
    "    # ROC-AUC 추가 \n",
    "    roc_auc = roc_auc_score(y_test, pred_proba)\n",
    "    print('오차 행렬')\n",
    "    print(confusion)\n",
    "    # ROC-AUC print 추가\n",
    "    print('정확도: {0:.4f}, 정밀도: {1:.4f}, 재현율: {2:.4f},\\\n",
    "    F1: {3:.4f}, AUC:{4:.4f}'.format(accuracy, precision, recall, f1, roc_auc))"
   ]
  },
  {
   "cell_type": "code",
   "execution_count": 26,
   "id": "bcdccb1b",
   "metadata": {},
   "outputs": [
    {
     "name": "stdout",
     "output_type": "stream",
     "text": [
      "오차 행렬\n",
      "[[85282    13]\n",
      " [   58    90]]\n",
      "정확도: 0.9992, 정밀도: 0.8738, 재현율: 0.6081,    F1: 0.7171, AUC:0.9708\n"
     ]
    }
   ],
   "source": [
    "# 먼저 LogisticRegression부터 학습/예측/평가 수행\n",
    "\n",
    "from sklearn.linear_model import LogisticRegression\n",
    "\n",
    "lr_clf = LogisticRegression(solver='liblinear')\n",
    "\n",
    "lr_clf.fit(X_train, y_train)\n",
    "lr_pred = lr_clf.predict(X_test)\n",
    "lr_pred_proba = lr_clf.predict_proba(X_test)[:, 1]\n",
    "\n",
    "get_clf_eval(y_test, lr_pred, lr_pred_proba)\n",
    "\n",
    "# 결과\n",
    "# 재현율이 낮게 나왔음\n",
    "# 불균형한 데이터라서 재현율 부분을 중요하게 생각하면 되겠는데\n",
    "# 재현율이 낮아서 예측 모델로 만족스럽지 못함"
   ]
  },
  {
   "cell_type": "code",
   "execution_count": 34,
   "id": "567b45db",
   "metadata": {},
   "outputs": [],
   "source": [
    "# 앞으로 피처 엔지니어링을 수행할 때마다\n",
    "# 모델을 학습/예측/평가하는데 사용할 함수 작성\n",
    "\n",
    "# 사이킷런의 Estimater객체, 학습/테스트 데이터 세트 입력 받아서\n",
    "# 학습/예측/평가 수행\n",
    "def get_model_train_eval(model, ftr_train=None, ftr_test=None, tgr_train=None, tgt_test=None):\n",
    "    model.fit(ftr_train, tgr_train) # 학습\n",
    "    pred = model.predict(ftr_test) # 예측(값)\n",
    "    pred_proba = model.predict_proba(ftr_test)[:, 1] # 예측 확률\n",
    "    get_clf_eval(tgt_test, pred, pred_proba)  # 실제 데이터, 예측값, 예측 확률"
   ]
  },
  {
   "cell_type": "code",
   "execution_count": 37,
   "id": "6d2ce1a8",
   "metadata": {},
   "outputs": [
    {
     "name": "stdout",
     "output_type": "stream",
     "text": [
      "오차 행렬\n",
      "[[85289     6]\n",
      " [   38   110]]\n",
      "정확도: 0.9995, 정밀도: 0.9483, 재현율: 0.7432,    F1: 0.8333, AUC:0.9717\n"
     ]
    }
   ],
   "source": [
    "# pip install lightgbm\n",
    "\n",
    "# LightGBM 이용해서 학습/예측/평가 수행\n",
    "from lightgbm import LGBMClassifier\n",
    "\n",
    "lgbm_clf = LGBMClassifier(n_estimators=100, num_leaves=64, n_jobs=-1, \\\n",
    "                         boost_from_average=False)\n",
    "\n",
    "get_model_train_eval(lgbm_clf, ftr_train=X_train, ftr_test=X_test, tgr_train=y_train, tgt_test=y_test)\n",
    "\n",
    "# LightGBM이 LogisticRegression보다 전반적으로 성능이 좋음\n",
    "# 특히 정밀도와 재현율이 성능 많이 향상되었음"
   ]
  },
  {
   "cell_type": "code",
   "execution_count": null,
   "id": "e20ea021",
   "metadata": {},
   "outputs": [],
   "source": [
    "# LogisticRegression 결과\n",
    "오차 행렬\n",
    "[[85282    13]\n",
    " [   58    90]]\n",
    "정확도: 0.9992, 정밀도: 0.8738, 재현율: 0.6081,    F1: 0.7171, AUC:0.9708"
   ]
  },
  {
   "cell_type": "code",
   "execution_count": null,
   "id": "1504209c",
   "metadata": {},
   "outputs": [],
   "source": [
    "LightGBM\n",
    "- XGBoost와 함께 부스팅 계열 알고리즘에서 가장 각광을 받고 있음\n",
    "- 뛰어난 알고리즘이지만 학습 시간이 많이 빠른 편은 아님\n",
    "- 가장 큰 장점 : XGBoost보다 학습 시간이 작다는 점\n",
    "    - 메모리 사용량도 적고\n",
    "    - 그런데 성능은 별 차이 없고\n",
    "    - 기능은 좀 더 다양하고\n",
    "- 한 가지 단점 : 적은 데이터 셋에 적용할 경우 과적합이 발생하기 쉽다는 것\n",
    "    - 약 10,000 건 이하 정도(공식 문서에 기술되어 있음)\n",
    "- 트리 기반이지만 균형 트리 분할 방식 사용\n",
    "    - 최대한 균형 잡힌 트리를 유지하면서 분할하기 때문에\n",
    "    - 트리 깊이가 최소화될 수 있음"
   ]
  },
  {
   "cell_type": "code",
   "execution_count": null,
   "id": "dcb2a79c",
   "metadata": {},
   "outputs": [],
   "source": [
    "(2) 중요 데이터 분포도 변환 후 모델 학습/예측/평가"
   ]
  },
  {
   "cell_type": "code",
   "execution_count": null,
   "id": "34b25dce",
   "metadata": {},
   "outputs": [],
   "source": [
    "중요 feature의 분포도 확인\n",
    "- 가장 중요한 속성은?\n",
    "- 중요한 것 중 하나는 Amount\n",
    "- Amount가 금액이므로 카드 금액에 다라 실제 타깃 값에서\n",
    "- 사기냐 정상이냐 판단하는데 중요 피처가 될 것이다"
   ]
  },
  {
   "cell_type": "code",
   "execution_count": 38,
   "id": "ddce3e62",
   "metadata": {},
   "outputs": [
    {
     "data": {
      "text/plain": [
       "<AxesSubplot:xlabel='Amount', ylabel='Density'>"
      ]
     },
     "execution_count": 38,
     "metadata": {},
     "output_type": "execute_result"
    },
    {
     "data": {
      "image/png": "[encoded data removed]",
      "text/plain": [
       "<Figure size 576x288 with 1 Axes>"
      ]
     },
     "metadata": {
      "needs_background": "light"
     },
     "output_type": "display_data"
    }
   ],
   "source": [
    "# 중요 속성(피처)으로 Amount 선정해서 분포도 확인\n",
    "\n",
    "import seaborn as sns\n",
    "\n",
    "plt.figure(figsize=(8,4))\n",
    "plt.xticks(range(0, 30000, 1000), rotation=60)\n",
    "sns.distplot(card_df['Amount'])\n",
    "\n",
    "# 대부분의 금액이 500 유로 미만인데\n",
    "# 나머지 작은 값들이 존재 256000까지\n",
    "# 불균형하게 가지고 있음\n",
    "# 작은 값들이 길게 롱테일을 가지고 있는 구조"
   ]
  },
  {
   "cell_type": "code",
   "execution_count": 41,
   "id": "1915a58b",
   "metadata": {},
   "outputs": [],
   "source": [
    "# 사전 데이터 가공 함수에 Amount 피처 변환 추가\n",
    "# StandartScaler를 이용해서 정규분포 형태로 Amount 피처 변환\n",
    "\n",
    "from sklearn.preprocessing import StandardScaler\n",
    "\n",
    "# 전달 받은 DataFrame을 복사한 뒤 ime 칼럼 삭제하고 복사된 DataFrame 반환\n",
    "def get_preprocessed_df(df=None):\n",
    "    df_copy = df.copy()\n",
    "    scaler = StandardScaler()\n",
    "    # Amount 칼럼 변환\n",
    "    amount_n = scaler.fit_transform(df_copy['Amount'].values.reshape(-1,1))\n",
    "    \n",
    "    # 변환된 Amount를 피처명 변경하고 DataFrame 맨 앞 칼럼으로 입력\n",
    "    df_copy.insert(0, 'Amount_Scaled', amount_n)\n",
    "    \n",
    "    # 기존 Time, Amount 피처 삭제\n",
    "    df_copy.drop(['Time', 'Amount'], axis=1, inplace=True)\n",
    "    \n",
    "    return df_copy\n",
    "    "
   ]
  },
  {
   "cell_type": "code",
   "execution_count": 42,
   "id": "4067e9a0",
   "metadata": {},
   "outputs": [
    {
     "name": "stdout",
     "output_type": "stream",
     "text": [
      "로지스틱 회귀 예측 성능\n",
      "오차 행렬\n",
      "[[85281    14]\n",
      " [   58    90]]\n",
      "정확도: 0.9992, 정밀도: 0.8654, 재현율: 0.6081,    F1: 0.7143, AUC:0.9707\n",
      "LightGBM 예측 성능\n",
      "오차 행렬\n",
      "[[85290     5]\n",
      " [   37   111]]\n",
      "정확도: 0.9995, 정밀도: 0.9569, 재현율: 0.7500,    F1: 0.8409, AUC:0.9779\n"
     ]
    }
   ],
   "source": [
    "# LogistRegression / LightGBM 이용해서 학습/예측/평가 수행\n",
    "\n",
    "\n",
    "X_train, X_test, y_train, y_test = get_train_test_dataset(card_df)\n",
    "\n",
    "print('로지스틱 회귀 예측 성능')\n",
    "lr_clf = LogisticRegression(solver='liblinear')\n",
    "get_model_train_eval(lr_clf, ftr_train=X_train, ftr_test=X_test, tgr_train=y_train, tgt_test=y_test)\n",
    "\n",
    "print('LightGBM 예측 성능')\n",
    "lgbm_clf = LGBMClassifier(n_estimators=1000, num_leaves=64, n_jobs=-1, \\\n",
    "                         boost_from_average=False)\n",
    "\n",
    "get_model_train_eval(lgbm_clf, ftr_train=X_train, ftr_test=X_test, tgr_train=y_train, tgt_test=y_test)\n",
    "\n",
    "# StandardScaler 변환 후 결과\n",
    "# 로지스틱 회귀는 겅의 동일\n",
    "# LightGBM은 정밀도와 재현율이 약간 향상됨\n",
    "# 많이 차이는 없음"
   ]
  },
  {
   "cell_type": "code",
   "execution_count": null,
   "id": "0b51cc3d",
   "metadata": {},
   "outputs": [],
   "source": [
    "# LogisticRegression 결과\n",
    "오차 행렬\n",
    "[[85282    13]\n",
    " [   58    90]]\n",
    "정확도: 0.9992, 정밀도: 0.8738, 재현율: 0.6081,    F1: 0.7171, AUC:0.9708"
   ]
  },
  {
   "cell_type": "code",
   "execution_count": null,
   "id": "fa87cf76",
   "metadata": {},
   "outputs": [],
   "source": [
    "# LightGBM  결과\n",
    "오차 행렬\n",
    "[[85289     6]\n",
    " [   38   110]]\n",
    "정확도: 0.9995, 정밀도: 0.9483, 재현율: 0.7432,    F1: 0.8333, AUC:0.9717"
   ]
  },
  {
   "cell_type": "code",
   "execution_count": 43,
   "id": "6c4b452a",
   "metadata": {},
   "outputs": [],
   "source": [
    "# Amount를 로그 변환\n",
    "\n",
    "def get_preprocessed_df(df=None):\n",
    "    df_copy = df.copy()\n",
    "    # 로그 변환 : 넘파이의 log1p() 이용하여 Amount 로그 변환\n",
    "    # 넘파이의 로그 변환 함수는 mp.log()인데\n",
    "    # 보통 로그 변환할 때 log() 잘 사용 안하고 log1p() 사용\n",
    "    # 1p가 원 플러스로 하나를 더하겠다는 의미\n",
    "    amount_n = np.log1p(df_copy['Amount'])    \n",
    "    \n",
    "    # 변환된 Amount를 피처명 변경하고 DataFrame 맨 앞 칼럼으로 입력\n",
    "    df_copy.insert(0, 'Amount_Scaled', amount_n)\n",
    "    \n",
    "    # 기존 Time, Amount 피처 삭제\n",
    "    df_copy.drop(['Time', 'Amount'], axis=1, inplace=True)\n",
    "    \n",
    "    return df_copy"
   ]
  },
  {
   "cell_type": "code",
   "execution_count": 44,
   "id": "39387b60",
   "metadata": {},
   "outputs": [
    {
     "name": "stdout",
     "output_type": "stream",
     "text": [
      "로지스틱 회귀 예측 성능\n",
      "오차 행렬\n",
      "[[85283    12]\n",
      " [   58    90]]\n",
      "정확도: 0.9992, 정밀도: 0.8824, 재현율: 0.6081,    F1: 0.7200, AUC:0.9721\n",
      "LightGBM 예측 성능\n",
      "오차 행렬\n",
      "[[85290     5]\n",
      " [   35   113]]\n",
      "정확도: 0.9995, 정밀도: 0.9576, 재현율: 0.7635,    F1: 0.8496, AUC:0.9796\n"
     ]
    }
   ],
   "source": [
    "# Amount 로그 변환 후\n",
    "# LogistRegression / LightGBM 이용해서 학습/예측/평가 수행\n",
    "\n",
    "\n",
    "X_train, X_test, y_train, y_test = get_train_test_dataset(card_df)\n",
    "\n",
    "print('로지스틱 회귀 예측 성능')\n",
    "lr_clf = LogisticRegression(solver='liblinear')\n",
    "get_model_train_eval(lr_clf, ftr_train=X_train, ftr_test=X_test, tgr_train=y_train, tgt_test=y_test)\n",
    "\n",
    "print('LightGBM 예측 성능')\n",
    "lgbm_clf = LGBMClassifier(n_estimators=1000, num_leaves=64, n_jobs=-1, \\\n",
    "                         boost_from_average=False)\n",
    "\n",
    "get_model_train_eval(lgbm_clf, ftr_train=X_train, ftr_test=X_test, tgr_train=y_train, tgt_test=y_test)\n",
    "\n",
    "# Amount 로그 변환 결과\n",
    "# 로지스틱 회귀 : 정밀도가 약간 향상됨\n",
    "\n",
    "# LightGBM은 정밀도, 재현율 등 약간씩 성능 향상"
   ]
  },
  {
   "cell_type": "code",
   "execution_count": null,
   "id": "2940db3d",
   "metadata": {},
   "outputs": [],
   "source": [
    "# Amount 로그 변환 전 결과\n",
    "로지스틱 회귀 예측 성능\n",
    "오차 행렬\n",
    "[[85281    14]\n",
    " [   58    90]]\n",
    "정확도: 0.9992, 정밀도: 0.8654, 재현율: 0.6081,    F1: 0.7143, AUC:0.9707\n",
    "LightGBM 예측 성능\n",
    "오차 행렬\n",
    "[[85290     5]\n",
    " [   37   111]]\n",
    "정확도: 0.9995, 정밀도: 0.9569, 재현율: 0.7500,    F1: 0.8409, AUC:0.9779\n"
   ]
  },
  {
   "cell_type": "code",
   "execution_count": null,
   "id": "35e2e50b",
   "metadata": {},
   "outputs": [],
   "source": [
    "(3) 이상치 데이터 제거 후 모델 학습/예측/평가"
   ]
  },
  {
   "cell_type": "markdown",
   "id": "13f44234",
   "metadata": {},
   "source": [
    "각 피처즐의 상관 관계를 시각화 \n",
    "결정 레이블인 class 값과 가장 상관도가 높은 피처 추출  \n",
    "이 중에 상관도가 높은 피처들에 대해서 이상치 찾고  \n",
    "이상치가 높은 피처들을 제거  "
   ]
  },
  {
   "cell_type": "code",
   "execution_count": 46,
   "id": "b1dd5eb5",
   "metadata": {},
   "outputs": [
    {
     "data": {
      "text/plain": [
       "<AxesSubplot:>"
      ]
     },
     "execution_count": 46,
     "metadata": {},
     "output_type": "execute_result"
    },
    {
     "data": {
      "image/png": "[encoded data removed]",
      "text/plain": [
       "<Figure size 648x648 with 2 Axes>"
      ]
     },
     "metadata": {
      "needs_background": "light"
     },
     "output_type": "display_data"
    }
   ],
   "source": [
    "import seaborn as sns\n",
    "\n",
    "plt.figure(figsize=(9,9))\n",
    "corr = card_df.corr() # 각 칼럼들의 상관도 값 반환\n",
    "sns.heatmap(corr, cmap=\"RdBu\")\n",
    "\n",
    "# 상관도 값을 직관적으로 이해할 수 있도록 시각적으로 표현\n",
    "# 오른쪽 막대 색상 : 위쪽 파난색이 짙어질수록 양의 상관관계가 높음(1)\n",
    "# 아래쪽 빨간색이 짙어질수록 음의 상관관계 높아짐(-1)\n",
    "# 대각선 : 각 피처 값이 같으므로 당연히 1 (짙은 파란색)\n",
    "\n",
    "# Class 값과 상관도가 높은 피처들 : x출에서 v12, v14, v17 (짙은 빨간색)\n",
    "# 이 중에서 v14에 해당되는 이상치 확인"
   ]
  },
  {
   "cell_type": "code",
   "execution_count": 48,
   "id": "72dc2d67",
   "metadata": {},
   "outputs": [],
   "source": [
    "# 아웃라이어를 찾기 위한 함수 새로 생성\n",
    "\n",
    "import numpy as np\n",
    "\n",
    "# weight는 boxplot에서 이상치 계산시 1.5*IQR(몸통)을 더하고, 뺀 값들이 이상치\n",
    "# 전체 데이터에서 찾지 않고 사기 데이터 (Class가 1인)에서 찾음\n",
    "def get_outlier(df=None, column=None, weight=1.5):\n",
    "    # fraud에 해당하는 column 데이터만 추출, 1/4 분위와 3/4 분위 지점을 np.percentile로 구함. \n",
    "    fraud = df[df['Class']==1][column] # column 값으로 V14 들어올 것임\n",
    "    quantile_25 = np.percentile(fraud.values, 25) # 1분위수\n",
    "    quantile_75 = np.percentile(fraud.values, 75) # 3분위수\n",
    "    \n",
    "    # IQR을 구하고, IQR에 1.5를 곱하여 최대값과 최소값 지점 구함. \n",
    "    iqr = quantile_75 - quantile_25    \n",
    "\n",
    "    iqr_weight = iqr * weight\n",
    "    lowest_val = quantile_25 - iqr_weight\n",
    "    highest_val = quantile_75 + iqr_weight\n",
    "    \n",
    "    # 데이터 프레임 인덱스 찾음\n",
    "    # 최대값 보다 크거나, 최소값 보다 작은 값을 아웃라이어로 설정하고 DataFrame index 반환. \n",
    "    outlier_index = fraud[(fraud < lowest_val) | (fraud > highest_val)].index\n",
    "    \n",
    "    return outlier_index\n",
    "    "
   ]
  },
  {
   "cell_type": "code",
   "execution_count": 49,
   "id": "926b6e87",
   "metadata": {},
   "outputs": [
    {
     "name": "stdout",
     "output_type": "stream",
     "text": [
      "이상치 데이터 인덱스 :  Int64Index([8296, 8615, 9035, 9252], dtype='int64')\n"
     ]
    }
   ],
   "source": [
    "outlier_index = get_outlier(df=card_df, column='V14', weight=1.5)\n",
    "print('이상치 데이터 인덱스 : ', outlier_index)\n",
    "\n",
    "# 4개 인덱스 : 이 인덱스에 해당되는 행은 삭제할 것임"
   ]
  },
  {
   "cell_type": "code",
   "execution_count": 50,
   "id": "58f3b649",
   "metadata": {},
   "outputs": [],
   "source": [
    "# 로그 변환 + V14 피처의 이상치 데이터 삭제 후 모델들 재학습/예측/평가\n",
    "\n",
    "def get_preprocessed_df(df=None):\n",
    "    # 로그 변환\n",
    "    df_copy = df.copy()   \n",
    "    amount_n = np.log1p(df_copy['Amount'])   \n",
    "    df_copy.insert(0, 'Amount_Scaled', amount_n)\n",
    "    df_copy.drop(['Time', 'Amount'], axis=1, inplace=True) # axis=1 열\n",
    "    \n",
    "    # 이상치 데이터 삭제\n",
    "    outlier_index = get_outlier(df=card_df, column='V14', weight=1.5)\n",
    "    df_copy.drop(outlier_index, axis=0, inplace=True) # axis=0 행\n",
    "        \n",
    "    return df_copy"
   ]
  },
  {
   "cell_type": "code",
   "execution_count": 51,
   "id": "5b4ad73e",
   "metadata": {},
   "outputs": [
    {
     "name": "stdout",
     "output_type": "stream",
     "text": [
      "로지스틱 회귀 예측 성능\n",
      "오차 행렬\n",
      "[[85282    13]\n",
      " [   48    98]]\n",
      "정확도: 0.9993, 정밀도: 0.8829, 재현율: 0.6712,    F1: 0.7626, AUC:0.9747\n",
      "LightGBM 예측 성능\n",
      "오차 행렬\n",
      "[[85290     5]\n",
      " [   25   121]]\n",
      "정확도: 0.9996, 정밀도: 0.9603, 재현율: 0.8288,    F1: 0.8897, AUC:0.9780\n"
     ]
    }
   ],
   "source": [
    "X_train, X_test, y_train, y_test = get_train_test_dataset(card_df)\n",
    "\n",
    "print('로지스틱 회귀 예측 성능')\n",
    "# lr_clf = LogisticRegression(solver='liblinear')\n",
    "get_model_train_eval(lr_clf, ftr_train=X_train, ftr_test=X_test, tgr_train=y_train, tgt_test=y_test)\n",
    "\n",
    "print('LightGBM 예측 성능')\n",
    "# lgbm_clf = LGBMClassifier(n_estimators=1000, num_leaves=64, n_jobs=-1, \\\n",
    "#                          boost_from_average=False)\n",
    "\n",
    "get_model_train_eval(lgbm_clf, ftr_train=X_train, ftr_test=X_test, tgr_train=y_train, tgt_test=y_test)\n",
    "\n",
    "# 이상치 제거 결과\n",
    "# 로그 변환 후 결과보다 \n",
    "# LightGBM이 전반적으로 성능 향상 보임\n",
    "# 특히 재현율이 많이 향상된 것으로 보임\n",
    "\n",
    "# 로지스틱 회귀 VS LightGBM\n",
    "# LightGBM이 정밀도, 재현율, F1에서 좀 더 성능이 좋은 것으로 나타남"
   ]
  },
  {
   "cell_type": "code",
   "execution_count": null,
   "id": "bf2c13ae",
   "metadata": {},
   "outputs": [],
   "source": [
    "# 로그 변환 후 결과\n",
    "로지스틱 회귀 예측 성능\n",
    "오차 행렬\n",
    "[[85283    12]\n",
    " [   58    90]]\n",
    "정확도: 0.9992, 정밀도: 0.8824, 재현율: 0.6081,    F1: 0.7200, AUC:0.9721\n",
    "LightGBM 예측 성능\n",
    "오차 행렬\n",
    "[[85290     5]\n",
    " [   35   113]]\n",
    "정확도: 0.9995, 정밀도: 0.9576, 재현율: 0.7635,    F1: 0.8496, AUC:0.9796"
   ]
  },
  {
   "cell_type": "code",
   "execution_count": null,
   "id": "5241cc12",
   "metadata": {},
   "outputs": [],
   "source": [
    "(4) SMOTE 오버 샘플링 적용 후 모델 학습/예측/평가"
   ]
  },
  {
   "cell_type": "code",
   "execution_count": null,
   "id": "f5956b51",
   "metadata": {},
   "outputs": [],
   "source": [
    "SMOTE 방식을 제공하는 패키지 \n",
    "imbalanced-learn 설치 필요\n",
    "Anaconda Prompt 관리자 권한으로 실행시키고 설치\n",
    "\n",
    "conda install -c conda-forge imbalanced-learn\n",
    "중간에 y 입력"
   ]
  },
  {
   "cell_type": "code",
   "execution_count": 59,
   "id": "f09cdc0b",
   "metadata": {},
   "outputs": [
    {
     "name": "stdout",
     "output_type": "stream",
     "text": [
      "SMOTE 적용 전 학습용 피처/레이블 데이터 세트 :  (199362, 29) (199362,)\n",
      "SMOTE 적용 후 학습용 피처/레이블 데이터 세트 :  (398040, 29) (398040,)\n",
      "SMOTE 적용 후 레이블 값 분포\n",
      " 0    199020\n",
      "1    199020\n",
      "Name: Class, dtype: int64\n"
     ]
    }
   ],
   "source": [
    "from imblearn.over_sampling import SMOTE\n",
    "\n",
    "smote = SMOTE(random_state=0)\n",
    "\n",
    "# train 데이터 셋으로 들어오는 값들에 대해서 오버 샘플링 \n",
    "# 타깃값의 분포에 맞춰 피처값 생성\n",
    "X_train_over, y_train_over = smote.fit_resample(X_train, y_train)\n",
    "\n",
    "print('SMOTE 적용 전 학습용 피처/레이블 데이터 세트 : ', X_train.shape, y_train.shape)\n",
    "print('SMOTE 적용 후 학습용 피처/레이블 데이터 세트 : ', X_train_over.shape, y_train_over.shape)\n",
    "\n",
    "print('SMOTE 적용 후 레이블 값 분포\\n', pd.Series(y_train_over).value_counts())\n",
    "\n",
    "# 결과\n",
    "# 적용 후 train 데이터가 많이 늘어남\n",
    "# 적용 후 레이블 값 두 개가 동일 : (증식 되었음)\n",
    "# 0    199020,  1    199020"
   ]
  },
  {
   "cell_type": "code",
   "execution_count": 57,
   "id": "1b339610",
   "metadata": {},
   "outputs": [
    {
     "data": {
      "text/plain": [
       "0    199020\n",
       "1       342\n",
       "Name: Class, dtype: int64"
      ]
     },
     "execution_count": 57,
     "metadata": {},
     "output_type": "execute_result"
    }
   ],
   "source": [
    "# 원래의 레이블 값 두 개 분포\n",
    "y_train.value_counts()"
   ]
  },
  {
   "cell_type": "code",
   "execution_count": 60,
   "id": "0d06799b",
   "metadata": {},
   "outputs": [
    {
     "name": "stdout",
     "output_type": "stream",
     "text": [
      "오차 행렬\n",
      "[[82932  2363]\n",
      " [   11   135]]\n",
      "정확도: 0.9722, 정밀도: 0.0540, 재현율: 0.9247,    F1: 0.1021, AUC:0.9737\n"
     ]
    }
   ],
   "source": [
    "# 증식된 데이터에 기반해서 로지스틱 회귀로 학습/예측/평가 수행\n",
    "\n",
    "lr_clf = LogisticRegression(solver='liblinear')\n",
    "get_model_train_eval(lr_clf, ftr_train=X_train_over, ftr_test=X_test, tgr_train=y_train_over, tgt_test=y_test)\n",
    "\n",
    "# 결과\n",
    "# 재현율 : 상당히 좋아졌음\n",
    "# 정밀도와 F1 스코어 : 엄청 떨어짐 (어이없는 수치)\n",
    "# 이 모델을 실제 적용하기는 힘듦 : 정밀도가 너무 낮기 때문에 "
   ]
  },
  {
   "cell_type": "code",
   "execution_count": null,
   "id": "453b04a8",
   "metadata": {},
   "outputs": [],
   "source": [
    "# 이상치 제거 후 로지스틱 회귀 예측 성능\n",
    "오차 행렬\n",
    "[[85282    13]\n",
    " [   48    98]]\n",
    "정확도: 0.9993, 정밀도: 0.8829, 재현율: 0.6712,    F1: 0.7626, AUC:0.9747"
   ]
  },
  {
   "cell_type": "code",
   "execution_count": 61,
   "id": "198c3d37",
   "metadata": {},
   "outputs": [],
   "source": [
    "# 정밀도-재현율 곡선 시각화\n",
    "\n",
    "# 앞에서 사용한 것 그대로 복사해서 사용\n",
    "\n",
    "import matplotlib.pyplot as plt\n",
    "import matplotlib.ticker as ticker\n",
    "from sklearn.metrics import precision_recall_curve\n",
    "%matplotlib inline\n",
    "\n",
    "def precision_recall_curve_plot(y_test , pred_proba_c1):\n",
    "    # threshold ndarray와 이 threshold에 따른 정밀도, 재현율 ndarray 추출. \n",
    "    precisions, recalls, thresholds = precision_recall_curve( y_test, pred_proba_c1)\n",
    "    \n",
    "    # X축을 threshold값으로, Y축은 정밀도, 재현율 값으로 각각 Plot 수행. 정밀도는 점선으로 표시\n",
    "    plt.figure(figsize=(8,6))\n",
    "    threshold_boundary = thresholds.shape[0]\n",
    "    plt.plot(thresholds, precisions[0:threshold_boundary], linestyle='--', label='precision')\n",
    "    plt.plot(thresholds, recalls[0:threshold_boundary],label='recall')\n",
    "    \n",
    "    # threshold 값 X 축의 Scale을 0.1 단위로 변경\n",
    "    start, end = plt.xlim()\n",
    "    plt.xticks(np.round(np.arange(start, end, 0.1),2))\n",
    "    \n",
    "    # x축, y축 label과 legend, 그리고 grid 설정\n",
    "    plt.xlabel('Threshold value'); plt.ylabel('Precision and Recall value')\n",
    "    plt.legend(); plt.grid()\n",
    "    plt.show()"
   ]
  },
  {
   "cell_type": "code",
   "execution_count": 62,
   "id": "bb4413ae",
   "metadata": {},
   "outputs": [
    {
     "data": {
      "image/png": "[encoded data removed]",
      "text/plain": [
       "<Figure size 576x432 with 1 Axes>"
      ]
     },
     "metadata": {
      "needs_background": "light"
     },
     "output_type": "display_data"
    }
   ],
   "source": [
    "precision_recall_curve_plot(y_test, lr_clf.predict_proba(X_test)[:, 1])\n",
    "# 재현율은 좋은데 정밀도가 너무 낮음 - 실제 적용하기 어려움\n",
    "# 부적합한 모델"
   ]
  },
  {
   "cell_type": "code",
   "execution_count": 63,
   "id": "66740910",
   "metadata": {},
   "outputs": [
    {
     "name": "stdout",
     "output_type": "stream",
     "text": [
      "오차 행렬\n",
      "[[85283    12]\n",
      " [   22   124]]\n",
      "정확도: 0.9996, 정밀도: 0.9118, 재현율: 0.8493,    F1: 0.8794, AUC:0.9814\n"
     ]
    }
   ],
   "source": [
    "# LightGBM 모델 적용\n",
    "lgbm_clf = LGBMClassifier(n_estimators=1000, num_leaves=64, n_jobs=-1, \\\n",
    "                         boost_from_average=False)\n",
    "\n",
    "get_model_train_eval(lgbm_clf, ftr_train=X_train_over, ftr_test=X_test, tgr_train=y_train_over, tgt_test=y_test)\n",
    "\n",
    "# 결과\n",
    "# 재현율은 약가 높아짐\n",
    "# 정밀도 떨어짐\n",
    "# 정밀도를 희생시켜서 재현율을 높이는 결과로 추출되었음\n",
    "# LightGBM의 경우 전반적으로 향상되었고, \n",
    "# 특히 정밀도와 재현율을 상당한 수준으로 끌어 올릴 수 있었음"
   ]
  },
  {
   "cell_type": "code",
   "execution_count": null,
   "id": "6a5f7816",
   "metadata": {},
   "outputs": [],
   "source": [
    "# 이상치 제거 후 결과\n",
    "[[85290     5]\n",
    " [   25   121]]\n",
    "정확도: 0.9996, 정밀도: 0.9603, 재현율: 0.8288,    F1: 0.8897, AUC:0.9780"
   ]
  },
  {
   "cell_type": "code",
   "execution_count": null,
   "id": "516cc641",
   "metadata": {},
   "outputs": [],
   "source": [
    "정확도: 0.9995, 정밀도: 0.9483, 재현율: 0.7432,    F1: 0.8333, AUC:0.9717"
   ]
  },
  {
   "cell_type": "code",
   "execution_count": null,
   "id": "8aa6969f",
   "metadata": {},
   "outputs": [],
   "source": [
    "# Amount 로그 변환 결과\n",
    "# 로지스틱 회귀 : 정밀도가 약간 향상됨\n",
    "\n",
    "# LightGBM은 정밀도, 재현율 등 약간씩 성능 향상"
   ]
  },
  {
   "cell_type": "code",
   "execution_count": null,
   "id": "967cdd26",
   "metadata": {},
   "outputs": [],
   "source": [
    "# 이상치 제거 결과\n",
    "# 로그 변환 후 결과보다 \n",
    "# LightGBM이 전반적으로 성능 향상 보임\n",
    "# 특히 재현율이 많이 향상된 것으로 보임\n",
    "\n",
    "# 로지스틱 회귀 VS LightGBM\n",
    "# LightGBM이 정밀도, 재현율, F1에서 좀 더 성능이 좋은 것으로 나타남"
   ]
  },
  {
   "cell_type": "code",
   "execution_count": null,
   "id": "d9be07b7",
   "metadata": {},
   "outputs": [],
   "source": [
    "# SMOTE 오버 샘플링 결과\n",
    "\n",
    "# 재현율 : 상당히 좋아졌음\n",
    "# 정밀도와 F1 스코어 : 엄청 떨어짐 (어이없는 수치)\n",
    "# 이 모델을 실제 적용하기는 힘듦 : 정밀도가 너무 낮기 때문에 \n",
    "\n",
    " #결과\n",
    "# 재현율은 약간 높아짐\n",
    "# 정밀도 떨어짐\n",
    "# 정밀도를 희생시켜서 재현율을 높이는 결과로 추출되었음\n",
    "# LightGBM의 경우 전반적으로 향상되었고, \n",
    "# 특히 정밀도와 재현율을 상당한 수준으로 끌어 올릴 수 있었음"
   ]
  },
  {
   "cell_type": "code",
   "execution_count": null,
   "id": "c1e801b4",
   "metadata": {},
   "outputs": [],
   "source": [
    "각 케이스 별로 예측 성능 변화 확인\n",
    "Amount 칼럼에 대해  로그 변환 후\n",
    "- 로지스틱 회귀 : 정밀도 약간 좋아졌고, 재현율 동일\n",
    "- LightGBM : 정밀도, 재현율 등 약간씩 성능 향상\n",
    "\n",
    "이상치 제거 후 가장 성능이 좋아졌음 \n",
    "- 사긴 데이터 건수 전체에서 4건 지웠음(?)\n",
    "- 실제로 이상 제거는 효과는 가장 크다고 볼 수 있음 \n",
    "\n",
    "SMOTE 오버 샘플링 결과\n",
    "- 재현율이 좋아짐\n",
    "- 로지스틱 회귀 : 정밀도가 많이 떨어짐\n",
    "- LightGBM : 정밀도를 희생하더라도 재현율은 향상된 모델이 되었음\n",
    "    \n",
    "LightGBM의 경우 전반적으로 향상되었음"
   ]
  },
  {
   "cell_type": "code",
   "execution_count": null,
   "id": "793a866a",
   "metadata": {},
   "outputs": [],
   "source": []
  },
  {
   "cell_type": "code",
   "execution_count": null,
   "id": "c84ad9fd",
   "metadata": {},
   "outputs": [],
   "source": []
  },
  {
   "cell_type": "code",
   "execution_count": null,
   "id": "3dab957d",
   "metadata": {},
   "outputs": [],
   "source": []
  },
  {
   "cell_type": "code",
   "execution_count": null,
   "id": "fe79a636",
   "metadata": {},
   "outputs": [],
   "source": []
  },
  {
   "cell_type": "code",
   "execution_count": null,
   "id": "95586ba8",
   "metadata": {},
   "outputs": [],
   "source": []
  },
  {
   "cell_type": "code",
   "execution_count": null,
   "id": "6773e9b7",
   "metadata": {},
   "outputs": [],
   "source": []
  },
  {
   "cell_type": "code",
   "execution_count": null,
   "id": "849f25eb",
   "metadata": {},
   "outputs": [],
   "source": []
  }
 ],
 "metadata": {
  "kernelspec": {
   "display_name": "ML_ENV",
   "language": "python",
   "name": "mlenv"
  },
  "language_info": {
   "codemirror_mode": {
    "name": "ipython",
    "version": 3
   },
   "file_extension": ".py",
   "mimetype": "text/x-python",
   "name": "python",
   "nbconvert_exporter": "python",
   "pygments_lexer": "ipython3",
   "version": "3.8.8"
  }
 },
 "nbformat": 4,
 "nbformat_minor": 5
}
