{
 "cells": [
  {
   "cell_type": "markdown",
   "id": "e637523f",
   "metadata": {},
   "source": [
    "# 회귀 (Regression)"
   ]
  },
  {
   "cell_type": "code",
   "execution_count": null,
   "id": "7aaaf190",
   "metadata": {},
   "outputs": [],
   "source": [
    "분류와 더불어 지도학습의 가장 큰 축 중의 하나\n",
    "사실 분류보다 회귀가 현업 업무 분석가들이나 데이터 분석가들이 많이 활용\n",
    "왜냐하면 대부분 기업에서 사용하는 예측이 수치적 예측이 많기 때문에 (다음 달 매출액이 얼마인지 예측)\n",
    "회기가 지도학습에서 가장 많이 활용되는 분야\n",
    "현대 통계학을 이루는 큰 축이고, 거의 모든 분야에서 회기가 많이 활용되고 있음\n",
    "우리는 머신러닝 관점에서 회귀 사용"
   ]
  },
  {
   "cell_type": "code",
   "execution_count": null,
   "id": "1649dfbb",
   "metadata": {},
   "outputs": [],
   "source": [
    "회귀 (Regression)\n",
    "- 여러 개의 독립변수와 한 개의 종속변수 간의 상관관계를 모델링하는 기법\n",
    "- Y = W1X1 + W2X2 + W3X3 + ... + WnXn\n",
    "- 독립 변수(X) : 서로 간 상관관계가 적고 독립적인 변수\n",
    "    - 피처 : 아파트 크기, 방 개수, 주변 지하철역 수, 주변 학군\n",
    "- 종속 변수(Y)\n",
    "    - 결정값 : 아파트 가격\n",
    "- 회기 계수(W) : 독립 변수의 값에 영향을 미치는 것"
   ]
  },
  {
   "cell_type": "code",
   "execution_count": null,
   "id": "482e69d3",
   "metadata": {},
   "outputs": [],
   "source": [
    "머신러닝의 회기 기법\n",
    "- 최적의 회기 계수를 찾아 예측하는 방법\n",
    "- 주어진 피처와 결정값 데이터로 학습을 통해\n",
    "- 최적의 회귀 계수를 찾아 회기식을 만들어\n",
    "- 실제 테스트 데이터 셋에서 예측\n",
    "- 피처값과 결정값(종속값)은 이미 주어지고\n",
    "- 학습을 통해저 W(회귀 계수)를 찾는 것\n",
    "- 회귀에서 가장 중요한 것은 회귀 계수"
   ]
  },
  {
   "cell_type": "code",
   "execution_count": null,
   "id": "0baefbe6",
   "metadata": {},
   "outputs": [],
   "source": [
    "회귀 유형\n",
    "- 선형/비선형 : 회귀 계수의 선형/비선형 여부에 따라 나눔\n",
    "- 단일 회귀/다중(다항) 회귀 : 독립 변수의 개수에 따라 나눔"
   ]
  },
  {
   "cell_type": "code",
   "execution_count": null,
   "id": "17e9cc7a",
   "metadata": {},
   "outputs": [],
   "source": [
    "분류와 회귀 차이점 : 결과값의 차이\n",
    "    \n",
    "분류 : 카테고리 값 반환 (이산값)\n",
    "- 0/1, 이미지1/이미지2, 카테고리값 0/1/2, negative/positive\n",
    "- 사자, 고양이, 강아지\n",
    "\n",
    "회기 : 숫자값 (연속값)\n",
    "- 아파트 가격 예측\n",
    "- 매출 증가액 예측"
   ]
  },
  {
   "cell_type": "code",
   "execution_count": null,
   "id": "25c3a328",
   "metadata": {},
   "outputs": [],
   "source": [
    "선형 회귀\n",
    "- 가장 많이 사용되 회귀\n",
    "- 실제값과 예측값의 차이(오류의 제곱값)을 최소화하는 직선형 회귀선을 최적화하는 방식\n",
    "- 실제값과 예측값의 차이인 오류를 최소로 줄일 수 있는 선형 함수를 찾아서\n",
    "- 이 선형 함수에 독립변수(피처)를 입력해\n",
    "- 종속변수(타깃값, 예측값)을 예측하는 것\n",
    "- 규제 방법에 따라 여러 유형으로 나뉨\n",
    "\n",
    "규제\n",
    "- 일반적인 선형 회기의 과적합 문제를 해결하기 위해서\n",
    "- 회기 계수에 패널티 값을 적용하는 것"
   ]
  },
  {
   "cell_type": "code",
   "execution_count": null,
   "id": "7b256c6f",
   "metadata": {},
   "outputs": [],
   "source": [
    "대표적인 선형 회귀 모델\n",
    "- 일반 선형 회귀 : 규제를 적용하지 않은 모델로 예측값과 실제값의 손실함수(RSS)를 최소화할 수 있도록 최적화\n",
    "- 릿지(Ridge) : 선형 회귀에 L2규제를 추가한 회귀 모델\n",
    "- 라쏘(Lasso) : 선형 회귀에 L1규제를 적용한 모델\n",
    "- 엘라스틱넷(ElasticNet) : L2, L1 규제를 함께 결합한 모델\n",
    "- 로지스틱 회귀(Rogistic Regression) : 분류에서 사용되는 선형 모델"
   ]
  },
  {
   "cell_type": "code",
   "execution_count": null,
   "id": "de187ef8",
   "metadata": {},
   "outputs": [],
   "source": [
    "단순 선형 회귀를 통한 회귀의 이해\n",
    "- 독립변수(피처)가 하나뿐인 선형회귀 예\n",
    "- 주택가격이 단순히 주택의 크기로만 결정된다는 단순 선형 회귀로 가정\n",
    "- 주택가격은 주택크기에 대해 선형(직선 형태)의 관계로 표현\n",
    "- 그래프로 표시\n",
    "    - X 축 : 주택 크기 (평수)\n",
    "    - Y 축 : 주택 가격\n",
    "\n",
    "왼쪽 그래프\n",
    "- 전반적으로 주택가격의 추세를 보면\n",
    "- 주택 크기에 따라 가격이 증가됨을 볼 수 있지만\n",
    "- 반드시 그렇지만은 않음\n",
    "- 직선(선형) 표시 : 기울기와 절편을 가진 1차 함수식으로 모델링 (예측 모델)\n",
    "    \n",
    "오른쪽 그래프\n",
    "- 실제값과 모델 사이의 오류값 표시\n",
    "- 오류값의 차이가 작으면 좋은 모델 (잘 예측한 모델)"
   ]
  },
  {
   "cell_type": "code",
   "execution_count": null,
   "id": "f8bc2398",
   "metadata": {},
   "outputs": [],
   "source": [
    "# 그림36 단순 선형 회기 예"
   ]
  },
  {
   "cell_type": "code",
   "execution_count": null,
   "id": "ee154c4a",
   "metadata": {},
   "outputs": [],
   "source": [
    "최적의 회귀 모델\n",
    "- 실제값과 모델 사이의 오류값(잔차) 합이 최소가 되는 모델\n",
    "- 오류값 합이 최소가 될 수 있는 최적의 회귀 계수를 찾는 것"
   ]
  },
  {
   "cell_type": "code",
   "execution_count": null,
   "id": "d43d5d9b",
   "metadata": {},
   "outputs": [],
   "source": [
    "오류의 합 구하는 방식\n",
    "- 오류값은 마이너스(-) 오류와 플리스(+) 오류가 있어서 그냥 더하면 상쇄되어 원치 않는 결과가 나오므로\n",
    "- 보통 오류 합을 계산할 때는 절대값을 취하거나 오류값의 제곱을 구해서 더하는 방식(RSS) 사용\n",
    "- 학습을 통해 이 RSS를 최소로 하는 회귀 계수를 찾는 것이\n",
    "- 머신러닝 기반 회귀 핵심 사항\n",
    "\n",
    "RSS(Residual Sum of Square) : Error의 제곱"
   ]
  },
  {
   "cell_type": "code",
   "execution_count": null,
   "id": "cef7a2b4",
   "metadata": {},
   "outputs": [],
   "source": [
    "머신러닝 회귀 알고리즘\n",
    "- 데이터를 계속 학습하면서\n",
    "- 이 오류값을 지속적으로 감소시키고\n",
    "- 최종적으로 더 이상 감소하지 않는 최소 오류값을 구하는 것"
   ]
  },
  {
   "cell_type": "code",
   "execution_count": null,
   "id": "c31265c8",
   "metadata": {},
   "outputs": [],
   "source": [
    "# 그리37 RSS"
   ]
  },
  {
   "cell_type": "markdown",
   "id": "255c7bbc",
   "metadata": {},
   "source": [
    "### 선형 회귀 예제"
   ]
  },
  {
   "cell_type": "code",
   "execution_count": null,
   "id": "8f4a4346",
   "metadata": {},
   "outputs": [],
   "source": [
    "# 선형 회귀 사이킷런 사용법"
   ]
  },
  {
   "cell_type": "code",
   "execution_count": 27,
   "id": "8ec594f6",
   "metadata": {},
   "outputs": [],
   "source": [
    "import numpy as np\n",
    "import pandas as pd\n",
    "import matplotlib.pyplot as plt\n",
    "%matplotlib inline"
   ]
  },
  {
   "cell_type": "code",
   "execution_count": 28,
   "id": "500b44c2",
   "metadata": {},
   "outputs": [
    {
     "data": {
      "text/plain": [
       "<matplotlib.collections.PathCollection at 0x226f0c69a60>"
      ]
     },
     "execution_count": 28,
     "metadata": {},
     "output_type": "execute_result"
    },
    {
     "data": {
      "image/png": "[encoded data removed]",
      "text/plain": [
       "<Figure size 432x288 with 1 Axes>"
      ]
     },
     "metadata": {
      "needs_background": "light"
     },
     "output_type": "display_data"
    }
   ],
   "source": [
    "# 데이터 생성\n",
    "np.random.seed()\n",
    "\n",
    "# X 축 값\n",
    "X = 2 * np.random.rand(100, 1) # 100개\n",
    "\n",
    "# Y 축 값 : y = 6 + 4X  (w0=6, w1=4)\n",
    "# 퍼져 보이게 하기 위해 노이즈 값을 줌\n",
    "y = 6 + 4*X + np.random.randn(100, 1)\n",
    "\n",
    "plt.scatter(X, y)"
   ]
  },
  {
   "cell_type": "code",
   "execution_count": null,
   "id": "d1df9e93",
   "metadata": {},
   "outputs": [],
   "source": [
    "rand() \n",
    "- 0~1 사이에서 균일한 확률 분포로 실수 난수 생성\n",
    "- 음수 값이 없음\n",
    "\n",
    "randn()\n",
    "- 표준 정규 분포(평균이 0이고, 표준편차가 1인 분포)를 따르는 난수 발생\n",
    "- 음수값이 나올 수 있음"
   ]
  },
  {
   "cell_type": "code",
   "execution_count": 17,
   "id": "daa86340",
   "metadata": {},
   "outputs": [
    {
     "data": {
      "text/plain": [
       "array([[ 1.61951896],\n",
       "       [ 0.3902698 ],\n",
       "       [ 0.63068634],\n",
       "       [-0.76346951],\n",
       "       [-1.24568916],\n",
       "       [-0.09413583],\n",
       "       [-1.68604535],\n",
       "       [-1.11896196],\n",
       "       [ 0.38919863],\n",
       "       [ 0.13904562]])"
      ]
     },
     "execution_count": 17,
     "metadata": {},
     "output_type": "execute_result"
    }
   ],
   "source": [
    "np.random.randn(10, 1)"
   ]
  },
  {
   "cell_type": "code",
   "execution_count": 19,
   "id": "288407d9",
   "metadata": {},
   "outputs": [
    {
     "data": {
      "text/plain": [
       "array([[0.88034852],\n",
       "       [0.91544464],\n",
       "       [0.53712347],\n",
       "       [0.93177441],\n",
       "       [0.59168564],\n",
       "       [0.86711501],\n",
       "       [0.41032812],\n",
       "       [0.05836928],\n",
       "       [0.66850378],\n",
       "       [0.21111257]])"
      ]
     },
     "execution_count": 19,
     "metadata": {},
     "output_type": "execute_result"
    }
   ],
   "source": [
    "np.random.rand(10, 1)"
   ]
  },
  {
   "cell_type": "code",
   "execution_count": 29,
   "id": "a5f7861c",
   "metadata": {},
   "outputs": [
    {
     "data": {
      "text/plain": [
       "LinearRegression()"
      ]
     },
     "execution_count": 29,
     "metadata": {},
     "output_type": "execute_result"
    }
   ],
   "source": [
    "# 단순 선형 회기 분석\n",
    "# LinearRegression 알고리즘으로 학습\n",
    "# X : 피처값\n",
    "# Y : 타깃값\n",
    "\n",
    "from sklearn.linear_model import LinearRegression\n",
    "line_fitter = LinearRegression() # 객체 생성\n",
    "line_fitter.fit(X, y)"
   ]
  },
  {
   "cell_type": "code",
   "execution_count": 30,
   "id": "ca17a0e3",
   "metadata": {},
   "outputs": [
    {
     "data": {
      "text/plain": [
       "array([[11.80142669]])"
      ]
     },
     "execution_count": 30,
     "metadata": {},
     "output_type": "execute_result"
    }
   ],
   "source": [
    "# X가 1.5248의 타깃값 예측\n",
    "y_predicted = line_fitter.predict(np.array([[1.5248]]))\n",
    "y_predicted"
   ]
  },
  {
   "cell_type": "code",
   "execution_count": 31,
   "id": "b7ed6c9f",
   "metadata": {},
   "outputs": [
    {
     "data": {
      "text/plain": [
       "array([[3.8147798]])"
      ]
     },
     "execution_count": 31,
     "metadata": {},
     "output_type": "execute_result"
    }
   ],
   "source": [
    "# 회귀 계수 : coef_ 속성\n",
    "line_fitter.coef_"
   ]
  },
  {
   "cell_type": "code",
   "execution_count": 32,
   "id": "9f3923cf",
   "metadata": {},
   "outputs": [
    {
     "data": {
      "text/plain": [
       "array([5.98465045])"
      ]
     },
     "execution_count": 32,
     "metadata": {},
     "output_type": "execute_result"
    }
   ],
   "source": [
    "# 절편 확인 : y = 6 + 4X (절편 : 6)\n",
    "line_fitter.intercept_"
   ]
  },
  {
   "cell_type": "code",
   "execution_count": 33,
   "id": "a45b7812",
   "metadata": {},
   "outputs": [
    {
     "data": {
      "image/png": "[encoded data removed]",
      "text/plain": [
       "<Figure size 432x288 with 1 Axes>"
      ]
     },
     "metadata": {
      "needs_background": "light"
     },
     "output_type": "display_data"
    }
   ],
   "source": [
    "# 단순 선형 회귀 시각화\n",
    "plt.plot(X, y, 'o')\n",
    "plt.plot(X, line_fitter.predict(X))\n",
    "plt.show()"
   ]
  },
  {
   "cell_type": "code",
   "execution_count": null,
   "id": "e599d8f9",
   "metadata": {},
   "outputs": [],
   "source": [
    "### 사이킷런의 LinearRegression 클래스\n",
    "\n",
    "사이킷런의 linear_model 모듈은\n",
    "매우 다양한 종류의 선형 기반 회귀를 클래스로 구현해서 제공\n",
    "\n",
    "LinearRegression 클래스\n",
    "- 예측값과 실제값으 RSS를 최소화해서 구현한 클래스\n",
    "- fit() 메서드로 X, y 배열을 입력받아서\n",
    "- predict() 예측\n",
    "- 회귀 계수(Coefficients)인 W를 coef_ 속성에 저장\n",
    "- intercept 값(절편) : intercept_ 속성에 저장"
   ]
  },
  {
   "cell_type": "code",
   "execution_count": null,
   "id": "5dbbd625",
   "metadata": {},
   "outputs": [],
   "source": [
    "선형 회귀 다중공선성 문제\n",
    "- 일반적으로 선형 회귀는 입력 피처의 독립성에 많은 영향을 받음\n",
    "- 피처 간의 상관관계가 매우 높은 경우 분산이 매우 커져서 오류에 매우 민감하게 됨\n",
    "- 일반적으로 상관관계가 높은 피처가 많은 경우\n",
    "- 독립적인 중요한 피처만 남기고 제거하거나 규제 적용"
   ]
  },
  {
   "cell_type": "code",
   "execution_count": null,
   "id": "4de640d2",
   "metadata": {},
   "outputs": [],
   "source": [
    "다중공선성\n",
    "- 회구분석에서 독립 변수들 간에 강한 상관관계가 나타나는 문제\n",
    "\n",
    "상관관계가 높은 피처들\n",
    "- 다른 피처에서 파생된 피처"
   ]
  },
  {
   "cell_type": "code",
   "execution_count": null,
   "id": "6108c359",
   "metadata": {},
   "outputs": [],
   "source": [
    "회귀 평가 지표\n",
    "\n",
    "MSE (Mean Squared Error) : 실제값과 예측값의 차이를 제곱해서 평균한 것\n",
    "\n",
    "RMSE(Root Mean Squared Error)\n",
    "- MSE 값이 오류의 제곱을 구하므로\n",
    "- 실제 오류 평균보다 더 커지는 특성이 있으므로\n",
    "- MSE에 루트를 씌운 것\n",
    "- MSE에 제곱근을 씌워서 계산하는 함수 직접 만들어서사용\n",
    "- 값이 작을수록 성능이 좋음\n",
    "\n",
    "R제곱 : 분산 기반으로 예측 성능 평가\n",
    "- 실제값의 분산 대비 예측값의 분산 비율을 지표로 하며\n",
    "- 1에 가까울수록 예측 정확도가 높음"
   ]
  },
  {
   "cell_type": "code",
   "execution_count": null,
   "id": "5f36201a",
   "metadata": {},
   "outputs": [],
   "source": [
    "# 그림38 회귀 평가 지표"
   ]
  },
  {
   "cell_type": "markdown",
   "id": "85f9a06d",
   "metadata": {},
   "source": [
    "### 사이킷런 LinearRegression을 이용한 보스턴 주택 가격 예측 예제"
   ]
  },
  {
   "cell_type": "code",
   "execution_count": null,
   "id": "291db47f",
   "metadata": {},
   "outputs": [],
   "source": [
    "# 내장 데이터 활용 : boston 데이터셋"
   ]
  },
  {
   "cell_type": "code",
   "execution_count": 37,
   "id": "22f74a8d",
   "metadata": {},
   "outputs": [
    {
     "name": "stdout",
     "output_type": "stream",
     "text": [
      "Boston 데이터셋 크기 :  (506, 14)\n"
     ]
    },
    {
     "data": {
      "text/html": [
       "<div>\n",
       "<style scoped>\n",
       "    .dataframe tbody tr th:only-of-type {\n",
       "        vertical-align: middle;\n",
       "    }\n",
       "\n",
       "    .dataframe tbody tr th {\n",
       "        vertical-align: top;\n",
       "    }\n",
       "\n",
       "    .dataframe thead th {\n",
       "        text-align: right;\n",
       "    }\n",
       "</style>\n",
       "<table border=\"1\" class=\"dataframe\">\n",
       "  <thead>\n",
       "    <tr style=\"text-align: right;\">\n",
       "      <th></th>\n",
       "      <th>CRIM</th>\n",
       "      <th>ZN</th>\n",
       "      <th>INDUS</th>\n",
       "      <th>CHAS</th>\n",
       "      <th>NOX</th>\n",
       "      <th>RM</th>\n",
       "      <th>AGE</th>\n",
       "      <th>DIS</th>\n",
       "      <th>RAD</th>\n",
       "      <th>TAX</th>\n",
       "      <th>PTRATIO</th>\n",
       "      <th>B</th>\n",
       "      <th>LSTAT</th>\n",
       "      <th>PRICE</th>\n",
       "    </tr>\n",
       "  </thead>\n",
       "  <tbody>\n",
       "    <tr>\n",
       "      <th>0</th>\n",
       "      <td>0.00632</td>\n",
       "      <td>18.0</td>\n",
       "      <td>2.31</td>\n",
       "      <td>0.0</td>\n",
       "      <td>0.538</td>\n",
       "      <td>6.575</td>\n",
       "      <td>65.2</td>\n",
       "      <td>4.0900</td>\n",
       "      <td>1.0</td>\n",
       "      <td>296.0</td>\n",
       "      <td>15.3</td>\n",
       "      <td>396.90</td>\n",
       "      <td>4.98</td>\n",
       "      <td>24.0</td>\n",
       "    </tr>\n",
       "    <tr>\n",
       "      <th>1</th>\n",
       "      <td>0.02731</td>\n",
       "      <td>0.0</td>\n",
       "      <td>7.07</td>\n",
       "      <td>0.0</td>\n",
       "      <td>0.469</td>\n",
       "      <td>6.421</td>\n",
       "      <td>78.9</td>\n",
       "      <td>4.9671</td>\n",
       "      <td>2.0</td>\n",
       "      <td>242.0</td>\n",
       "      <td>17.8</td>\n",
       "      <td>396.90</td>\n",
       "      <td>9.14</td>\n",
       "      <td>21.6</td>\n",
       "    </tr>\n",
       "    <tr>\n",
       "      <th>2</th>\n",
       "      <td>0.02729</td>\n",
       "      <td>0.0</td>\n",
       "      <td>7.07</td>\n",
       "      <td>0.0</td>\n",
       "      <td>0.469</td>\n",
       "      <td>7.185</td>\n",
       "      <td>61.1</td>\n",
       "      <td>4.9671</td>\n",
       "      <td>2.0</td>\n",
       "      <td>242.0</td>\n",
       "      <td>17.8</td>\n",
       "      <td>392.83</td>\n",
       "      <td>4.03</td>\n",
       "      <td>34.7</td>\n",
       "    </tr>\n",
       "    <tr>\n",
       "      <th>3</th>\n",
       "      <td>0.03237</td>\n",
       "      <td>0.0</td>\n",
       "      <td>2.18</td>\n",
       "      <td>0.0</td>\n",
       "      <td>0.458</td>\n",
       "      <td>6.998</td>\n",
       "      <td>45.8</td>\n",
       "      <td>6.0622</td>\n",
       "      <td>3.0</td>\n",
       "      <td>222.0</td>\n",
       "      <td>18.7</td>\n",
       "      <td>394.63</td>\n",
       "      <td>2.94</td>\n",
       "      <td>33.4</td>\n",
       "    </tr>\n",
       "    <tr>\n",
       "      <th>4</th>\n",
       "      <td>0.06905</td>\n",
       "      <td>0.0</td>\n",
       "      <td>2.18</td>\n",
       "      <td>0.0</td>\n",
       "      <td>0.458</td>\n",
       "      <td>7.147</td>\n",
       "      <td>54.2</td>\n",
       "      <td>6.0622</td>\n",
       "      <td>3.0</td>\n",
       "      <td>222.0</td>\n",
       "      <td>18.7</td>\n",
       "      <td>396.90</td>\n",
       "      <td>5.33</td>\n",
       "      <td>36.2</td>\n",
       "    </tr>\n",
       "  </tbody>\n",
       "</table>\n",
       "</div>"
      ],
      "text/plain": [
       "      CRIM    ZN  INDUS  CHAS    NOX     RM   AGE     DIS  RAD    TAX  \\\n",
       "0  0.00632  18.0   2.31   0.0  0.538  6.575  65.2  4.0900  1.0  296.0   \n",
       "1  0.02731   0.0   7.07   0.0  0.469  6.421  78.9  4.9671  2.0  242.0   \n",
       "2  0.02729   0.0   7.07   0.0  0.469  7.185  61.1  4.9671  2.0  242.0   \n",
       "3  0.03237   0.0   2.18   0.0  0.458  6.998  45.8  6.0622  3.0  222.0   \n",
       "4  0.06905   0.0   2.18   0.0  0.458  7.147  54.2  6.0622  3.0  222.0   \n",
       "\n",
       "   PTRATIO       B  LSTAT  PRICE  \n",
       "0     15.3  396.90   4.98   24.0  \n",
       "1     17.8  396.90   9.14   21.6  \n",
       "2     17.8  392.83   4.03   34.7  \n",
       "3     18.7  394.63   2.94   33.4  \n",
       "4     18.7  396.90   5.33   36.2  "
      ]
     },
     "execution_count": 37,
     "metadata": {},
     "output_type": "execute_result"
    }
   ],
   "source": [
    "import numpy as np\n",
    "import pandas as pd\n",
    "import seaborn as sns\n",
    "from sklearn.datasets import load_boston\n",
    "import matplotlib.pyplot as plt\n",
    "%matplotlib inline\n",
    "\n",
    "# boston 데이터 셋 로드\n",
    "boston = load_boston()\n",
    "\n",
    "# DataFrame으로 변환\n",
    "bostonDF = pd.DataFrame(boston.data, columns=boston.feature_names)\n",
    "# bostonDF.head(3)\n",
    "\n",
    "# boston 데이터셋의 target 주택 가격\n",
    "# 이를 PRICE 칼럼으로 데이터 프레임에 추가\n",
    "bostonDF['PRICE'] = boston.target\n",
    "\n",
    "print('Boston 데이터셋 크기 : ', bostonDF.shape)\n",
    "\n",
    "bostonDF.head()\n",
    "\n",
    "# 예측해야 할 값 : PRICE (레이블값, 결정값, 타깃값)"
   ]
  },
  {
   "cell_type": "code",
   "execution_count": null,
   "id": "ccf187c3",
   "metadata": {},
   "outputs": [],
   "source": [
    "CRIM: 지역별 범죄 발생률\n",
    "ZN: 25,000평방피트를 초과하는 거주 지역의 비율\n",
    "INDUS: 비상업 지역 넓이 비율\n",
    "CHAS: 찰스강에 대한 더미 변수(강의 경계에 위치한 경우는 1, 아니면 0)\n",
    "NOX: 일산화질소 농도\n",
    "RM: 거주할 수 있는 방 개수\n",
    "AGE: 1940년 이전에 건축된 소유 주택의 비율\n",
    "DIS: 5개 주요 고용센터까지의 가중 거리\n",
    "RAD: 고속도로 접근 용이도\n",
    "TAX: 10,000달러당 재산세율\n",
    "PTRATIO: 지역의 교사와 학생 수 비율\n",
    "B: 지역의 흑인 거주 비율\n",
    "LSTAT: 하위 계층의 비율\n",
    "MEDV: 본인 소유의 주택 가격(중앙값)"
   ]
  },
  {
   "cell_type": "code",
   "execution_count": 38,
   "id": "4592ed15",
   "metadata": {},
   "outputs": [
    {
     "name": "stdout",
     "output_type": "stream",
     "text": [
      "<class 'pandas.core.frame.DataFrame'>\n",
      "RangeIndex: 506 entries, 0 to 505\n",
      "Data columns (total 14 columns):\n",
      " #   Column   Non-Null Count  Dtype  \n",
      "---  ------   --------------  -----  \n",
      " 0   CRIM     506 non-null    float64\n",
      " 1   ZN       506 non-null    float64\n",
      " 2   INDUS    506 non-null    float64\n",
      " 3   CHAS     506 non-null    float64\n",
      " 4   NOX      506 non-null    float64\n",
      " 5   RM       506 non-null    float64\n",
      " 6   AGE      506 non-null    float64\n",
      " 7   DIS      506 non-null    float64\n",
      " 8   RAD      506 non-null    float64\n",
      " 9   TAX      506 non-null    float64\n",
      " 10  PTRATIO  506 non-null    float64\n",
      " 11  B        506 non-null    float64\n",
      " 12  LSTAT    506 non-null    float64\n",
      " 13  PRICE    506 non-null    float64\n",
      "dtypes: float64(14)\n",
      "memory usage: 55.5 KB\n"
     ]
    }
   ],
   "source": [
    "bostonDF.info()\n",
    "\n",
    "# null 값없고 모두 float 형"
   ]
  },
  {
   "cell_type": "code",
   "execution_count": null,
   "id": "364b4ee1",
   "metadata": {},
   "outputs": [],
   "source": [
    "집 값에 크게 영향을 미치는 중요한 요소\n",
    "- 삶의 편리도를 생각하면 : RM (거주할 수 있는 방 개수)\n",
    "- RAD : 고속도로 접근 용이도 (미국은 차가 있어야 하니까)"
   ]
  },
  {
   "cell_type": "code",
   "execution_count": null,
   "id": "e0fc6b16",
   "metadata": {},
   "outputs": [],
   "source": [
    "각 칼럼별로 주택 가격에 미치는 영향도를 조사\n",
    "총 8개의 칼럼에 대해 값이 증가할수록 PRICE 갓이 어떻게 변하는지 확인"
   ]
  },
  {
   "cell_type": "code",
   "execution_count": null,
   "id": "8f809a49",
   "metadata": {},
   "outputs": [],
   "source": [
    "Seaborn의 regplot() 이용\n",
    "- 각 ax마다 칼럼과 PRICE의 관계 표현\n",
    "- 2차원 평면에서 X축을 피처, Y축을 타깃겞으로 설정하면\n",
    "- 산점도와 함께 선형 회귀 직선표시"
   ]
  },
  {
   "cell_type": "code",
   "execution_count": 40,
   "id": "79604bd1",
   "metadata": {},
   "outputs": [
    {
     "data": {
      "image/png": "[encoded data removed]",
      "text/plain": [
       "<Figure size 1152x576 with 8 Axes>"
      ]
     },
     "metadata": {
      "needs_background": "light"
     },
     "output_type": "display_data"
    }
   ],
   "source": [
    "# 2개의 행과 4개의 열을 가진 subplots를 이용\n",
    "fig, axs = plt.subplots(figsize=(16,8), ncols=4, nrows=2)\n",
    "lm_features = ['RM', 'ZN', 'INDUS', 'NOX', 'AGE', 'PTRATIO', 'LSTAT', 'RAD']\n",
    "\n",
    "# 각 요소에 대해\n",
    "for i, feature in enumerate(lm_features):\n",
    "    row = int(i/4)\n",
    "    col = i%4\n",
    "    # Seaborn의 regplot() 이용 산점도와 함께 선형 회귀 직선표시\n",
    "    sns.regplot(x=feature, y='PRICE', data=bostonDF, ax=axs[row][col])\n",
    "    \n",
    "# 결과\n",
    "# 다른 칼럼보다 RM과 LSTAT의 PRICE 영향도가 가장 두드러지게 나타남\n",
    "# RM(방 개수) : 양의 방향 선형성이 가장 큼 (방의 크기가 클스록 가격이 증가)\n",
    "# LSTAT(하위 계층의 비율) : 음의 방향 선형성 가장 큼(LSTAT이 작을수록 PRICE가 증가)"
   ]
  },
  {
   "cell_type": "code",
   "execution_count": null,
   "id": "95509a9c",
   "metadata": {},
   "outputs": [],
   "source": [
    "### LinearRegression 클래스를 이용해서 보스턴 주택 가격의 회귀 모델 생성\n",
    "\n",
    "- train_test_split()을 이용해서 학습/테스트 데이터셋 분리\n",
    "- fit() 학습, predict() 예측 수행\n",
    "- metrics 모듈의 mean_squared_error() 이용해서 MSE 측정\n",
    "- r2_score() 이용해서 R2 Score 측정"
   ]
  },
  {
   "cell_type": "code",
   "execution_count": 44,
   "id": "6e815606",
   "metadata": {},
   "outputs": [
    {
     "name": "stdout",
     "output_type": "stream",
     "text": [
      "MSE : 17.297, RMSE : 4.159\n",
      "Variance score : 0.757\n"
     ]
    }
   ],
   "source": [
    "from sklearn.model_selection import train_test_split\n",
    "from sklearn.linear_model import LinearRegression\n",
    "from sklearn.metrics import mean_squared_error, r2_score\n",
    "\n",
    "# 타깃값 데이터 셋 만들기\n",
    "y_target = bostonDF['PRICE']\n",
    "# 피처값 데이터 셋 만들기\n",
    "# 타깃 제외한 나머지 칼럼들\n",
    "X_data = bostonDF.drop(['PRICE'], axis=1, inplace=False)\n",
    "\n",
    "X_train , X_test , y_train , y_test = train_test_split(X_data , y_target ,test_size=0.3, random_state=156)\n",
    "\n",
    "# LinearRegression으로 학습/예측/평가 수행\n",
    "lr = LinearRegression()\n",
    "lr.fit(X_train, y_train)\n",
    "y_preds = lr.predict(X_test)\n",
    "\n",
    "mse = mean_squared_error(y_test, y_preds) # 예측 오류값\n",
    "rmse = np.sqrt(mse) # 사이킷런이 지원하지 않기 때문에 np.sqrt() 이용\n",
    "\n",
    "print('MSE : {0:.3f}, RMSE : {1:.3f}'.format(mse, rmse))\n",
    "print('Variance score : {0:.3f}'.format(r2_score(y_test, y_preds)))\n",
    "\n",
    "# MSE : 실제값과 예측값의 차이를 제곱해서 평균한 것\n",
    "# RMSE : MSE에 루트 씌운 값 (낮을 수록 성능 좋음)\n",
    "# R제곱(r2_scor): 분산 기반으로 예측 성능 평가\n",
    "# 실제값의 분사 대비 예측값의 분산 비율\n",
    "# 1에 가까울수록 예측 정확도가 높음\n",
    "\n",
    "# RMSE : 4.159\n",
    "# Variance score : 0.757\n",
    "# 나쁜 수치는 아니지만 만족할만한 수치는 아님"
   ]
  },
  {
   "cell_type": "code",
   "execution_count": 45,
   "id": "86bcabc6",
   "metadata": {},
   "outputs": [
    {
     "name": "stdout",
     "output_type": "stream",
     "text": [
      "절편 값 :  40.995595172164315\n",
      "회귀 계수 값 :  [ -0.1   0.1   0.    3.  -19.8   3.4   0.   -1.7   0.4  -0.   -0.9   0.\n",
      "  -0.6]\n"
     ]
    }
   ],
   "source": [
    "# LinearRegression으로 생성한 주택가격 모델의\n",
    "# 절편과 회귀 계수 값 확인\n",
    "# 절편 : intercept_ 속성에 저장\n",
    "# 회귀 계수 : coef_ 속성에 저장\n",
    "\n",
    "print('절편 값 : ', lr.intercept_)\n",
    "print('회귀 계수 값 : ', np.round(lr.coef_, 1))"
   ]
  },
  {
   "cell_type": "code",
   "execution_count": 47,
   "id": "7f7a1e9e",
   "metadata": {},
   "outputs": [
    {
     "data": {
      "text/plain": [
       "RM          3.4\n",
       "CHAS        3.0\n",
       "RAD         0.4\n",
       "ZN          0.1\n",
       "INDUS       0.0\n",
       "AGE         0.0\n",
       "TAX        -0.0\n",
       "B           0.0\n",
       "CRIM       -0.1\n",
       "LSTAT      -0.6\n",
       "PTRATIO    -0.9\n",
       "DIS        -1.7\n",
       "NOX       -19.8\n",
       "dtype: float64"
      ]
     },
     "execution_count": 47,
     "metadata": {},
     "output_type": "execute_result"
    }
   ],
   "source": [
    "# coef_ 속성은 회귀 계수 값만 가지고 있으므로\n",
    "# 회귀 계수값을 칼럼별로 매칭\n",
    "# 내림차순 정렬\n",
    "\n",
    "coeff = pd.Series(data=np.round(lr.coef_, 1), index=X_data.columns)\n",
    "coeff.sort_values(ascending=False) # 내림차순 정렬\n",
    "\n",
    "# 결과\n",
    "# RM이 3.4로 회귀 계수가 가장 큼\n",
    "# 특이 사항 : NOX 피처의 회기 계수가 - 값으로 너무 큼 (NOX 값 때문에 예측 오류값이 달라질 수 있음)\n",
    "# 최적화 수행하면서 피처 회기 계수 변화도 같이 살펴볼 예정"
   ]
  },
  {
   "cell_type": "code",
   "execution_count": null,
   "id": "14ee1488",
   "metadata": {},
   "outputs": [],
   "source": [
    "교차 검증 수행\n",
    "- 5개의 폴드 세트에서 corss_val_score()를 이용해 교차 검증 수행\n",
    "\n",
    "MSE 구하는 방법\n",
    "- corss_val_score()의 인자로 'neg_mean_squared_error' 로 설정하면 음수값 반환\n",
    "- 사이킷런의 지표 평가 기준은 높은 지표값일수록 좋은 모델인데 반해\n",
    "- 회귀는 MSE 값이 낮을수록 좋은 회귀 모델이므로\n",
    "- 사이킷런의 metric 평가 기준에 MSE를 부합시키기 위해\n",
    "- 반환된 음수값에 -1을 곱해서 양의 값으로 변환해서 사용\n",
    "\n",
    "RMSE 구하는 방법\n",
    "- 사이킷런에서 RMSE는 제공하지 않으므로\n",
    "- MSE 수치 결과를 RMSE로 변환할 필요\n",
    "- 변환된 MSE 값에 넘파이 sqrt() 함수를 적용해서 구함"
   ]
  },
  {
   "cell_type": "code",
   "execution_count": 52,
   "id": "daaddf19",
   "metadata": {},
   "outputs": [
    {
     "name": "stdout",
     "output_type": "stream",
     "text": [
      "5 folds의 개별 Negative MSE scores :  [-12.46 -26.05 -33.07 -80.76 -33.31]\n",
      "5 folds의 개별 RMSE scores :  [3.53 5.1  5.75 8.99 5.77]\n",
      "5 folds의 평균 RMSE : 5.829\n"
     ]
    }
   ],
   "source": [
    "# 5개의 폴드 세트에서 교차 검증 수행\n",
    "# MSE와 RMSE 측정\n",
    "\n",
    "from sklearn.model_selection import cross_val_score\n",
    "\n",
    "# 5 Fold 셋으로 MSE 구함\n",
    "neg_mse_scores = cross_val_score(lr, X_data, y_target, scoring=\"neg_mean_squared_error\", cv=5)\n",
    "\n",
    "# RMSE = MSE에 -1 곱한 후 sqrt() 적용\n",
    "rmse_scores = np.sqrt(-1 * neg_mse_scores)\n",
    "avg_rmse = np.mean(rmse_scores)\n",
    "\n",
    "print('5 folds의 개별 Negative MSE scores : ', np.round(neg_mse_scores, 2))\n",
    "print('5 folds의 개별 RMSE scores : ', np.round(rmse_scores, 2))\n",
    "print('5 folds의 평균 RMSE : {0:.3f}'.format(avg_rmse))\n",
    "\n",
    "# 좀 더 정확한 평가를 위해서 교차 검증을 수행했는데\n",
    "# RMSE값이 약간 더 높게 나타남\n",
    "# 만족할 만한 수치는 아님"
   ]
  },
  {
   "cell_type": "code",
   "execution_count": null,
   "id": "3ac11a13",
   "metadata": {},
   "outputs": [],
   "source": []
  },
  {
   "cell_type": "code",
   "execution_count": null,
   "id": "2dac112f",
   "metadata": {},
   "outputs": [],
   "source": []
  },
  {
   "cell_type": "code",
   "execution_count": null,
   "id": "5d485407",
   "metadata": {},
   "outputs": [],
   "source": []
  },
  {
   "cell_type": "code",
   "execution_count": null,
   "id": "2a0a485c",
   "metadata": {},
   "outputs": [],
   "source": []
  }
 ],
 "metadata": {
  "kernelspec": {
   "display_name": "ML_ENV",
   "language": "python",
   "name": "mlenv"
  },
  "language_info": {
   "codemirror_mode": {
    "name": "ipython",
    "version": 3
   },
   "file_extension": ".py",
   "mimetype": "text/x-python",
   "name": "python",
   "nbconvert_exporter": "python",
   "pygments_lexer": "ipython3",
   "version": "3.8.8"
  }
 },
 "nbformat": 4,
 "nbformat_minor": 5
}
