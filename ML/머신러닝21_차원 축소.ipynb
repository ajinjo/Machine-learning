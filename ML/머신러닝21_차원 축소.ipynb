{
 "cells": [
  {
   "cell_type": "markdown",
   "id": "13e7c9b7",
   "metadata": {},
   "source": [
    "## 차원 축소(Dimension Reduction)"
   ]
  },
  {
   "cell_type": "code",
   "execution_count": null,
   "id": "fef9133f",
   "metadata": {},
   "outputs": [],
   "source": [
    "차원 축소(Dimension Reduction)\n",
    "- 메우 많은 피처로 구성된 다차원 데이터 세트의 차원을 축소해서\n",
    "- 새로운 차원의 데이터 세트를 생성하는 것\n",
    "- 일반적으로 차원이 증가할수록 데이터 포인트 간의 거리가 기하급수적으로 멀어지게 되고\n",
    "- 희소한(sparse) 구조를 가지게 됨\n",
    "- 수백 개 이상의 피처로 구성된 데이터 세트의 경우\n",
    "- 상대적으로 적은 차원에서 학습된 모델보다 예측 신뢰도가 떨어짐\n",
    "- 또한 피처가 많을 경우 개별 피처 간의 상관관계가 높을 가능성이 큼\n",
    "- 선형 회귀의 경우 선형 모델에서는 입력 변수 간의 상관관계가 높을 경우\n",
    "- 이로 인한 다중 공선성 문제로 모델의 예측 성능 저하"
   ]
  },
  {
   "cell_type": "code",
   "execution_count": null,
   "id": "b3db4b81",
   "metadata": {},
   "outputs": [],
   "source": [
    "차원 축소 이점\n",
    "- 많은 다차원의 피처를 차원 축소해서 피처 수를 줄이면\n",
    "- 더 직관적으로 데이터 해석 가능\n",
    "- 수십 개 이상의 피처가 있는 경우 시각적으로 표현 시\n",
    "- 데이터의 특성 파악 불가능\n",
    "- 이 경우 3차원 이하의 차원 축소를 통해서 시각적으로 데이터를 압축해서 표현 가능\n",
    "- 또한 학습 데이터 크기가 줄어 들어서 학습에 필요한 처리 능력도 줄일 수 있음"
   ]
  },
  {
   "cell_type": "code",
   "execution_count": null,
   "id": "b9812f3b",
   "metadata": {},
   "outputs": [],
   "source": [
    "차원 축소 방법\n",
    "- 피처 선택 (Feature Selection)\n",
    "- 피처 추출 (Feature Extraction)"
   ]
  },
  {
   "cell_type": "code",
   "execution_count": null,
   "id": "7495dc09",
   "metadata": {},
   "outputs": [],
   "source": [
    "피처 선택 (Feature Selection)\n",
    "- 특성 선택\n",
    "- 특정 피처에 종속성이 강한 불필요한 피처는 제거하고\n",
    "- 데이터의 특징을 잘 나타내는 주요 피처만 선택하는 것"
   ]
  },
  {
   "cell_type": "code",
   "execution_count": null,
   "id": "b47b2ed2",
   "metadata": {},
   "outputs": [],
   "source": [
    "피처 추출 (Feature Extraction)\n",
    "- 특성 추출\n",
    "- 기존 피처를 저차원의 중요 피처로 압축해서 추출하는 것\n",
    "- 새롭게 추출된 중요 특성은 기존의 피처가 압축된 것이므로\n",
    "- 기존의 피처와는 완전히 다른 값이 됨\n",
    "- 기존 피처를 단순 압축이 아니고\n",
    "- 피처를 함축적으로 더 잘 설명할 수 있는 또 다른 공간으로 매핑해 추출하는 것\n",
    "\n",
    "\n",
    "예: 학생 평가 요소\n",
    "- 모의고사 성적, 종합 내신 성적, 봉사활동, 대외활동, 학교 내외 수상 경력 등\n",
    "- 함축적 요약 특성으로 추출 : 학업 성취도, 커뮤니케이션 능력, 문제 해결력\n",
    "- 함축적인 특성 추출 : 기존 피처가 전혀 인지하기 어려웠던 잠재적인 요소를 추출하는 것을 의미"
   ]
  },
  {
   "cell_type": "code",
   "execution_count": null,
   "id": "cbd30456",
   "metadata": {},
   "outputs": [],
   "source": [
    " 이미지 영역에서의 차원 축소 알고리즘\n",
    "    \n",
    "- 많은 픽셀로 이루어진 이미지 데이터에서\n",
    "- 잠재된 특성을 피처로 도출해 함축적 형태의 이미지 변환과 압축 수행\n",
    "- 변환된 이미지는 원본 이미지보다 훨씬 적은 차원기 때문에\n",
    "- 이미지 분류 등의 분류 수행 시에\n",
    "- 과적합 영향력이 작아져서\n",
    "- 오히려 원본 데이터로 예측하는 것보다 예측 성을 더 끌어 올릴 수 있음\n",
    "- 이미지 자체가 가지고 있는 차원의 수가 너무 크기 때문에 비슷한 이미지라도 적은 픽셀의 차이가\n",
    "- 잘못된 예측으로 이어질 수 있기 때문\n",
    "- 이 경우 함축적으로 차원을 축소하는 것이 에측 성능에 훨씬 도움"
   ]
  },
  {
   "cell_type": "code",
   "execution_count": null,
   "id": "14dcea7f",
   "metadata": {},
   "outputs": [],
   "source": [
    "텍스트 영역에서의 차원 축소 알고리즘\n",
    "\n",
    "- 텍스트 문서의 숨겨진 의미를 추출하는 것\n",
    "- 문서는 많은 단어로 구성되어 있는데\n",
    "- 문서를 작성하는 사람은 어떤 의도나 의미를 가지고 문서를 작성하면서 단어를 사용\n",
    "- 일반적으로사람의 경우 문서를 읽으면서 문서 작성자의 의미나 의도를 쉽게 인지 가능\n",
    "- 차원 축소 알고리즘은 문서 내 단어들의 구성에서 숨겨져 있는\n",
    "- 시맨틱 의미나 토픽(topic)을 잠재 요소로 간주하고 찾아 낼 수 있음\n",
    "- SVD와 NMF는 시맨틱 토픽 모델링르 위한 기반 알고리즘으로 사용됨"
   ]
  },
  {
   "cell_type": "code",
   "execution_count": null,
   "id": "6dd77161",
   "metadata": {},
   "outputs": [],
   "source": [
    "대표적인 차원 축소 알고리즘\n",
    "- PCA\n",
    "- LDA\n",
    "- SVD\n",
    "- NMF"
   ]
  },
  {
   "cell_type": "code",
   "execution_count": null,
   "id": "1b4bf8d0",
   "metadata": {},
   "outputs": [],
   "source": [
    "PCA (Principal Component Analysis)\n",
    "- 입력 데이터의 변동성이 가장 큰 축을 구하고\n",
    "- 다시 이 축에 직각적인 축을 반복적으로 축소하려는 차원 개수만큼 구한 뒤\n",
    "- 입력 데이터를 이 축들에 투영해 차원을 축소하는 방식"
   ]
  },
  {
   "cell_type": "code",
   "execution_count": null,
   "id": "93fb19fe",
   "metadata": {},
   "outputs": [],
   "source": [
    "LDA (Linear Discriminant Analysis)\n",
    "- 선형 판별 분석법\n",
    "- PCA와 유사하게 입력 데이터 세트를 저차원 공간에 투영해 차원을 축소하는 기법이지만\n",
    "- 중요한 차이는 지도학습의 분류에서 사용하기 쉽도록\n",
    "- 개별 클래스를 분별할 수 있는 기준을 최대한 유지하면서 차원 축소\n",
    "- PCA : 입력 데이터의 변동성의 가장 큰 축을 찾지만\n",
    "- LDA : 입력 데이터의 결정값 클래스를 최대한으로 분리할 수 있는 축을 찾음"
   ]
  },
  {
   "cell_type": "code",
   "execution_count": null,
   "id": "1b33c6d5",
   "metadata": {},
   "outputs": [],
   "source": [
    "SVD (Singular Value Decomposition)\n",
    "- PCA와 유사한 행렬 분해 기법 사용\n",
    "- PCA : 정방행렬만을 고유벡터로 분해\n",
    "- SVD : 정방행렬뿐만 아니라 행과 열의 크기가 다른 행렬에도 적용 가능"
   ]
  },
  {
   "cell_type": "code",
   "execution_count": null,
   "id": "19d03b84",
   "metadata": {},
   "outputs": [],
   "source": [
    "NMF(Non-Negative Matrix Factorization)\n",
    "- 원본 행렬 내의 모든 원소 값이 모두 양수(0 이상)라는 것이 보장되면\n",
    "- 좀 더 간단하게 두 개의 기반 양수 행렬로 분해될 수 있는 기법 지칭"
   ]
  },
  {
   "cell_type": "code",
   "execution_count": null,
   "id": "6e0d2002",
   "metadata": {},
   "outputs": [],
   "source": [
    "SVD와 NMF\n",
    "- 매우 많은 피처 데이터를 가진 고차원 행렬을\n",
    "- 2개의 처차원 행렬로 분리하는 행렬 분해 기법\n",
    "- 행렬 분해를 수행하면서 원본 행려에서 잠재되 요소를 추출하기 때문에\n",
    "- 토픽 포델리이나 추천 시스템에서 활발하게 사용됨"
   ]
  },
  {
   "cell_type": "code",
   "execution_count": null,
   "id": "35a2d83e",
   "metadata": {},
   "outputs": [],
   "source": [
    "PCA와 SVD\n",
    "- 많은 차원을 가지는 이미지나 텍스트에서도 활발하게 사용됨"
   ]
  },
  {
   "cell_type": "code",
   "execution_count": null,
   "id": "b7b6036a",
   "metadata": {},
   "outputs": [],
   "source": []
  },
  {
   "cell_type": "code",
   "execution_count": null,
   "id": "801a23e0",
   "metadata": {},
   "outputs": [],
   "source": []
  },
  {
   "cell_type": "code",
   "execution_count": null,
   "id": "b4753043",
   "metadata": {},
   "outputs": [],
   "source": []
  }
 ],
 "metadata": {
  "kernelspec": {
   "display_name": "Python 3",
   "language": "python",
   "name": "python3"
  },
  "language_info": {
   "codemirror_mode": {
    "name": "ipython",
    "version": 3
   },
   "file_extension": ".py",
   "mimetype": "text/x-python",
   "name": "python",
   "nbconvert_exporter": "python",
   "pygments_lexer": "ipython3",
   "version": "3.8.8"
  }
 },
 "nbformat": 4,
 "nbformat_minor": 5
}
