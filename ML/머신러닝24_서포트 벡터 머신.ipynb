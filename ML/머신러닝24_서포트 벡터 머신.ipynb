{
 "cells": [
  {
   "cell_type": "markdown",
   "id": "87fdfbc8",
   "metadata": {},
   "source": [
    "## 서포트 벡터 머신 (Support Vector Machine)"
   ]
  },
  {
   "cell_type": "code",
   "execution_count": null,
   "id": "4d1e7c4f",
   "metadata": {},
   "outputs": [],
   "source": [
    "서포트 벡터 머신 (Support Vector Machine)\n",
    "- 선형이나 비선형 분류, 회귀, 이상치 탐색에도 사용 가능한 다목적 머신러닝 알고리즘\n",
    "- 데이터가 어느 카테고리에 속할지 판단하는\n",
    "- 비확률적 이진 선형 분류 모델을 만들 때 많이 사용\n",
    "- 만들어진 분류 모델은 데이터가 매핑된 공간에서 경계로 표현되는데\n",
    "- 그 중 가장 큰 폭을 가진 경계를 찾는 알고리즘 \n",
    "- 복잡한 분류 문제 또는 작거나 중간 크기의 데이터 세트 적합"
   ]
  },
  {
   "cell_type": "code",
   "execution_count": null,
   "id": "804b8378",
   "metadata": {},
   "outputs": [],
   "source": [
    "대부분의 분류 모델들은 오차 최소화를 목적으로 설계되었지만 "
   ]
  },
  {
   "cell_type": "code",
   "execution_count": null,
   "id": "1887fca4",
   "metadata": {},
   "outputs": [],
   "source": []
  },
  {
   "cell_type": "code",
   "execution_count": null,
   "id": "36123ec8",
   "metadata": {},
   "outputs": [],
   "source": []
  }
 ],
 "metadata": {
  "kernelspec": {
   "display_name": "Python 3",
   "language": "python",
   "name": "python3"
  },
  "language_info": {
   "codemirror_mode": {
    "name": "ipython",
    "version": 3
   },
   "file_extension": ".py",
   "mimetype": "text/x-python",
   "name": "python",
   "nbconvert_exporter": "python",
   "pygments_lexer": "ipython3",
   "version": "3.8.8"
  }
 },
 "nbformat": 4,
 "nbformat_minor": 5
}
