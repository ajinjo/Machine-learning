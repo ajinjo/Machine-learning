{
 "cells": [
  {
   "cell_type": "markdown",
   "id": "4bbefef0",
   "metadata": {},
   "source": [
    "## 비트코인 가격 예측 : ARIMA"
   ]
  },
  {
   "cell_type": "markdown",
   "id": "a1e2096c",
   "metadata": {},
   "source": [
    "### ARIMA 모델 활용 비트코인 시세 예측"
   ]
  },
  {
   "cell_type": "code",
   "execution_count": null,
   "id": "b906ed3e",
   "metadata": {},
   "outputs": [],
   "source": [
    "ARIMA : Autoregressive integrated moving average\n",
    "자동회귀누적이동평균 모델\n",
    "\n",
    "자동회귀이동평균(ARMA : Autoregressive moving average) 모델의 일반화\n",
    "\n",
    "ARIMA기법은 전통적인 시계열 예측 방법으로 크게 두 가지 개념을 포함 \n",
    "(1) AR(Autoregression) 모델로 자기 자신의 과거를 정보로 사용하는 개념 \n",
    "- 진화하는 관심 변수가 시차(즉, 이전) 값으로 회귀됨\n",
    "(2)  MA(Moving Average) 모델\n",
    "- 회귀 오류가 실제로 과거 여러 시간에 동시에 발생한 오류 항의 선형 조합 \n",
    "\n",
    "이 둘을 합친것을 ARMA 모델이라고 하며, \n",
    "- ARIMA(Autoregressice Integrated Moving Average) 모델은   \n",
    "- ARMA 모델에 추세 변동의 경향성 까지 반영한 방법\n",
    "\n",
    "\n",
    "- 파이썬에서는 statsmodels 모듈로 ARIMA 분석 수행 "
   ]
  },
  {
   "cell_type": "code",
   "execution_count": 1,
   "id": "f1e96eca",
   "metadata": {},
   "outputs": [],
   "source": [
    "import pandas as pd\n",
    "import numpy as np\n",
    "import matplotlib.pyplot as plt\n",
    "%matplotlib inline\n",
    "\n",
    "import warnings\n",
    "warnings.filterwarnings(\"ignore\")"
   ]
  },
  {
   "cell_type": "code",
   "execution_count": 2,
   "id": "b3b396af",
   "metadata": {},
   "outputs": [
    {
     "data": {
      "text/html": [
       "<div>\n",
       "<style scoped>\n",
       "    .dataframe tbody tr th:only-of-type {\n",
       "        vertical-align: middle;\n",
       "    }\n",
       "\n",
       "    .dataframe tbody tr th {\n",
       "        vertical-align: top;\n",
       "    }\n",
       "\n",
       "    .dataframe thead th {\n",
       "        text-align: right;\n",
       "    }\n",
       "</style>\n",
       "<table border=\"1\" class=\"dataframe\">\n",
       "  <thead>\n",
       "    <tr style=\"text-align: right;\">\n",
       "      <th></th>\n",
       "      <th>day</th>\n",
       "      <th>price</th>\n",
       "    </tr>\n",
       "  </thead>\n",
       "  <tbody>\n",
       "    <tr>\n",
       "      <th>0</th>\n",
       "      <td>2018-09-15 00:00:00</td>\n",
       "      <td>6487.12</td>\n",
       "    </tr>\n",
       "    <tr>\n",
       "      <th>1</th>\n",
       "      <td>2018-09-16 00:00:00</td>\n",
       "      <td>6522.39</td>\n",
       "    </tr>\n",
       "    <tr>\n",
       "      <th>2</th>\n",
       "      <td>2018-09-17 00:00:00</td>\n",
       "      <td>6497.37</td>\n",
       "    </tr>\n",
       "    <tr>\n",
       "      <th>3</th>\n",
       "      <td>2018-09-18 00:00:00</td>\n",
       "      <td>6253.99</td>\n",
       "    </tr>\n",
       "    <tr>\n",
       "      <th>4</th>\n",
       "      <td>2018-09-19 00:00:00</td>\n",
       "      <td>6342.39</td>\n",
       "    </tr>\n",
       "    <tr>\n",
       "      <th>...</th>\n",
       "      <td>...</td>\n",
       "      <td>...</td>\n",
       "    </tr>\n",
       "    <tr>\n",
       "      <th>1090</th>\n",
       "      <td>2021-09-09 00:00:00</td>\n",
       "      <td>46078.38</td>\n",
       "    </tr>\n",
       "    <tr>\n",
       "      <th>1091</th>\n",
       "      <td>2021-09-10 00:00:00</td>\n",
       "      <td>46368.69</td>\n",
       "    </tr>\n",
       "    <tr>\n",
       "      <th>1092</th>\n",
       "      <td>2021-09-11 00:00:00</td>\n",
       "      <td>44847.48</td>\n",
       "    </tr>\n",
       "    <tr>\n",
       "      <th>1093</th>\n",
       "      <td>2021-09-12 00:00:00</td>\n",
       "      <td>45144.79</td>\n",
       "    </tr>\n",
       "    <tr>\n",
       "      <th>1094</th>\n",
       "      <td>2021-09-13 00:00:00</td>\n",
       "      <td>46059.12</td>\n",
       "    </tr>\n",
       "  </tbody>\n",
       "</table>\n",
       "<p>1095 rows × 2 columns</p>\n",
       "</div>"
      ],
      "text/plain": [
       "                      day     price\n",
       "0     2018-09-15 00:00:00   6487.12\n",
       "1     2018-09-16 00:00:00   6522.39\n",
       "2     2018-09-17 00:00:00   6497.37\n",
       "3     2018-09-18 00:00:00   6253.99\n",
       "4     2018-09-19 00:00:00   6342.39\n",
       "...                   ...       ...\n",
       "1090  2021-09-09 00:00:00  46078.38\n",
       "1091  2021-09-10 00:00:00  46368.69\n",
       "1092  2021-09-11 00:00:00  44847.48\n",
       "1093  2021-09-12 00:00:00  45144.79\n",
       "1094  2021-09-13 00:00:00  46059.12\n",
       "\n",
       "[1095 rows x 2 columns]"
      ]
     },
     "execution_count": 2,
     "metadata": {},
     "output_type": "execute_result"
    }
   ],
   "source": [
    "# 사용 데이터\n",
    "# https://www.blockchain.com/ko/charts/market-price?timespan=60days\n",
    "\n",
    "file_path = './data/market-price_3y.csv'\n",
    "bitcoin_df = pd.read_csv(file_path, names =['day', 'price'], header=0)\n",
    "bitcoin_df"
   ]
  },
  {
   "cell_type": "code",
   "execution_count": 3,
   "id": "0474fd5f",
   "metadata": {},
   "outputs": [
    {
     "name": "stdout",
     "output_type": "stream",
     "text": [
      "<class 'pandas.core.frame.DataFrame'>\n",
      "RangeIndex: 1095 entries, 0 to 1094\n",
      "Data columns (total 2 columns):\n",
      " #   Column  Non-Null Count  Dtype  \n",
      "---  ------  --------------  -----  \n",
      " 0   day     1095 non-null   object \n",
      " 1   price   1095 non-null   float64\n",
      "dtypes: float64(1), object(1)\n",
      "memory usage: 17.2+ KB\n"
     ]
    }
   ],
   "source": [
    "bitcoin_df.info()"
   ]
  },
  {
   "cell_type": "code",
   "execution_count": 4,
   "id": "c61c67ce",
   "metadata": {},
   "outputs": [
    {
     "data": {
      "text/html": [
       "<div>\n",
       "<style scoped>\n",
       "    .dataframe tbody tr th:only-of-type {\n",
       "        vertical-align: middle;\n",
       "    }\n",
       "\n",
       "    .dataframe tbody tr th {\n",
       "        vertical-align: top;\n",
       "    }\n",
       "\n",
       "    .dataframe thead th {\n",
       "        text-align: right;\n",
       "    }\n",
       "</style>\n",
       "<table border=\"1\" class=\"dataframe\">\n",
       "  <thead>\n",
       "    <tr style=\"text-align: right;\">\n",
       "      <th></th>\n",
       "      <th>day</th>\n",
       "      <th>price</th>\n",
       "    </tr>\n",
       "  </thead>\n",
       "  <tbody>\n",
       "    <tr>\n",
       "      <th>0</th>\n",
       "      <td>2018-09-15</td>\n",
       "      <td>6487.12</td>\n",
       "    </tr>\n",
       "    <tr>\n",
       "      <th>1</th>\n",
       "      <td>2018-09-16</td>\n",
       "      <td>6522.39</td>\n",
       "    </tr>\n",
       "    <tr>\n",
       "      <th>2</th>\n",
       "      <td>2018-09-17</td>\n",
       "      <td>6497.37</td>\n",
       "    </tr>\n",
       "    <tr>\n",
       "      <th>3</th>\n",
       "      <td>2018-09-18</td>\n",
       "      <td>6253.99</td>\n",
       "    </tr>\n",
       "    <tr>\n",
       "      <th>4</th>\n",
       "      <td>2018-09-19</td>\n",
       "      <td>6342.39</td>\n",
       "    </tr>\n",
       "    <tr>\n",
       "      <th>...</th>\n",
       "      <td>...</td>\n",
       "      <td>...</td>\n",
       "    </tr>\n",
       "    <tr>\n",
       "      <th>1090</th>\n",
       "      <td>2021-09-09</td>\n",
       "      <td>46078.38</td>\n",
       "    </tr>\n",
       "    <tr>\n",
       "      <th>1091</th>\n",
       "      <td>2021-09-10</td>\n",
       "      <td>46368.69</td>\n",
       "    </tr>\n",
       "    <tr>\n",
       "      <th>1092</th>\n",
       "      <td>2021-09-11</td>\n",
       "      <td>44847.48</td>\n",
       "    </tr>\n",
       "    <tr>\n",
       "      <th>1093</th>\n",
       "      <td>2021-09-12</td>\n",
       "      <td>45144.79</td>\n",
       "    </tr>\n",
       "    <tr>\n",
       "      <th>1094</th>\n",
       "      <td>2021-09-13</td>\n",
       "      <td>46059.12</td>\n",
       "    </tr>\n",
       "  </tbody>\n",
       "</table>\n",
       "<p>1095 rows × 2 columns</p>\n",
       "</div>"
      ],
      "text/plain": [
       "            day     price\n",
       "0    2018-09-15   6487.12\n",
       "1    2018-09-16   6522.39\n",
       "2    2018-09-17   6497.37\n",
       "3    2018-09-18   6253.99\n",
       "4    2018-09-19   6342.39\n",
       "...         ...       ...\n",
       "1090 2021-09-09  46078.38\n",
       "1091 2021-09-10  46368.69\n",
       "1092 2021-09-11  44847.48\n",
       "1093 2021-09-12  45144.79\n",
       "1094 2021-09-13  46059.12\n",
       "\n",
       "[1095 rows x 2 columns]"
      ]
     },
     "execution_count": 4,
     "metadata": {},
     "output_type": "execute_result"
    }
   ],
   "source": [
    "# 문자열 day를 날짜형으로 형변환 : to_datetime()\n",
    "bitcoin_df['day'] = pd.to_datetime(bitcoin_df['day'] )\n",
    "bitcoin_df"
   ]
  },
  {
   "cell_type": "code",
   "execution_count": 5,
   "id": "55cb2c43",
   "metadata": {},
   "outputs": [
    {
     "data": {
      "text/html": [
       "<div>\n",
       "<style scoped>\n",
       "    .dataframe tbody tr th:only-of-type {\n",
       "        vertical-align: middle;\n",
       "    }\n",
       "\n",
       "    .dataframe tbody tr th {\n",
       "        vertical-align: top;\n",
       "    }\n",
       "\n",
       "    .dataframe thead th {\n",
       "        text-align: right;\n",
       "    }\n",
       "</style>\n",
       "<table border=\"1\" class=\"dataframe\">\n",
       "  <thead>\n",
       "    <tr style=\"text-align: right;\">\n",
       "      <th></th>\n",
       "      <th>price</th>\n",
       "    </tr>\n",
       "    <tr>\n",
       "      <th>day</th>\n",
       "      <th></th>\n",
       "    </tr>\n",
       "  </thead>\n",
       "  <tbody>\n",
       "    <tr>\n",
       "      <th>2018-09-15</th>\n",
       "      <td>6487.12</td>\n",
       "    </tr>\n",
       "    <tr>\n",
       "      <th>2018-09-16</th>\n",
       "      <td>6522.39</td>\n",
       "    </tr>\n",
       "    <tr>\n",
       "      <th>2018-09-17</th>\n",
       "      <td>6497.37</td>\n",
       "    </tr>\n",
       "    <tr>\n",
       "      <th>2018-09-18</th>\n",
       "      <td>6253.99</td>\n",
       "    </tr>\n",
       "    <tr>\n",
       "      <th>2018-09-19</th>\n",
       "      <td>6342.39</td>\n",
       "    </tr>\n",
       "  </tbody>\n",
       "</table>\n",
       "</div>"
      ],
      "text/plain": [
       "              price\n",
       "day                \n",
       "2018-09-15  6487.12\n",
       "2018-09-16  6522.39\n",
       "2018-09-17  6497.37\n",
       "2018-09-18  6253.99\n",
       "2018-09-19  6342.39"
      ]
     },
     "execution_count": 5,
     "metadata": {},
     "output_type": "execute_result"
    }
   ],
   "source": [
    "# day로 인덱스 설정\n",
    "bitcoin_df.set_index('day', inplace=True)\n",
    "bitcoin_df.head()"
   ]
  },
  {
   "cell_type": "code",
   "execution_count": 6,
   "id": "5ecf7952",
   "metadata": {},
   "outputs": [
    {
     "data": {
      "text/html": [
       "<div>\n",
       "<style scoped>\n",
       "    .dataframe tbody tr th:only-of-type {\n",
       "        vertical-align: middle;\n",
       "    }\n",
       "\n",
       "    .dataframe tbody tr th {\n",
       "        vertical-align: top;\n",
       "    }\n",
       "\n",
       "    .dataframe thead th {\n",
       "        text-align: right;\n",
       "    }\n",
       "</style>\n",
       "<table border=\"1\" class=\"dataframe\">\n",
       "  <thead>\n",
       "    <tr style=\"text-align: right;\">\n",
       "      <th></th>\n",
       "      <th>price</th>\n",
       "    </tr>\n",
       "    <tr>\n",
       "      <th>day</th>\n",
       "      <th></th>\n",
       "    </tr>\n",
       "  </thead>\n",
       "  <tbody>\n",
       "    <tr>\n",
       "      <th>2021-09-09</th>\n",
       "      <td>46078.38</td>\n",
       "    </tr>\n",
       "    <tr>\n",
       "      <th>2021-09-10</th>\n",
       "      <td>46368.69</td>\n",
       "    </tr>\n",
       "    <tr>\n",
       "      <th>2021-09-11</th>\n",
       "      <td>44847.48</td>\n",
       "    </tr>\n",
       "    <tr>\n",
       "      <th>2021-09-12</th>\n",
       "      <td>45144.79</td>\n",
       "    </tr>\n",
       "    <tr>\n",
       "      <th>2021-09-13</th>\n",
       "      <td>46059.12</td>\n",
       "    </tr>\n",
       "  </tbody>\n",
       "</table>\n",
       "</div>"
      ],
      "text/plain": [
       "               price\n",
       "day                 \n",
       "2021-09-09  46078.38\n",
       "2021-09-10  46368.69\n",
       "2021-09-11  44847.48\n",
       "2021-09-12  45144.79\n",
       "2021-09-13  46059.12"
      ]
     },
     "execution_count": 6,
     "metadata": {},
     "output_type": "execute_result"
    }
   ],
   "source": [
    "bitcoin_df.tail()"
   ]
  },
  {
   "cell_type": "code",
   "execution_count": 57,
   "id": "ddf16eda",
   "metadata": {},
   "outputs": [
    {
     "data": {
      "text/html": [
       "<div>\n",
       "<style scoped>\n",
       "    .dataframe tbody tr th:only-of-type {\n",
       "        vertical-align: middle;\n",
       "    }\n",
       "\n",
       "    .dataframe tbody tr th {\n",
       "        vertical-align: top;\n",
       "    }\n",
       "\n",
       "    .dataframe thead th {\n",
       "        text-align: right;\n",
       "    }\n",
       "</style>\n",
       "<table border=\"1\" class=\"dataframe\">\n",
       "  <thead>\n",
       "    <tr style=\"text-align: right;\">\n",
       "      <th></th>\n",
       "      <th>price</th>\n",
       "    </tr>\n",
       "    <tr>\n",
       "      <th>day</th>\n",
       "      <th></th>\n",
       "    </tr>\n",
       "  </thead>\n",
       "  <tbody>\n",
       "    <tr>\n",
       "      <th>2020-08-30</th>\n",
       "      <td>11481.64</td>\n",
       "    </tr>\n",
       "    <tr>\n",
       "      <th>2020-08-31</th>\n",
       "      <td>11707.78</td>\n",
       "    </tr>\n",
       "    <tr>\n",
       "      <th>2020-09-01</th>\n",
       "      <td>11659.57</td>\n",
       "    </tr>\n",
       "    <tr>\n",
       "      <th>2020-09-02</th>\n",
       "      <td>11923.25</td>\n",
       "    </tr>\n",
       "    <tr>\n",
       "      <th>2020-09-03</th>\n",
       "      <td>11397.44</td>\n",
       "    </tr>\n",
       "    <tr>\n",
       "      <th>...</th>\n",
       "      <td>...</td>\n",
       "    </tr>\n",
       "    <tr>\n",
       "      <th>2021-08-27</th>\n",
       "      <td>46962.80</td>\n",
       "    </tr>\n",
       "    <tr>\n",
       "      <th>2021-08-28</th>\n",
       "      <td>49056.86</td>\n",
       "    </tr>\n",
       "    <tr>\n",
       "      <th>2021-08-29</th>\n",
       "      <td>48897.65</td>\n",
       "    </tr>\n",
       "    <tr>\n",
       "      <th>2021-08-30</th>\n",
       "      <td>48806.78</td>\n",
       "    </tr>\n",
       "    <tr>\n",
       "      <th>2021-08-31</th>\n",
       "      <td>47074.77</td>\n",
       "    </tr>\n",
       "  </tbody>\n",
       "</table>\n",
       "<p>367 rows × 1 columns</p>\n",
       "</div>"
      ],
      "text/plain": [
       "               price\n",
       "day                 \n",
       "2020-08-30  11481.64\n",
       "2020-08-31  11707.78\n",
       "2020-09-01  11659.57\n",
       "2020-09-02  11923.25\n",
       "2020-09-03  11397.44\n",
       "...              ...\n",
       "2021-08-27  46962.80\n",
       "2021-08-28  49056.86\n",
       "2021-08-29  48897.65\n",
       "2021-08-30  48806.78\n",
       "2021-08-31  47074.77\n",
       "\n",
       "[367 rows x 1 columns]"
      ]
     },
     "execution_count": 57,
     "metadata": {},
     "output_type": "execute_result"
    }
   ],
   "source": [
    "# 학습/예측에 사용할 데이터\n",
    "train_df = bitcoin_df.loc['2020-08-30':'2021-08-31']\n",
    "train_df"
   ]
  },
  {
   "cell_type": "code",
   "execution_count": 58,
   "id": "44ff8b96",
   "metadata": {},
   "outputs": [
    {
     "data": {
      "text/html": [
       "<div>\n",
       "<style scoped>\n",
       "    .dataframe tbody tr th:only-of-type {\n",
       "        vertical-align: middle;\n",
       "    }\n",
       "\n",
       "    .dataframe tbody tr th {\n",
       "        vertical-align: top;\n",
       "    }\n",
       "\n",
       "    .dataframe thead th {\n",
       "        text-align: right;\n",
       "    }\n",
       "</style>\n",
       "<table border=\"1\" class=\"dataframe\">\n",
       "  <thead>\n",
       "    <tr style=\"text-align: right;\">\n",
       "      <th></th>\n",
       "      <th>price</th>\n",
       "    </tr>\n",
       "    <tr>\n",
       "      <th>day</th>\n",
       "      <th></th>\n",
       "    </tr>\n",
       "  </thead>\n",
       "  <tbody>\n",
       "    <tr>\n",
       "      <th>2021-09-01</th>\n",
       "      <td>47155.87</td>\n",
       "    </tr>\n",
       "    <tr>\n",
       "      <th>2021-09-02</th>\n",
       "      <td>48862.76</td>\n",
       "    </tr>\n",
       "    <tr>\n",
       "      <th>2021-09-03</th>\n",
       "      <td>49329.01</td>\n",
       "    </tr>\n",
       "    <tr>\n",
       "      <th>2021-09-04</th>\n",
       "      <td>50035.33</td>\n",
       "    </tr>\n",
       "    <tr>\n",
       "      <th>2021-09-05</th>\n",
       "      <td>49947.38</td>\n",
       "    </tr>\n",
       "    <tr>\n",
       "      <th>2021-09-06</th>\n",
       "      <td>51769.06</td>\n",
       "    </tr>\n",
       "    <tr>\n",
       "      <th>2021-09-07</th>\n",
       "      <td>52677.40</td>\n",
       "    </tr>\n",
       "    <tr>\n",
       "      <th>2021-09-08</th>\n",
       "      <td>46809.17</td>\n",
       "    </tr>\n",
       "    <tr>\n",
       "      <th>2021-09-09</th>\n",
       "      <td>46078.38</td>\n",
       "    </tr>\n",
       "    <tr>\n",
       "      <th>2021-09-10</th>\n",
       "      <td>46368.69</td>\n",
       "    </tr>\n",
       "  </tbody>\n",
       "</table>\n",
       "</div>"
      ],
      "text/plain": [
       "               price\n",
       "day                 \n",
       "2021-09-01  47155.87\n",
       "2021-09-02  48862.76\n",
       "2021-09-03  49329.01\n",
       "2021-09-04  50035.33\n",
       "2021-09-05  49947.38\n",
       "2021-09-06  51769.06\n",
       "2021-09-07  52677.40\n",
       "2021-09-08  46809.17\n",
       "2021-09-09  46078.38\n",
       "2021-09-10  46368.69"
      ]
     },
     "execution_count": 58,
     "metadata": {},
     "output_type": "execute_result"
    }
   ],
   "source": [
    "# 실제값 데이터로 사용\n",
    "test_df = bitcoin_df.loc['2021-09-01':'2021-09-10']\n",
    "test_df"
   ]
  },
  {
   "cell_type": "code",
   "execution_count": 59,
   "id": "b23152db",
   "metadata": {},
   "outputs": [
    {
     "data": {
      "image/png": "[encoded data removed]",
      "text/plain": [
       "<Figure size 432x288 with 1 Axes>"
      ]
     },
     "metadata": {
      "needs_background": "light"
     },
     "output_type": "display_data"
    }
   ],
   "source": [
    "# 일자별 비트코인 시세 시각화\n",
    "train_df.plot()\n",
    "plt.show()"
   ]
  },
  {
   "cell_type": "code",
   "execution_count": 60,
   "id": "595c254d",
   "metadata": {},
   "outputs": [],
   "source": [
    "# statsmodels 설치\n",
    "# pip install statsmodels"
   ]
  },
  {
   "cell_type": "markdown",
   "id": "15bd2336",
   "metadata": {},
   "source": [
    "### ARIMA 모델 생성"
   ]
  },
  {
   "cell_type": "markdown",
   "id": "2c633970",
   "metadata": {},
   "source": [
    "-ARIMA 클래스에 order=(2,1,2)라고 입력되어진 파라미터는   \n",
    "-AR이 몇번째 과거까지를 바라보는지에 대한 파라미터 (2),   \n",
    "-차분(Defference)에 대한 파라미터(1),  \n",
    "-MA가 몇 번째 과거까지를 바라보는지에 대한 파라미터(2)’를 의미  \n",
    "\n",
    "차분이란 현재 상태의 변수에서 바로 전 상태의 변수를 빼주는 것을 의미하며,   \n",
    "시계열 데이터의 불규칙성을 조금이나마 보정해주는 역할을 함   \n",
    "또한 앞서 말한 ARIMA 모델의 경향성을 의미 "
   ]
  },
  {
   "cell_type": "code",
   "execution_count": 61,
   "id": "f66fe929",
   "metadata": {},
   "outputs": [],
   "source": [
    "from statsmodels.tsa.arima_model import ARIMA\n",
    "import statsmodels.api as sm\n",
    "\n",
    "# (AR:2, 차분:1, MA:2)\n",
    "model = ARIMA(train_df.price.values, order=(2,1,2))\n",
    "model_fit = model.fit(trend='c', full_output=True, disp=True)"
   ]
  },
  {
   "cell_type": "code",
   "execution_count": 62,
   "id": "a0bf1f4a",
   "metadata": {},
   "outputs": [
    {
     "name": "stdout",
     "output_type": "stream",
     "text": [
      "                             ARIMA Model Results                              \n",
      "==============================================================================\n",
      "Dep. Variable:                    D.y   No. Observations:                  366\n",
      "Model:                 ARIMA(2, 1, 2)   Log Likelihood               -3223.427\n",
      "Method:                       css-mle   S.D. of innovations           1616.786\n",
      "Date:                Tue, 14 Sep 2021   AIC                           6458.853\n",
      "Time:                        10:19:27   BIC                           6482.269\n",
      "Sample:                             1   HQIC                          6468.158\n",
      "                                                                              \n",
      "==============================================================================\n",
      "                 coef    std err          z      P>|z|      [0.025      0.975]\n",
      "------------------------------------------------------------------------------\n",
      "const         97.2489     89.504      1.087      0.277     -78.176     272.674\n",
      "ar.L1.D.y      0.4083      0.432      0.945      0.345      -0.439       1.255\n",
      "ar.L2.D.y      0.0227      0.345      0.066      0.947      -0.654       0.699\n",
      "ma.L1.D.y     -0.5040      0.430     -1.172      0.241      -1.347       0.339\n",
      "ma.L2.D.y      0.1071      0.339      0.316      0.752      -0.557       0.772\n",
      "                                    Roots                                    \n",
      "=============================================================================\n",
      "                  Real          Imaginary           Modulus         Frequency\n",
      "-----------------------------------------------------------------------------\n",
      "AR.1            2.1835           +0.0000j            2.1835            0.0000\n",
      "AR.2          -20.1450           +0.0000j           20.1450            0.5000\n",
      "MA.1            2.3536           -1.9493j            3.0560           -0.1101\n",
      "MA.2            2.3536           +1.9493j            3.0560            0.1101\n",
      "-----------------------------------------------------------------------------\n"
     ]
    }
   ],
   "source": [
    "print(model_fit.summary())"
   ]
  },
  {
   "cell_type": "code",
   "execution_count": 63,
   "id": "6e85c407",
   "metadata": {},
   "outputs": [
    {
     "data": {
      "text/plain": [
       "<AxesSubplot:>"
      ]
     },
     "execution_count": 63,
     "metadata": {},
     "output_type": "execute_result"
    },
    {
     "data": {
      "image/png": "[encoded data removed]",
      "text/plain": [
       "<Figure size 432x288 with 1 Axes>"
      ]
     },
     "metadata": {
      "needs_background": "light"
     },
     "output_type": "display_data"
    },
    {
     "data": {
      "image/png": "[encoded data removed]",
      "text/plain": [
       "<Figure size 432x288 with 1 Axes>"
      ]
     },
     "metadata": {
      "needs_background": "light"
     },
     "output_type": "display_data"
    }
   ],
   "source": [
    "# 예측 시각화\n",
    "fig = model_fit.plot_predict() # 학습 데이터에 대한 예측 결과 (첫 번째 그래프)\n",
    "residuals = pd.DataFrame(model_fit.resid) # 잔차 변동 시각화 (두 번째 그래프)\n",
    "residuals.plot()"
   ]
  },
  {
   "cell_type": "markdown",
   "id": "07459148",
   "metadata": {},
   "source": [
    "### 실제 데이터와 비교"
   ]
  },
  {
   "cell_type": "code",
   "execution_count": 64,
   "id": "16bd427f",
   "metadata": {},
   "outputs": [],
   "source": [
    "# 학습 데이터 이후 5일 예측값을 실제값 비교\n",
    "# 실제값 : test_df 가정"
   ]
  },
  {
   "cell_type": "code",
   "execution_count": 65,
   "id": "81adf6aa",
   "metadata": {},
   "outputs": [],
   "source": [
    "forecast_data = model_fit.forecast(steps=10) # 학습 데이터 셋 이후 5일 뒤 예측\n",
    "\n",
    "pred_y = forecast_data[0].tolist()# 5일 예측값\n",
    "test_y = test_df.price.values #  5일 실제값\n",
    "\n",
    "pred_y_lower = []\n",
    "pred_y_upper = []\n",
    "\n",
    "for lower_upper in forecast_data[2]:\n",
    "    lower = lower_upper[0]\n",
    "    upper = lower_upper[1]\n",
    "    pred_y_lower.append(lower)\n",
    "    pred_y_upper.append(upper)"
   ]
  },
  {
   "cell_type": "code",
   "execution_count": 66,
   "id": "74a92d5d",
   "metadata": {},
   "outputs": [
    {
     "data": {
      "text/plain": [
       "(array([47346.73488674, 47270.64842462, 47301.09113254, 47367.12043616,\n",
       "        47450.10264318, 47540.81625589, 47635.07224105, 47730.95044908,\n",
       "        47827.57159172, 47924.53297649]),\n",
       " array([1616.78627938, 2179.82898931, 2709.20716897, 3180.02396857,\n",
       "        3601.91322338, 3984.45713153, 4335.53315471, 4661.16296939,\n",
       "        4965.88314528, 5253.12919024]),\n",
       " array([[44177.89200846, 50515.57776503],\n",
       "        [42998.2621131 , 51543.03473613],\n",
       "        [41991.14265471, 52611.03961037],\n",
       "        [41134.3879878 , 53599.85288452],\n",
       "        [40390.48244991, 54509.72283645],\n",
       "        [39731.42378014, 55350.20873164],\n",
       "        [39137.58340405, 56132.56107806],\n",
       "        [38595.238903  , 56866.66199515],\n",
       "        [38094.61947554, 57560.5237079 ],\n",
       "        [37628.58895748, 58220.4769955 ]]))"
      ]
     },
     "execution_count": 66,
     "metadata": {},
     "output_type": "execute_result"
    }
   ],
   "source": [
    "forecast_data\n",
    "\n",
    "# forecast() 반환값\n",
    "# forecast : ndarray\n",
    "#     Array of out of sample forecasts\n",
    "# stderr : ndarray\n",
    "#     Array of the standard error of the forecasts.\n",
    "# conf_int : ndarray\n",
    "#     2d array of the confidence interval for the forecast"
   ]
  },
  {
   "cell_type": "code",
   "execution_count": 67,
   "id": "3228eb79",
   "metadata": {},
   "outputs": [
    {
     "data": {
      "text/plain": [
       "[<matplotlib.lines.Line2D at 0x1e914ed9408>]"
      ]
     },
     "execution_count": 67,
     "metadata": {},
     "output_type": "execute_result"
    },
    {
     "data": {
      "image/png": "[encoded data removed]",
      "text/plain": [
       "<Figure size 432x288 with 1 Axes>"
      ]
     },
     "metadata": {
      "needs_background": "light"
     },
     "output_type": "display_data"
    }
   ],
   "source": [
    "plt.plot(pred_y, color='gold') # 모델이 예상한 가격 그래프\n",
    "plt.plot(pred_y_lower, color='red') # 모델이 예상한 최소가격 그래프\n",
    "plt.plot(pred_y_upper, color='blue') # 모델이 예상한 최대가격 그래프\n",
    "plt.plot(test_y, color='green') # 실제 가격 그래프"
   ]
  },
  {
   "cell_type": "code",
   "execution_count": 68,
   "id": "a2e2c50d",
   "metadata": {},
   "outputs": [
    {
     "data": {
      "text/plain": [
       "[<matplotlib.lines.Line2D at 0x1e9155a7448>]"
      ]
     },
     "execution_count": 68,
     "metadata": {},
     "output_type": "execute_result"
    },
    {
     "data": {
      "image/png": "[encoded data removed]",
      "text/plain": [
       "<Figure size 432x288 with 1 Axes>"
      ]
     },
     "metadata": {
      "needs_background": "light"
     },
     "output_type": "display_data"
    }
   ],
   "source": [
    "plt.plot(pred_y, color='gold') # 모델이 예상한 가격 그래프\n",
    "plt.plot(test_y, color='green') # 실제 가격 그래프"
   ]
  },
  {
   "cell_type": "code",
   "execution_count": 69,
   "id": "fe01c321",
   "metadata": {},
   "outputs": [
    {
     "data": {
      "text/plain": [
       "[47346.73488674357,\n",
       " 47270.648424615836,\n",
       " 47301.09113254052,\n",
       " 47367.12043616084,\n",
       " 47450.10264318379,\n",
       " 47540.816255888254,\n",
       " 47635.07224105403,\n",
       " 47730.95044907737,\n",
       " 47827.57159171646,\n",
       " 47924.53297648952]"
      ]
     },
     "execution_count": 69,
     "metadata": {},
     "output_type": "execute_result"
    }
   ],
   "source": [
    "pred_y"
   ]
  },
  {
   "cell_type": "code",
   "execution_count": 70,
   "id": "5e864283",
   "metadata": {},
   "outputs": [
    {
     "data": {
      "text/plain": [
       "array([47155.87, 48862.76, 49329.01, 50035.33, 49947.38, 51769.06,\n",
       "       52677.4 , 46809.17, 46078.38, 46368.69])"
      ]
     },
     "execution_count": 70,
     "metadata": {},
     "output_type": "execute_result"
    }
   ],
   "source": [
    "test_y"
   ]
  },
  {
   "cell_type": "code",
   "execution_count": 71,
   "id": "84d6812f",
   "metadata": {},
   "outputs": [
    {
     "name": "stdout",
     "output_type": "stream",
     "text": [
      "2639.5558765912415\n"
     ]
    }
   ],
   "source": [
    "from sklearn.metrics import mean_squared_error, r2_score\n",
    "from math import sqrt\n",
    "\n",
    "rmse = sqrt(mean_squared_error(pred_y, test_y))\n",
    "print(rmse)"
   ]
  },
  {
   "cell_type": "code",
   "execution_count": null,
   "id": "3a9e5736",
   "metadata": {},
   "outputs": [],
   "source": []
  },
  {
   "cell_type": "code",
   "execution_count": null,
   "id": "6b319ab0",
   "metadata": {},
   "outputs": [],
   "source": []
  },
  {
   "cell_type": "code",
   "execution_count": null,
   "id": "23fad49f",
   "metadata": {},
   "outputs": [],
   "source": []
  },
  {
   "cell_type": "code",
   "execution_count": null,
   "id": "dddf42de",
   "metadata": {},
   "outputs": [],
   "source": []
  },
  {
   "cell_type": "code",
   "execution_count": null,
   "id": "867885b7",
   "metadata": {},
   "outputs": [],
   "source": []
  }
 ],
 "metadata": {
  "kernelspec": {
   "display_name": "MY_ENV",
   "language": "python",
   "name": "myenv"
  },
  "language_info": {
   "codemirror_mode": {
    "name": "ipython",
    "version": 3
   },
   "file_extension": ".py",
   "mimetype": "text/x-python",
   "name": "python",
   "nbconvert_exporter": "python",
   "pygments_lexer": "ipython3",
   "version": "3.7.11"
  }
 },
 "nbformat": 4,
 "nbformat_minor": 5
}
